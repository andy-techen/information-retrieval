{
  "nbformat": 4,
  "nbformat_minor": 0,
  "metadata": {
    "accelerator": "TPU",
    "colab": {
      "name": "Homework 3 Part 3 - Deep Learning Models.ipynb",
      "provenance": [],
      "collapsed_sections": [],
      "toc_visible": true
    },
    "kernelspec": {
      "display_name": "Python 3",
      "language": "python",
      "name": "python3"
    },
    "language_info": {
      "codemirror_mode": {
        "name": "ipython",
        "version": 3
      },
      "file_extension": ".py",
      "mimetype": "text/x-python",
      "name": "python",
      "nbconvert_exporter": "python",
      "pygments_lexer": "ipython3",
      "version": "3.8.8"
    },
    "widgets": {
      "application/vnd.jupyter.widget-state+json": {
        "096daae7f9f743b9ab0a794b0244b27b": {
          "model_module": "@jupyter-widgets/controls",
          "model_name": "HBoxModel",
          "model_module_version": "1.5.0",
          "state": {
            "_view_name": "HBoxView",
            "_dom_classes": [],
            "_model_name": "HBoxModel",
            "_view_module": "@jupyter-widgets/controls",
            "_model_module_version": "1.5.0",
            "_view_count": null,
            "_view_module_version": "1.5.0",
            "box_style": "",
            "layout": "IPY_MODEL_c524e0471de34b7491f0c05067c6a56f",
            "_model_module": "@jupyter-widgets/controls",
            "children": [
              "IPY_MODEL_6c0a278dfbe947c5a191521ed45b64cb",
              "IPY_MODEL_e91fa916602b4573922e1b78a835c3f7",
              "IPY_MODEL_0bd625c4dc8544909fa07edf47f53771"
            ]
          }
        },
        "c524e0471de34b7491f0c05067c6a56f": {
          "model_module": "@jupyter-widgets/base",
          "model_name": "LayoutModel",
          "model_module_version": "1.2.0",
          "state": {
            "_view_name": "LayoutView",
            "grid_template_rows": null,
            "right": null,
            "justify_content": null,
            "_view_module": "@jupyter-widgets/base",
            "overflow": null,
            "_model_module_version": "1.2.0",
            "_view_count": null,
            "flex_flow": null,
            "width": null,
            "min_width": null,
            "border": null,
            "align_items": null,
            "bottom": null,
            "_model_module": "@jupyter-widgets/base",
            "top": null,
            "grid_column": null,
            "overflow_y": null,
            "overflow_x": null,
            "grid_auto_flow": null,
            "grid_area": null,
            "grid_template_columns": null,
            "flex": null,
            "_model_name": "LayoutModel",
            "justify_items": null,
            "grid_row": null,
            "max_height": null,
            "align_content": null,
            "visibility": null,
            "align_self": null,
            "height": null,
            "min_height": null,
            "padding": null,
            "grid_auto_rows": null,
            "grid_gap": null,
            "max_width": null,
            "order": null,
            "_view_module_version": "1.2.0",
            "grid_template_areas": null,
            "object_position": null,
            "object_fit": null,
            "grid_auto_columns": null,
            "margin": null,
            "display": null,
            "left": null
          }
        },
        "6c0a278dfbe947c5a191521ed45b64cb": {
          "model_module": "@jupyter-widgets/controls",
          "model_name": "HTMLModel",
          "model_module_version": "1.5.0",
          "state": {
            "_view_name": "HTMLView",
            "style": "IPY_MODEL_2065d59901394c8faa6450c4926515bf",
            "_dom_classes": [],
            "description": "",
            "_model_name": "HTMLModel",
            "placeholder": "​",
            "_view_module": "@jupyter-widgets/controls",
            "_model_module_version": "1.5.0",
            "value": "cord19/trec-covid documents: 100%",
            "_view_count": null,
            "_view_module_version": "1.5.0",
            "description_tooltip": null,
            "_model_module": "@jupyter-widgets/controls",
            "layout": "IPY_MODEL_401286ad69c14995925724ef0feaaa42"
          }
        },
        "e91fa916602b4573922e1b78a835c3f7": {
          "model_module": "@jupyter-widgets/controls",
          "model_name": "FloatProgressModel",
          "model_module_version": "1.5.0",
          "state": {
            "_view_name": "ProgressView",
            "style": "IPY_MODEL_235ffc6189e84754ae09af476564b54d",
            "_dom_classes": [],
            "description": "",
            "_model_name": "FloatProgressModel",
            "bar_style": "success",
            "max": 192509,
            "_view_module": "@jupyter-widgets/controls",
            "_model_module_version": "1.5.0",
            "value": 192509,
            "_view_count": null,
            "_view_module_version": "1.5.0",
            "orientation": "horizontal",
            "min": 0,
            "description_tooltip": null,
            "_model_module": "@jupyter-widgets/controls",
            "layout": "IPY_MODEL_0ada3833af4e494cba13fb903ca5ab0c"
          }
        },
        "0bd625c4dc8544909fa07edf47f53771": {
          "model_module": "@jupyter-widgets/controls",
          "model_name": "HTMLModel",
          "model_module_version": "1.5.0",
          "state": {
            "_view_name": "HTMLView",
            "style": "IPY_MODEL_f9fa8af2e1f543d79afff0a7ce0a872e",
            "_dom_classes": [],
            "description": "",
            "_model_name": "HTMLModel",
            "placeholder": "​",
            "_view_module": "@jupyter-widgets/controls",
            "_model_module_version": "1.5.0",
            "value": " 192509/192509 [01:43&lt;0ms, 2090.16it/s]",
            "_view_count": null,
            "_view_module_version": "1.5.0",
            "description_tooltip": null,
            "_model_module": "@jupyter-widgets/controls",
            "layout": "IPY_MODEL_a9fd5a634bbc43418aeeafdb2bf72908"
          }
        },
        "2065d59901394c8faa6450c4926515bf": {
          "model_module": "@jupyter-widgets/controls",
          "model_name": "DescriptionStyleModel",
          "model_module_version": "1.5.0",
          "state": {
            "_view_name": "StyleView",
            "_model_name": "DescriptionStyleModel",
            "description_width": "",
            "_view_module": "@jupyter-widgets/base",
            "_model_module_version": "1.5.0",
            "_view_count": null,
            "_view_module_version": "1.2.0",
            "_model_module": "@jupyter-widgets/controls"
          }
        },
        "401286ad69c14995925724ef0feaaa42": {
          "model_module": "@jupyter-widgets/base",
          "model_name": "LayoutModel",
          "model_module_version": "1.2.0",
          "state": {
            "_view_name": "LayoutView",
            "grid_template_rows": null,
            "right": null,
            "justify_content": null,
            "_view_module": "@jupyter-widgets/base",
            "overflow": null,
            "_model_module_version": "1.2.0",
            "_view_count": null,
            "flex_flow": null,
            "width": null,
            "min_width": null,
            "border": null,
            "align_items": null,
            "bottom": null,
            "_model_module": "@jupyter-widgets/base",
            "top": null,
            "grid_column": null,
            "overflow_y": null,
            "overflow_x": null,
            "grid_auto_flow": null,
            "grid_area": null,
            "grid_template_columns": null,
            "flex": null,
            "_model_name": "LayoutModel",
            "justify_items": null,
            "grid_row": null,
            "max_height": null,
            "align_content": null,
            "visibility": null,
            "align_self": null,
            "height": null,
            "min_height": null,
            "padding": null,
            "grid_auto_rows": null,
            "grid_gap": null,
            "max_width": null,
            "order": null,
            "_view_module_version": "1.2.0",
            "grid_template_areas": null,
            "object_position": null,
            "object_fit": null,
            "grid_auto_columns": null,
            "margin": null,
            "display": null,
            "left": null
          }
        },
        "235ffc6189e84754ae09af476564b54d": {
          "model_module": "@jupyter-widgets/controls",
          "model_name": "ProgressStyleModel",
          "model_module_version": "1.5.0",
          "state": {
            "_view_name": "StyleView",
            "_model_name": "ProgressStyleModel",
            "description_width": "",
            "_view_module": "@jupyter-widgets/base",
            "_model_module_version": "1.5.0",
            "_view_count": null,
            "_view_module_version": "1.2.0",
            "bar_color": null,
            "_model_module": "@jupyter-widgets/controls"
          }
        },
        "0ada3833af4e494cba13fb903ca5ab0c": {
          "model_module": "@jupyter-widgets/base",
          "model_name": "LayoutModel",
          "model_module_version": "1.2.0",
          "state": {
            "_view_name": "LayoutView",
            "grid_template_rows": null,
            "right": null,
            "justify_content": null,
            "_view_module": "@jupyter-widgets/base",
            "overflow": null,
            "_model_module_version": "1.2.0",
            "_view_count": null,
            "flex_flow": null,
            "width": null,
            "min_width": null,
            "border": null,
            "align_items": null,
            "bottom": null,
            "_model_module": "@jupyter-widgets/base",
            "top": null,
            "grid_column": null,
            "overflow_y": null,
            "overflow_x": null,
            "grid_auto_flow": null,
            "grid_area": null,
            "grid_template_columns": null,
            "flex": null,
            "_model_name": "LayoutModel",
            "justify_items": null,
            "grid_row": null,
            "max_height": null,
            "align_content": null,
            "visibility": null,
            "align_self": null,
            "height": null,
            "min_height": null,
            "padding": null,
            "grid_auto_rows": null,
            "grid_gap": null,
            "max_width": null,
            "order": null,
            "_view_module_version": "1.2.0",
            "grid_template_areas": null,
            "object_position": null,
            "object_fit": null,
            "grid_auto_columns": null,
            "margin": null,
            "display": null,
            "left": null
          }
        },
        "f9fa8af2e1f543d79afff0a7ce0a872e": {
          "model_module": "@jupyter-widgets/controls",
          "model_name": "DescriptionStyleModel",
          "model_module_version": "1.5.0",
          "state": {
            "_view_name": "StyleView",
            "_model_name": "DescriptionStyleModel",
            "description_width": "",
            "_view_module": "@jupyter-widgets/base",
            "_model_module_version": "1.5.0",
            "_view_count": null,
            "_view_module_version": "1.2.0",
            "_model_module": "@jupyter-widgets/controls"
          }
        },
        "a9fd5a634bbc43418aeeafdb2bf72908": {
          "model_module": "@jupyter-widgets/base",
          "model_name": "LayoutModel",
          "model_module_version": "1.2.0",
          "state": {
            "_view_name": "LayoutView",
            "grid_template_rows": null,
            "right": null,
            "justify_content": null,
            "_view_module": "@jupyter-widgets/base",
            "overflow": null,
            "_model_module_version": "1.2.0",
            "_view_count": null,
            "flex_flow": null,
            "width": null,
            "min_width": null,
            "border": null,
            "align_items": null,
            "bottom": null,
            "_model_module": "@jupyter-widgets/base",
            "top": null,
            "grid_column": null,
            "overflow_y": null,
            "overflow_x": null,
            "grid_auto_flow": null,
            "grid_area": null,
            "grid_template_columns": null,
            "flex": null,
            "_model_name": "LayoutModel",
            "justify_items": null,
            "grid_row": null,
            "max_height": null,
            "align_content": null,
            "visibility": null,
            "align_self": null,
            "height": null,
            "min_height": null,
            "padding": null,
            "grid_auto_rows": null,
            "grid_gap": null,
            "max_width": null,
            "order": null,
            "_view_module_version": "1.2.0",
            "grid_template_areas": null,
            "object_position": null,
            "object_fit": null,
            "grid_auto_columns": null,
            "margin": null,
            "display": null,
            "left": null
          }
        },
        "27efc50e431241b9b4c8e50b3f5ca279": {
          "model_module": "@jupyter-widgets/controls",
          "model_name": "HBoxModel",
          "model_module_version": "1.5.0",
          "state": {
            "_view_name": "HBoxView",
            "_dom_classes": [],
            "_model_name": "HBoxModel",
            "_view_module": "@jupyter-widgets/controls",
            "_model_module_version": "1.5.0",
            "_view_count": null,
            "_view_module_version": "1.5.0",
            "box_style": "",
            "layout": "IPY_MODEL_b6bf7c83ec514cb59461a3d5f2999892",
            "_model_module": "@jupyter-widgets/controls",
            "children": [
              "IPY_MODEL_5fb0e5da6d0f45f99a59196f200f9f9e",
              "IPY_MODEL_4a4a1794e6894de0a3f0bc98b28e2ec6",
              "IPY_MODEL_9b20beb87470444f87c129fc29f60d1b"
            ]
          }
        },
        "b6bf7c83ec514cb59461a3d5f2999892": {
          "model_module": "@jupyter-widgets/base",
          "model_name": "LayoutModel",
          "model_module_version": "1.2.0",
          "state": {
            "_view_name": "LayoutView",
            "grid_template_rows": null,
            "right": null,
            "justify_content": null,
            "_view_module": "@jupyter-widgets/base",
            "overflow": null,
            "_model_module_version": "1.2.0",
            "_view_count": null,
            "flex_flow": null,
            "width": null,
            "min_width": null,
            "border": null,
            "align_items": null,
            "bottom": null,
            "_model_module": "@jupyter-widgets/base",
            "top": null,
            "grid_column": null,
            "overflow_y": null,
            "overflow_x": null,
            "grid_auto_flow": null,
            "grid_area": null,
            "grid_template_columns": null,
            "flex": null,
            "_model_name": "LayoutModel",
            "justify_items": null,
            "grid_row": null,
            "max_height": null,
            "align_content": null,
            "visibility": null,
            "align_self": null,
            "height": null,
            "min_height": null,
            "padding": null,
            "grid_auto_rows": null,
            "grid_gap": null,
            "max_width": null,
            "order": null,
            "_view_module_version": "1.2.0",
            "grid_template_areas": null,
            "object_position": null,
            "object_fit": null,
            "grid_auto_columns": null,
            "margin": null,
            "display": null,
            "left": null
          }
        },
        "5fb0e5da6d0f45f99a59196f200f9f9e": {
          "model_module": "@jupyter-widgets/controls",
          "model_name": "HTMLModel",
          "model_module_version": "1.5.0",
          "state": {
            "_view_name": "HTMLView",
            "style": "IPY_MODEL_b4940f25382f445bb54a8f409157d7e0",
            "_dom_classes": [],
            "description": "",
            "_model_name": "HTMLModel",
            "placeholder": "​",
            "_view_module": "@jupyter-widgets/controls",
            "_model_module_version": "1.5.0",
            "value": "batches:  99%",
            "_view_count": null,
            "_view_module_version": "1.5.0",
            "description_tooltip": null,
            "_model_module": "@jupyter-widgets/controls",
            "layout": "IPY_MODEL_6afb7c9781634805988cf09dc11e1075"
          }
        },
        "4a4a1794e6894de0a3f0bc98b28e2ec6": {
          "model_module": "@jupyter-widgets/controls",
          "model_name": "FloatProgressModel",
          "model_module_version": "1.5.0",
          "state": {
            "_view_name": "ProgressView",
            "style": "IPY_MODEL_15a1c42280854beb9f03c7252feb9b60",
            "_dom_classes": [],
            "description": "",
            "_model_name": "FloatProgressModel",
            "bar_style": "",
            "max": 1250,
            "_view_module": "@jupyter-widgets/controls",
            "_model_module_version": "1.5.0",
            "value": 1250,
            "_view_count": null,
            "_view_module_version": "1.5.0",
            "orientation": "horizontal",
            "min": 0,
            "description_tooltip": null,
            "_model_module": "@jupyter-widgets/controls",
            "layout": "IPY_MODEL_fb02f8829c7645eda854ec9ea40d39fa"
          }
        },
        "9b20beb87470444f87c129fc29f60d1b": {
          "model_module": "@jupyter-widgets/controls",
          "model_name": "HTMLModel",
          "model_module_version": "1.5.0",
          "state": {
            "_view_name": "HTMLView",
            "style": "IPY_MODEL_c4726e339b164f83b5f6b981d1b68f2a",
            "_dom_classes": [],
            "description": "",
            "_model_name": "HTMLModel",
            "placeholder": "​",
            "_view_module": "@jupyter-widgets/controls",
            "_model_module_version": "1.5.0",
            "value": " 1235/1250 [4.15s&lt;50ms, 297.81it/s]",
            "_view_count": null,
            "_view_module_version": "1.5.0",
            "description_tooltip": null,
            "_model_module": "@jupyter-widgets/controls",
            "layout": "IPY_MODEL_4c47cc6b207f44989c1944f36665523a"
          }
        },
        "b4940f25382f445bb54a8f409157d7e0": {
          "model_module": "@jupyter-widgets/controls",
          "model_name": "DescriptionStyleModel",
          "model_module_version": "1.5.0",
          "state": {
            "_view_name": "StyleView",
            "_model_name": "DescriptionStyleModel",
            "description_width": "",
            "_view_module": "@jupyter-widgets/base",
            "_model_module_version": "1.5.0",
            "_view_count": null,
            "_view_module_version": "1.2.0",
            "_model_module": "@jupyter-widgets/controls"
          }
        },
        "6afb7c9781634805988cf09dc11e1075": {
          "model_module": "@jupyter-widgets/base",
          "model_name": "LayoutModel",
          "model_module_version": "1.2.0",
          "state": {
            "_view_name": "LayoutView",
            "grid_template_rows": null,
            "right": null,
            "justify_content": null,
            "_view_module": "@jupyter-widgets/base",
            "overflow": null,
            "_model_module_version": "1.2.0",
            "_view_count": null,
            "flex_flow": null,
            "width": null,
            "min_width": null,
            "border": null,
            "align_items": null,
            "bottom": null,
            "_model_module": "@jupyter-widgets/base",
            "top": null,
            "grid_column": null,
            "overflow_y": null,
            "overflow_x": null,
            "grid_auto_flow": null,
            "grid_area": null,
            "grid_template_columns": null,
            "flex": null,
            "_model_name": "LayoutModel",
            "justify_items": null,
            "grid_row": null,
            "max_height": null,
            "align_content": null,
            "visibility": null,
            "align_self": null,
            "height": null,
            "min_height": null,
            "padding": null,
            "grid_auto_rows": null,
            "grid_gap": null,
            "max_width": null,
            "order": null,
            "_view_module_version": "1.2.0",
            "grid_template_areas": null,
            "object_position": null,
            "object_fit": null,
            "grid_auto_columns": null,
            "margin": null,
            "display": null,
            "left": null
          }
        },
        "15a1c42280854beb9f03c7252feb9b60": {
          "model_module": "@jupyter-widgets/controls",
          "model_name": "ProgressStyleModel",
          "model_module_version": "1.5.0",
          "state": {
            "_view_name": "StyleView",
            "_model_name": "ProgressStyleModel",
            "description_width": "",
            "_view_module": "@jupyter-widgets/base",
            "_model_module_version": "1.5.0",
            "_view_count": null,
            "_view_module_version": "1.2.0",
            "bar_color": null,
            "_model_module": "@jupyter-widgets/controls"
          }
        },
        "fb02f8829c7645eda854ec9ea40d39fa": {
          "model_module": "@jupyter-widgets/base",
          "model_name": "LayoutModel",
          "model_module_version": "1.2.0",
          "state": {
            "_view_name": "LayoutView",
            "grid_template_rows": null,
            "right": null,
            "justify_content": null,
            "_view_module": "@jupyter-widgets/base",
            "overflow": null,
            "_model_module_version": "1.2.0",
            "_view_count": null,
            "flex_flow": null,
            "width": null,
            "min_width": null,
            "border": null,
            "align_items": null,
            "bottom": null,
            "_model_module": "@jupyter-widgets/base",
            "top": null,
            "grid_column": null,
            "overflow_y": null,
            "overflow_x": null,
            "grid_auto_flow": null,
            "grid_area": null,
            "grid_template_columns": null,
            "flex": null,
            "_model_name": "LayoutModel",
            "justify_items": null,
            "grid_row": null,
            "max_height": null,
            "align_content": null,
            "visibility": null,
            "align_self": null,
            "height": null,
            "min_height": null,
            "padding": null,
            "grid_auto_rows": null,
            "grid_gap": null,
            "max_width": null,
            "order": null,
            "_view_module_version": "1.2.0",
            "grid_template_areas": null,
            "object_position": null,
            "object_fit": null,
            "grid_auto_columns": null,
            "margin": null,
            "display": null,
            "left": null
          }
        },
        "c4726e339b164f83b5f6b981d1b68f2a": {
          "model_module": "@jupyter-widgets/controls",
          "model_name": "DescriptionStyleModel",
          "model_module_version": "1.5.0",
          "state": {
            "_view_name": "StyleView",
            "_model_name": "DescriptionStyleModel",
            "description_width": "",
            "_view_module": "@jupyter-widgets/base",
            "_model_module_version": "1.5.0",
            "_view_count": null,
            "_view_module_version": "1.2.0",
            "_model_module": "@jupyter-widgets/controls"
          }
        },
        "4c47cc6b207f44989c1944f36665523a": {
          "model_module": "@jupyter-widgets/base",
          "model_name": "LayoutModel",
          "model_module_version": "1.2.0",
          "state": {
            "_view_name": "LayoutView",
            "grid_template_rows": null,
            "right": null,
            "justify_content": null,
            "_view_module": "@jupyter-widgets/base",
            "overflow": null,
            "_model_module_version": "1.2.0",
            "_view_count": null,
            "flex_flow": null,
            "width": null,
            "min_width": null,
            "border": null,
            "align_items": null,
            "bottom": null,
            "_model_module": "@jupyter-widgets/base",
            "top": null,
            "grid_column": null,
            "overflow_y": null,
            "overflow_x": null,
            "grid_auto_flow": null,
            "grid_area": null,
            "grid_template_columns": null,
            "flex": null,
            "_model_name": "LayoutModel",
            "justify_items": null,
            "grid_row": null,
            "max_height": null,
            "align_content": null,
            "visibility": null,
            "align_self": null,
            "height": null,
            "min_height": null,
            "padding": null,
            "grid_auto_rows": null,
            "grid_gap": null,
            "max_width": null,
            "order": null,
            "_view_module_version": "1.2.0",
            "grid_template_areas": null,
            "object_position": null,
            "object_fit": null,
            "grid_auto_columns": null,
            "margin": null,
            "display": null,
            "left": null
          }
        },
        "16b52145c6904a00a518827348739ff0": {
          "model_module": "@jupyter-widgets/controls",
          "model_name": "HBoxModel",
          "model_module_version": "1.5.0",
          "state": {
            "_view_name": "HBoxView",
            "_dom_classes": [],
            "_model_name": "HBoxModel",
            "_view_module": "@jupyter-widgets/controls",
            "_model_module_version": "1.5.0",
            "_view_count": null,
            "_view_module_version": "1.5.0",
            "box_style": "",
            "layout": "IPY_MODEL_120ef09c7e7c47fca75c0285773bf2d2",
            "_model_module": "@jupyter-widgets/controls",
            "children": [
              "IPY_MODEL_afd04c5fa4e24e4b908c6367e8617483",
              "IPY_MODEL_80e3ad1dca18406ca5c079a444f0d88c",
              "IPY_MODEL_3998a6aa54114f86b25ee36c0379e4ed"
            ]
          }
        },
        "120ef09c7e7c47fca75c0285773bf2d2": {
          "model_module": "@jupyter-widgets/base",
          "model_name": "LayoutModel",
          "model_module_version": "1.2.0",
          "state": {
            "_view_name": "LayoutView",
            "grid_template_rows": null,
            "right": null,
            "justify_content": null,
            "_view_module": "@jupyter-widgets/base",
            "overflow": null,
            "_model_module_version": "1.2.0",
            "_view_count": null,
            "flex_flow": null,
            "width": null,
            "min_width": null,
            "border": null,
            "align_items": null,
            "bottom": null,
            "_model_module": "@jupyter-widgets/base",
            "top": null,
            "grid_column": null,
            "overflow_y": null,
            "overflow_x": null,
            "grid_auto_flow": null,
            "grid_area": null,
            "grid_template_columns": null,
            "flex": null,
            "_model_name": "LayoutModel",
            "justify_items": null,
            "grid_row": null,
            "max_height": null,
            "align_content": null,
            "visibility": null,
            "align_self": null,
            "height": null,
            "min_height": null,
            "padding": null,
            "grid_auto_rows": null,
            "grid_gap": null,
            "max_width": null,
            "order": null,
            "_view_module_version": "1.2.0",
            "grid_template_areas": null,
            "object_position": null,
            "object_fit": null,
            "grid_auto_columns": null,
            "margin": null,
            "display": null,
            "left": null
          }
        },
        "afd04c5fa4e24e4b908c6367e8617483": {
          "model_module": "@jupyter-widgets/controls",
          "model_name": "HTMLModel",
          "model_module_version": "1.5.0",
          "state": {
            "_view_name": "HTMLView",
            "style": "IPY_MODEL_a53a6abc8f00484d8bdaf12ecd569046",
            "_dom_classes": [],
            "description": "",
            "_model_name": "HTMLModel",
            "placeholder": "​",
            "_view_module": "@jupyter-widgets/controls",
            "_model_module_version": "1.5.0",
            "value": "batches: 100%",
            "_view_count": null,
            "_view_module_version": "1.5.0",
            "description_tooltip": null,
            "_model_module": "@jupyter-widgets/controls",
            "layout": "IPY_MODEL_97e578544f3a469a8290f8a40b08a7b3"
          }
        },
        "80e3ad1dca18406ca5c079a444f0d88c": {
          "model_module": "@jupyter-widgets/controls",
          "model_name": "FloatProgressModel",
          "model_module_version": "1.5.0",
          "state": {
            "_view_name": "ProgressView",
            "style": "IPY_MODEL_9fbac94eaf0243d88706c29d32d0cd50",
            "_dom_classes": [],
            "description": "",
            "_model_name": "FloatProgressModel",
            "bar_style": "",
            "max": 1250,
            "_view_module": "@jupyter-widgets/controls",
            "_model_module_version": "1.5.0",
            "value": 1250,
            "_view_count": null,
            "_view_module_version": "1.5.0",
            "orientation": "horizontal",
            "min": 0,
            "description_tooltip": null,
            "_model_module": "@jupyter-widgets/controls",
            "layout": "IPY_MODEL_2782e358df4e4e629f50819006bb67d7"
          }
        },
        "3998a6aa54114f86b25ee36c0379e4ed": {
          "model_module": "@jupyter-widgets/controls",
          "model_name": "HTMLModel",
          "model_module_version": "1.5.0",
          "state": {
            "_view_name": "HTMLView",
            "style": "IPY_MODEL_e24ff562389c4ae1a7c86b878c932bc6",
            "_dom_classes": [],
            "description": "",
            "_model_name": "HTMLModel",
            "placeholder": "​",
            "_view_module": "@jupyter-widgets/controls",
            "_model_module_version": "1.5.0",
            "value": " 1249/1250 [3.98s&lt;3ms, 313.62it/s]",
            "_view_count": null,
            "_view_module_version": "1.5.0",
            "description_tooltip": null,
            "_model_module": "@jupyter-widgets/controls",
            "layout": "IPY_MODEL_6423beb405cc4f408d9929e78fb2f490"
          }
        },
        "a53a6abc8f00484d8bdaf12ecd569046": {
          "model_module": "@jupyter-widgets/controls",
          "model_name": "DescriptionStyleModel",
          "model_module_version": "1.5.0",
          "state": {
            "_view_name": "StyleView",
            "_model_name": "DescriptionStyleModel",
            "description_width": "",
            "_view_module": "@jupyter-widgets/base",
            "_model_module_version": "1.5.0",
            "_view_count": null,
            "_view_module_version": "1.2.0",
            "_model_module": "@jupyter-widgets/controls"
          }
        },
        "97e578544f3a469a8290f8a40b08a7b3": {
          "model_module": "@jupyter-widgets/base",
          "model_name": "LayoutModel",
          "model_module_version": "1.2.0",
          "state": {
            "_view_name": "LayoutView",
            "grid_template_rows": null,
            "right": null,
            "justify_content": null,
            "_view_module": "@jupyter-widgets/base",
            "overflow": null,
            "_model_module_version": "1.2.0",
            "_view_count": null,
            "flex_flow": null,
            "width": null,
            "min_width": null,
            "border": null,
            "align_items": null,
            "bottom": null,
            "_model_module": "@jupyter-widgets/base",
            "top": null,
            "grid_column": null,
            "overflow_y": null,
            "overflow_x": null,
            "grid_auto_flow": null,
            "grid_area": null,
            "grid_template_columns": null,
            "flex": null,
            "_model_name": "LayoutModel",
            "justify_items": null,
            "grid_row": null,
            "max_height": null,
            "align_content": null,
            "visibility": null,
            "align_self": null,
            "height": null,
            "min_height": null,
            "padding": null,
            "grid_auto_rows": null,
            "grid_gap": null,
            "max_width": null,
            "order": null,
            "_view_module_version": "1.2.0",
            "grid_template_areas": null,
            "object_position": null,
            "object_fit": null,
            "grid_auto_columns": null,
            "margin": null,
            "display": null,
            "left": null
          }
        },
        "9fbac94eaf0243d88706c29d32d0cd50": {
          "model_module": "@jupyter-widgets/controls",
          "model_name": "ProgressStyleModel",
          "model_module_version": "1.5.0",
          "state": {
            "_view_name": "StyleView",
            "_model_name": "ProgressStyleModel",
            "description_width": "",
            "_view_module": "@jupyter-widgets/base",
            "_model_module_version": "1.5.0",
            "_view_count": null,
            "_view_module_version": "1.2.0",
            "bar_color": null,
            "_model_module": "@jupyter-widgets/controls"
          }
        },
        "2782e358df4e4e629f50819006bb67d7": {
          "model_module": "@jupyter-widgets/base",
          "model_name": "LayoutModel",
          "model_module_version": "1.2.0",
          "state": {
            "_view_name": "LayoutView",
            "grid_template_rows": null,
            "right": null,
            "justify_content": null,
            "_view_module": "@jupyter-widgets/base",
            "overflow": null,
            "_model_module_version": "1.2.0",
            "_view_count": null,
            "flex_flow": null,
            "width": null,
            "min_width": null,
            "border": null,
            "align_items": null,
            "bottom": null,
            "_model_module": "@jupyter-widgets/base",
            "top": null,
            "grid_column": null,
            "overflow_y": null,
            "overflow_x": null,
            "grid_auto_flow": null,
            "grid_area": null,
            "grid_template_columns": null,
            "flex": null,
            "_model_name": "LayoutModel",
            "justify_items": null,
            "grid_row": null,
            "max_height": null,
            "align_content": null,
            "visibility": null,
            "align_self": null,
            "height": null,
            "min_height": null,
            "padding": null,
            "grid_auto_rows": null,
            "grid_gap": null,
            "max_width": null,
            "order": null,
            "_view_module_version": "1.2.0",
            "grid_template_areas": null,
            "object_position": null,
            "object_fit": null,
            "grid_auto_columns": null,
            "margin": null,
            "display": null,
            "left": null
          }
        },
        "e24ff562389c4ae1a7c86b878c932bc6": {
          "model_module": "@jupyter-widgets/controls",
          "model_name": "DescriptionStyleModel",
          "model_module_version": "1.5.0",
          "state": {
            "_view_name": "StyleView",
            "_model_name": "DescriptionStyleModel",
            "description_width": "",
            "_view_module": "@jupyter-widgets/base",
            "_model_module_version": "1.5.0",
            "_view_count": null,
            "_view_module_version": "1.2.0",
            "_model_module": "@jupyter-widgets/controls"
          }
        },
        "6423beb405cc4f408d9929e78fb2f490": {
          "model_module": "@jupyter-widgets/base",
          "model_name": "LayoutModel",
          "model_module_version": "1.2.0",
          "state": {
            "_view_name": "LayoutView",
            "grid_template_rows": null,
            "right": null,
            "justify_content": null,
            "_view_module": "@jupyter-widgets/base",
            "overflow": null,
            "_model_module_version": "1.2.0",
            "_view_count": null,
            "flex_flow": null,
            "width": null,
            "min_width": null,
            "border": null,
            "align_items": null,
            "bottom": null,
            "_model_module": "@jupyter-widgets/base",
            "top": null,
            "grid_column": null,
            "overflow_y": null,
            "overflow_x": null,
            "grid_auto_flow": null,
            "grid_area": null,
            "grid_template_columns": null,
            "flex": null,
            "_model_name": "LayoutModel",
            "justify_items": null,
            "grid_row": null,
            "max_height": null,
            "align_content": null,
            "visibility": null,
            "align_self": null,
            "height": null,
            "min_height": null,
            "padding": null,
            "grid_auto_rows": null,
            "grid_gap": null,
            "max_width": null,
            "order": null,
            "_view_module_version": "1.2.0",
            "grid_template_areas": null,
            "object_position": null,
            "object_fit": null,
            "grid_auto_columns": null,
            "margin": null,
            "display": null,
            "left": null
          }
        },
        "f940be8a6c91416683e6a3c395badf31": {
          "model_module": "@jupyter-widgets/controls",
          "model_name": "HBoxModel",
          "model_module_version": "1.5.0",
          "state": {
            "_view_name": "HBoxView",
            "_dom_classes": [],
            "_model_name": "HBoxModel",
            "_view_module": "@jupyter-widgets/controls",
            "_model_module_version": "1.5.0",
            "_view_count": null,
            "_view_module_version": "1.5.0",
            "box_style": "",
            "layout": "IPY_MODEL_40caa9968d4e4c0fbe6575aab601ac74",
            "_model_module": "@jupyter-widgets/controls",
            "children": [
              "IPY_MODEL_47a788f5579c481ea11115d7c149bac5",
              "IPY_MODEL_aeb94c47c4a146e49a8f83081749970b",
              "IPY_MODEL_bb68704b1887489d9cca38009f727f79"
            ]
          }
        },
        "40caa9968d4e4c0fbe6575aab601ac74": {
          "model_module": "@jupyter-widgets/base",
          "model_name": "LayoutModel",
          "model_module_version": "1.2.0",
          "state": {
            "_view_name": "LayoutView",
            "grid_template_rows": null,
            "right": null,
            "justify_content": null,
            "_view_module": "@jupyter-widgets/base",
            "overflow": null,
            "_model_module_version": "1.2.0",
            "_view_count": null,
            "flex_flow": null,
            "width": null,
            "min_width": null,
            "border": null,
            "align_items": null,
            "bottom": null,
            "_model_module": "@jupyter-widgets/base",
            "top": null,
            "grid_column": null,
            "overflow_y": null,
            "overflow_x": null,
            "grid_auto_flow": null,
            "grid_area": null,
            "grid_template_columns": null,
            "flex": null,
            "_model_name": "LayoutModel",
            "justify_items": null,
            "grid_row": null,
            "max_height": null,
            "align_content": null,
            "visibility": null,
            "align_self": null,
            "height": null,
            "min_height": null,
            "padding": null,
            "grid_auto_rows": null,
            "grid_gap": null,
            "max_width": null,
            "order": null,
            "_view_module_version": "1.2.0",
            "grid_template_areas": null,
            "object_position": null,
            "object_fit": null,
            "grid_auto_columns": null,
            "margin": null,
            "display": null,
            "left": null
          }
        },
        "47a788f5579c481ea11115d7c149bac5": {
          "model_module": "@jupyter-widgets/controls",
          "model_name": "HTMLModel",
          "model_module_version": "1.5.0",
          "state": {
            "_view_name": "HTMLView",
            "style": "IPY_MODEL_233ecdb7258047f1a236b93f9bb98869",
            "_dom_classes": [],
            "description": "",
            "_model_name": "HTMLModel",
            "placeholder": "​",
            "_view_module": "@jupyter-widgets/controls",
            "_model_module_version": "1.5.0",
            "value": "batches: 100%",
            "_view_count": null,
            "_view_module_version": "1.5.0",
            "description_tooltip": null,
            "_model_module": "@jupyter-widgets/controls",
            "layout": "IPY_MODEL_7657f3ff43f6414eb41444fc714a69ef"
          }
        },
        "aeb94c47c4a146e49a8f83081749970b": {
          "model_module": "@jupyter-widgets/controls",
          "model_name": "FloatProgressModel",
          "model_module_version": "1.5.0",
          "state": {
            "_view_name": "ProgressView",
            "style": "IPY_MODEL_4ee5da58dd614b6b9a3b6cb2b0d3d3aa",
            "_dom_classes": [],
            "description": "",
            "_model_name": "FloatProgressModel",
            "bar_style": "",
            "max": 1250,
            "_view_module": "@jupyter-widgets/controls",
            "_model_module_version": "1.5.0",
            "value": 1250,
            "_view_count": null,
            "_view_module_version": "1.5.0",
            "orientation": "horizontal",
            "min": 0,
            "description_tooltip": null,
            "_model_module": "@jupyter-widgets/controls",
            "layout": "IPY_MODEL_e1a5b62a9e624c12bc79339ed5145f4d"
          }
        },
        "bb68704b1887489d9cca38009f727f79": {
          "model_module": "@jupyter-widgets/controls",
          "model_name": "HTMLModel",
          "model_module_version": "1.5.0",
          "state": {
            "_view_name": "HTMLView",
            "style": "IPY_MODEL_ca43ca06c4fc4521b1afc03492299b52",
            "_dom_classes": [],
            "description": "",
            "_model_name": "HTMLModel",
            "placeholder": "​",
            "_view_module": "@jupyter-widgets/controls",
            "_model_module_version": "1.5.0",
            "value": " 1249/1250 [05:48&lt;279ms,  3.59it/s]",
            "_view_count": null,
            "_view_module_version": "1.5.0",
            "description_tooltip": null,
            "_model_module": "@jupyter-widgets/controls",
            "layout": "IPY_MODEL_d0529f883e3c4940bea219dc6376e6fc"
          }
        },
        "233ecdb7258047f1a236b93f9bb98869": {
          "model_module": "@jupyter-widgets/controls",
          "model_name": "DescriptionStyleModel",
          "model_module_version": "1.5.0",
          "state": {
            "_view_name": "StyleView",
            "_model_name": "DescriptionStyleModel",
            "description_width": "",
            "_view_module": "@jupyter-widgets/base",
            "_model_module_version": "1.5.0",
            "_view_count": null,
            "_view_module_version": "1.2.0",
            "_model_module": "@jupyter-widgets/controls"
          }
        },
        "7657f3ff43f6414eb41444fc714a69ef": {
          "model_module": "@jupyter-widgets/base",
          "model_name": "LayoutModel",
          "model_module_version": "1.2.0",
          "state": {
            "_view_name": "LayoutView",
            "grid_template_rows": null,
            "right": null,
            "justify_content": null,
            "_view_module": "@jupyter-widgets/base",
            "overflow": null,
            "_model_module_version": "1.2.0",
            "_view_count": null,
            "flex_flow": null,
            "width": null,
            "min_width": null,
            "border": null,
            "align_items": null,
            "bottom": null,
            "_model_module": "@jupyter-widgets/base",
            "top": null,
            "grid_column": null,
            "overflow_y": null,
            "overflow_x": null,
            "grid_auto_flow": null,
            "grid_area": null,
            "grid_template_columns": null,
            "flex": null,
            "_model_name": "LayoutModel",
            "justify_items": null,
            "grid_row": null,
            "max_height": null,
            "align_content": null,
            "visibility": null,
            "align_self": null,
            "height": null,
            "min_height": null,
            "padding": null,
            "grid_auto_rows": null,
            "grid_gap": null,
            "max_width": null,
            "order": null,
            "_view_module_version": "1.2.0",
            "grid_template_areas": null,
            "object_position": null,
            "object_fit": null,
            "grid_auto_columns": null,
            "margin": null,
            "display": null,
            "left": null
          }
        },
        "4ee5da58dd614b6b9a3b6cb2b0d3d3aa": {
          "model_module": "@jupyter-widgets/controls",
          "model_name": "ProgressStyleModel",
          "model_module_version": "1.5.0",
          "state": {
            "_view_name": "StyleView",
            "_model_name": "ProgressStyleModel",
            "description_width": "",
            "_view_module": "@jupyter-widgets/base",
            "_model_module_version": "1.5.0",
            "_view_count": null,
            "_view_module_version": "1.2.0",
            "bar_color": null,
            "_model_module": "@jupyter-widgets/controls"
          }
        },
        "e1a5b62a9e624c12bc79339ed5145f4d": {
          "model_module": "@jupyter-widgets/base",
          "model_name": "LayoutModel",
          "model_module_version": "1.2.0",
          "state": {
            "_view_name": "LayoutView",
            "grid_template_rows": null,
            "right": null,
            "justify_content": null,
            "_view_module": "@jupyter-widgets/base",
            "overflow": null,
            "_model_module_version": "1.2.0",
            "_view_count": null,
            "flex_flow": null,
            "width": null,
            "min_width": null,
            "border": null,
            "align_items": null,
            "bottom": null,
            "_model_module": "@jupyter-widgets/base",
            "top": null,
            "grid_column": null,
            "overflow_y": null,
            "overflow_x": null,
            "grid_auto_flow": null,
            "grid_area": null,
            "grid_template_columns": null,
            "flex": null,
            "_model_name": "LayoutModel",
            "justify_items": null,
            "grid_row": null,
            "max_height": null,
            "align_content": null,
            "visibility": null,
            "align_self": null,
            "height": null,
            "min_height": null,
            "padding": null,
            "grid_auto_rows": null,
            "grid_gap": null,
            "max_width": null,
            "order": null,
            "_view_module_version": "1.2.0",
            "grid_template_areas": null,
            "object_position": null,
            "object_fit": null,
            "grid_auto_columns": null,
            "margin": null,
            "display": null,
            "left": null
          }
        },
        "ca43ca06c4fc4521b1afc03492299b52": {
          "model_module": "@jupyter-widgets/controls",
          "model_name": "DescriptionStyleModel",
          "model_module_version": "1.5.0",
          "state": {
            "_view_name": "StyleView",
            "_model_name": "DescriptionStyleModel",
            "description_width": "",
            "_view_module": "@jupyter-widgets/base",
            "_model_module_version": "1.5.0",
            "_view_count": null,
            "_view_module_version": "1.2.0",
            "_model_module": "@jupyter-widgets/controls"
          }
        },
        "d0529f883e3c4940bea219dc6376e6fc": {
          "model_module": "@jupyter-widgets/base",
          "model_name": "LayoutModel",
          "model_module_version": "1.2.0",
          "state": {
            "_view_name": "LayoutView",
            "grid_template_rows": null,
            "right": null,
            "justify_content": null,
            "_view_module": "@jupyter-widgets/base",
            "overflow": null,
            "_model_module_version": "1.2.0",
            "_view_count": null,
            "flex_flow": null,
            "width": null,
            "min_width": null,
            "border": null,
            "align_items": null,
            "bottom": null,
            "_model_module": "@jupyter-widgets/base",
            "top": null,
            "grid_column": null,
            "overflow_y": null,
            "overflow_x": null,
            "grid_auto_flow": null,
            "grid_area": null,
            "grid_template_columns": null,
            "flex": null,
            "_model_name": "LayoutModel",
            "justify_items": null,
            "grid_row": null,
            "max_height": null,
            "align_content": null,
            "visibility": null,
            "align_self": null,
            "height": null,
            "min_height": null,
            "padding": null,
            "grid_auto_rows": null,
            "grid_gap": null,
            "max_width": null,
            "order": null,
            "_view_module_version": "1.2.0",
            "grid_template_areas": null,
            "object_position": null,
            "object_fit": null,
            "grid_auto_columns": null,
            "margin": null,
            "display": null,
            "left": null
          }
        },
        "0533bb4340934919831ecd44185d21d3": {
          "model_module": "@jupyter-widgets/controls",
          "model_name": "HBoxModel",
          "model_module_version": "1.5.0",
          "state": {
            "_view_name": "HBoxView",
            "_dom_classes": [],
            "_model_name": "HBoxModel",
            "_view_module": "@jupyter-widgets/controls",
            "_model_module_version": "1.5.0",
            "_view_count": null,
            "_view_module_version": "1.5.0",
            "box_style": "",
            "layout": "IPY_MODEL_c201906557214d32b600499cd229f543",
            "_model_module": "@jupyter-widgets/controls",
            "children": [
              "IPY_MODEL_84b65c21193246eaae422ef00cb0e715",
              "IPY_MODEL_b745d4f43a5149acbaa46f9b6bbabd2b",
              "IPY_MODEL_d6f856380e71452f9e4a05517dd3719d"
            ]
          }
        },
        "c201906557214d32b600499cd229f543": {
          "model_module": "@jupyter-widgets/base",
          "model_name": "LayoutModel",
          "model_module_version": "1.2.0",
          "state": {
            "_view_name": "LayoutView",
            "grid_template_rows": null,
            "right": null,
            "justify_content": null,
            "_view_module": "@jupyter-widgets/base",
            "overflow": null,
            "_model_module_version": "1.2.0",
            "_view_count": null,
            "flex_flow": null,
            "width": null,
            "min_width": null,
            "border": null,
            "align_items": null,
            "bottom": null,
            "_model_module": "@jupyter-widgets/base",
            "top": null,
            "grid_column": null,
            "overflow_y": null,
            "overflow_x": null,
            "grid_auto_flow": null,
            "grid_area": null,
            "grid_template_columns": null,
            "flex": null,
            "_model_name": "LayoutModel",
            "justify_items": null,
            "grid_row": null,
            "max_height": null,
            "align_content": null,
            "visibility": null,
            "align_self": null,
            "height": null,
            "min_height": null,
            "padding": null,
            "grid_auto_rows": null,
            "grid_gap": null,
            "max_width": null,
            "order": null,
            "_view_module_version": "1.2.0",
            "grid_template_areas": null,
            "object_position": null,
            "object_fit": null,
            "grid_auto_columns": null,
            "margin": null,
            "display": null,
            "left": null
          }
        },
        "84b65c21193246eaae422ef00cb0e715": {
          "model_module": "@jupyter-widgets/controls",
          "model_name": "HTMLModel",
          "model_module_version": "1.5.0",
          "state": {
            "_view_name": "HTMLView",
            "style": "IPY_MODEL_b56b9fbab11f441cbace769f613b1469",
            "_dom_classes": [],
            "description": "",
            "_model_name": "HTMLModel",
            "placeholder": "​",
            "_view_module": "@jupyter-widgets/controls",
            "_model_module_version": "1.5.0",
            "value": "batches: 100%",
            "_view_count": null,
            "_view_module_version": "1.5.0",
            "description_tooltip": null,
            "_model_module": "@jupyter-widgets/controls",
            "layout": "IPY_MODEL_0a2e8de348be49bb824d3f0da1dcd4af"
          }
        },
        "b745d4f43a5149acbaa46f9b6bbabd2b": {
          "model_module": "@jupyter-widgets/controls",
          "model_name": "FloatProgressModel",
          "model_module_version": "1.5.0",
          "state": {
            "_view_name": "ProgressView",
            "style": "IPY_MODEL_fac506a7997b4faebc74dd8770261036",
            "_dom_classes": [],
            "description": "",
            "_model_name": "FloatProgressModel",
            "bar_style": "",
            "max": 1250,
            "_view_module": "@jupyter-widgets/controls",
            "_model_module_version": "1.5.0",
            "value": 1250,
            "_view_count": null,
            "_view_module_version": "1.5.0",
            "orientation": "horizontal",
            "min": 0,
            "description_tooltip": null,
            "_model_module": "@jupyter-widgets/controls",
            "layout": "IPY_MODEL_5a15ef81b43c4067ac0b4a461182d405"
          }
        },
        "d6f856380e71452f9e4a05517dd3719d": {
          "model_module": "@jupyter-widgets/controls",
          "model_name": "HTMLModel",
          "model_module_version": "1.5.0",
          "state": {
            "_view_name": "HTMLView",
            "style": "IPY_MODEL_7e0e371c2122433db6555e94f7ba4b94",
            "_dom_classes": [],
            "description": "",
            "_model_name": "HTMLModel",
            "placeholder": "​",
            "_view_module": "@jupyter-widgets/controls",
            "_model_module_version": "1.5.0",
            "value": " 1250/1250 [05:27&lt;0ms,  3.82it/s]",
            "_view_count": null,
            "_view_module_version": "1.5.0",
            "description_tooltip": null,
            "_model_module": "@jupyter-widgets/controls",
            "layout": "IPY_MODEL_380a0c225e0b4f909a585d2f146c1d62"
          }
        },
        "b56b9fbab11f441cbace769f613b1469": {
          "model_module": "@jupyter-widgets/controls",
          "model_name": "DescriptionStyleModel",
          "model_module_version": "1.5.0",
          "state": {
            "_view_name": "StyleView",
            "_model_name": "DescriptionStyleModel",
            "description_width": "",
            "_view_module": "@jupyter-widgets/base",
            "_model_module_version": "1.5.0",
            "_view_count": null,
            "_view_module_version": "1.2.0",
            "_model_module": "@jupyter-widgets/controls"
          }
        },
        "0a2e8de348be49bb824d3f0da1dcd4af": {
          "model_module": "@jupyter-widgets/base",
          "model_name": "LayoutModel",
          "model_module_version": "1.2.0",
          "state": {
            "_view_name": "LayoutView",
            "grid_template_rows": null,
            "right": null,
            "justify_content": null,
            "_view_module": "@jupyter-widgets/base",
            "overflow": null,
            "_model_module_version": "1.2.0",
            "_view_count": null,
            "flex_flow": null,
            "width": null,
            "min_width": null,
            "border": null,
            "align_items": null,
            "bottom": null,
            "_model_module": "@jupyter-widgets/base",
            "top": null,
            "grid_column": null,
            "overflow_y": null,
            "overflow_x": null,
            "grid_auto_flow": null,
            "grid_area": null,
            "grid_template_columns": null,
            "flex": null,
            "_model_name": "LayoutModel",
            "justify_items": null,
            "grid_row": null,
            "max_height": null,
            "align_content": null,
            "visibility": null,
            "align_self": null,
            "height": null,
            "min_height": null,
            "padding": null,
            "grid_auto_rows": null,
            "grid_gap": null,
            "max_width": null,
            "order": null,
            "_view_module_version": "1.2.0",
            "grid_template_areas": null,
            "object_position": null,
            "object_fit": null,
            "grid_auto_columns": null,
            "margin": null,
            "display": null,
            "left": null
          }
        },
        "fac506a7997b4faebc74dd8770261036": {
          "model_module": "@jupyter-widgets/controls",
          "model_name": "ProgressStyleModel",
          "model_module_version": "1.5.0",
          "state": {
            "_view_name": "StyleView",
            "_model_name": "ProgressStyleModel",
            "description_width": "",
            "_view_module": "@jupyter-widgets/base",
            "_model_module_version": "1.5.0",
            "_view_count": null,
            "_view_module_version": "1.2.0",
            "bar_color": null,
            "_model_module": "@jupyter-widgets/controls"
          }
        },
        "5a15ef81b43c4067ac0b4a461182d405": {
          "model_module": "@jupyter-widgets/base",
          "model_name": "LayoutModel",
          "model_module_version": "1.2.0",
          "state": {
            "_view_name": "LayoutView",
            "grid_template_rows": null,
            "right": null,
            "justify_content": null,
            "_view_module": "@jupyter-widgets/base",
            "overflow": null,
            "_model_module_version": "1.2.0",
            "_view_count": null,
            "flex_flow": null,
            "width": null,
            "min_width": null,
            "border": null,
            "align_items": null,
            "bottom": null,
            "_model_module": "@jupyter-widgets/base",
            "top": null,
            "grid_column": null,
            "overflow_y": null,
            "overflow_x": null,
            "grid_auto_flow": null,
            "grid_area": null,
            "grid_template_columns": null,
            "flex": null,
            "_model_name": "LayoutModel",
            "justify_items": null,
            "grid_row": null,
            "max_height": null,
            "align_content": null,
            "visibility": null,
            "align_self": null,
            "height": null,
            "min_height": null,
            "padding": null,
            "grid_auto_rows": null,
            "grid_gap": null,
            "max_width": null,
            "order": null,
            "_view_module_version": "1.2.0",
            "grid_template_areas": null,
            "object_position": null,
            "object_fit": null,
            "grid_auto_columns": null,
            "margin": null,
            "display": null,
            "left": null
          }
        },
        "7e0e371c2122433db6555e94f7ba4b94": {
          "model_module": "@jupyter-widgets/controls",
          "model_name": "DescriptionStyleModel",
          "model_module_version": "1.5.0",
          "state": {
            "_view_name": "StyleView",
            "_model_name": "DescriptionStyleModel",
            "description_width": "",
            "_view_module": "@jupyter-widgets/base",
            "_model_module_version": "1.5.0",
            "_view_count": null,
            "_view_module_version": "1.2.0",
            "_model_module": "@jupyter-widgets/controls"
          }
        },
        "380a0c225e0b4f909a585d2f146c1d62": {
          "model_module": "@jupyter-widgets/base",
          "model_name": "LayoutModel",
          "model_module_version": "1.2.0",
          "state": {
            "_view_name": "LayoutView",
            "grid_template_rows": null,
            "right": null,
            "justify_content": null,
            "_view_module": "@jupyter-widgets/base",
            "overflow": null,
            "_model_module_version": "1.2.0",
            "_view_count": null,
            "flex_flow": null,
            "width": null,
            "min_width": null,
            "border": null,
            "align_items": null,
            "bottom": null,
            "_model_module": "@jupyter-widgets/base",
            "top": null,
            "grid_column": null,
            "overflow_y": null,
            "overflow_x": null,
            "grid_auto_flow": null,
            "grid_area": null,
            "grid_template_columns": null,
            "flex": null,
            "_model_name": "LayoutModel",
            "justify_items": null,
            "grid_row": null,
            "max_height": null,
            "align_content": null,
            "visibility": null,
            "align_self": null,
            "height": null,
            "min_height": null,
            "padding": null,
            "grid_auto_rows": null,
            "grid_gap": null,
            "max_width": null,
            "order": null,
            "_view_module_version": "1.2.0",
            "grid_template_areas": null,
            "object_position": null,
            "object_fit": null,
            "grid_auto_columns": null,
            "margin": null,
            "display": null,
            "left": null
          }
        },
        "cc353e6e35ad450da9050299be2ac74c": {
          "model_module": "@jupyter-widgets/controls",
          "model_name": "HBoxModel",
          "model_module_version": "1.5.0",
          "state": {
            "_view_name": "HBoxView",
            "_dom_classes": [],
            "_model_name": "HBoxModel",
            "_view_module": "@jupyter-widgets/controls",
            "_model_module_version": "1.5.0",
            "_view_count": null,
            "_view_module_version": "1.5.0",
            "box_style": "",
            "layout": "IPY_MODEL_a3d29ef27f4c4d0b84254c61536cf626",
            "_model_module": "@jupyter-widgets/controls",
            "children": [
              "IPY_MODEL_099d4f67762e4950a6f7d3f2bb2c5271",
              "IPY_MODEL_9fa9f8331cec4e34b32c03a901d3db7f",
              "IPY_MODEL_6bb9f737ef424bc18e6eba4dd249a440"
            ]
          }
        },
        "a3d29ef27f4c4d0b84254c61536cf626": {
          "model_module": "@jupyter-widgets/base",
          "model_name": "LayoutModel",
          "model_module_version": "1.2.0",
          "state": {
            "_view_name": "LayoutView",
            "grid_template_rows": null,
            "right": null,
            "justify_content": null,
            "_view_module": "@jupyter-widgets/base",
            "overflow": null,
            "_model_module_version": "1.2.0",
            "_view_count": null,
            "flex_flow": null,
            "width": null,
            "min_width": null,
            "border": null,
            "align_items": null,
            "bottom": null,
            "_model_module": "@jupyter-widgets/base",
            "top": null,
            "grid_column": null,
            "overflow_y": null,
            "overflow_x": null,
            "grid_auto_flow": null,
            "grid_area": null,
            "grid_template_columns": null,
            "flex": null,
            "_model_name": "LayoutModel",
            "justify_items": null,
            "grid_row": null,
            "max_height": null,
            "align_content": null,
            "visibility": null,
            "align_self": null,
            "height": null,
            "min_height": null,
            "padding": null,
            "grid_auto_rows": null,
            "grid_gap": null,
            "max_width": null,
            "order": null,
            "_view_module_version": "1.2.0",
            "grid_template_areas": null,
            "object_position": null,
            "object_fit": null,
            "grid_auto_columns": null,
            "margin": null,
            "display": null,
            "left": null
          }
        },
        "099d4f67762e4950a6f7d3f2bb2c5271": {
          "model_module": "@jupyter-widgets/controls",
          "model_name": "HTMLModel",
          "model_module_version": "1.5.0",
          "state": {
            "_view_name": "HTMLView",
            "style": "IPY_MODEL_12e7942447e748268b47ebda58e778da",
            "_dom_classes": [],
            "description": "",
            "_model_name": "HTMLModel",
            "placeholder": "​",
            "_view_module": "@jupyter-widgets/controls",
            "_model_module_version": "1.5.0",
            "value": "Downloading: 100%",
            "_view_count": null,
            "_view_module_version": "1.5.0",
            "description_tooltip": null,
            "_model_module": "@jupyter-widgets/controls",
            "layout": "IPY_MODEL_42b048a32b25431085255c6a1a39f1ec"
          }
        },
        "9fa9f8331cec4e34b32c03a901d3db7f": {
          "model_module": "@jupyter-widgets/controls",
          "model_name": "FloatProgressModel",
          "model_module_version": "1.5.0",
          "state": {
            "_view_name": "ProgressView",
            "style": "IPY_MODEL_44f94770c54d4c17a5a791b0256eb9a4",
            "_dom_classes": [],
            "description": "",
            "_model_name": "FloatProgressModel",
            "bar_style": "success",
            "max": 791656,
            "_view_module": "@jupyter-widgets/controls",
            "_model_module_version": "1.5.0",
            "value": 791656,
            "_view_count": null,
            "_view_module_version": "1.5.0",
            "orientation": "horizontal",
            "min": 0,
            "description_tooltip": null,
            "_model_module": "@jupyter-widgets/controls",
            "layout": "IPY_MODEL_1506f149ea46410aab54002c499b3627"
          }
        },
        "6bb9f737ef424bc18e6eba4dd249a440": {
          "model_module": "@jupyter-widgets/controls",
          "model_name": "HTMLModel",
          "model_module_version": "1.5.0",
          "state": {
            "_view_name": "HTMLView",
            "style": "IPY_MODEL_d4f702447fda471baf6835971ee17f8d",
            "_dom_classes": [],
            "description": "",
            "_model_name": "HTMLModel",
            "placeholder": "​",
            "_view_module": "@jupyter-widgets/controls",
            "_model_module_version": "1.5.0",
            "value": " 773k/773k [189ms&lt;0ms, 1.10MB/s]",
            "_view_count": null,
            "_view_module_version": "1.5.0",
            "description_tooltip": null,
            "_model_module": "@jupyter-widgets/controls",
            "layout": "IPY_MODEL_92623343af3e4a08a8e05c9cc18c5445"
          }
        },
        "12e7942447e748268b47ebda58e778da": {
          "model_module": "@jupyter-widgets/controls",
          "model_name": "DescriptionStyleModel",
          "model_module_version": "1.5.0",
          "state": {
            "_view_name": "StyleView",
            "_model_name": "DescriptionStyleModel",
            "description_width": "",
            "_view_module": "@jupyter-widgets/base",
            "_model_module_version": "1.5.0",
            "_view_count": null,
            "_view_module_version": "1.2.0",
            "_model_module": "@jupyter-widgets/controls"
          }
        },
        "42b048a32b25431085255c6a1a39f1ec": {
          "model_module": "@jupyter-widgets/base",
          "model_name": "LayoutModel",
          "model_module_version": "1.2.0",
          "state": {
            "_view_name": "LayoutView",
            "grid_template_rows": null,
            "right": null,
            "justify_content": null,
            "_view_module": "@jupyter-widgets/base",
            "overflow": null,
            "_model_module_version": "1.2.0",
            "_view_count": null,
            "flex_flow": null,
            "width": null,
            "min_width": null,
            "border": null,
            "align_items": null,
            "bottom": null,
            "_model_module": "@jupyter-widgets/base",
            "top": null,
            "grid_column": null,
            "overflow_y": null,
            "overflow_x": null,
            "grid_auto_flow": null,
            "grid_area": null,
            "grid_template_columns": null,
            "flex": null,
            "_model_name": "LayoutModel",
            "justify_items": null,
            "grid_row": null,
            "max_height": null,
            "align_content": null,
            "visibility": null,
            "align_self": null,
            "height": null,
            "min_height": null,
            "padding": null,
            "grid_auto_rows": null,
            "grid_gap": null,
            "max_width": null,
            "order": null,
            "_view_module_version": "1.2.0",
            "grid_template_areas": null,
            "object_position": null,
            "object_fit": null,
            "grid_auto_columns": null,
            "margin": null,
            "display": null,
            "left": null
          }
        },
        "44f94770c54d4c17a5a791b0256eb9a4": {
          "model_module": "@jupyter-widgets/controls",
          "model_name": "ProgressStyleModel",
          "model_module_version": "1.5.0",
          "state": {
            "_view_name": "StyleView",
            "_model_name": "ProgressStyleModel",
            "description_width": "",
            "_view_module": "@jupyter-widgets/base",
            "_model_module_version": "1.5.0",
            "_view_count": null,
            "_view_module_version": "1.2.0",
            "bar_color": null,
            "_model_module": "@jupyter-widgets/controls"
          }
        },
        "1506f149ea46410aab54002c499b3627": {
          "model_module": "@jupyter-widgets/base",
          "model_name": "LayoutModel",
          "model_module_version": "1.2.0",
          "state": {
            "_view_name": "LayoutView",
            "grid_template_rows": null,
            "right": null,
            "justify_content": null,
            "_view_module": "@jupyter-widgets/base",
            "overflow": null,
            "_model_module_version": "1.2.0",
            "_view_count": null,
            "flex_flow": null,
            "width": null,
            "min_width": null,
            "border": null,
            "align_items": null,
            "bottom": null,
            "_model_module": "@jupyter-widgets/base",
            "top": null,
            "grid_column": null,
            "overflow_y": null,
            "overflow_x": null,
            "grid_auto_flow": null,
            "grid_area": null,
            "grid_template_columns": null,
            "flex": null,
            "_model_name": "LayoutModel",
            "justify_items": null,
            "grid_row": null,
            "max_height": null,
            "align_content": null,
            "visibility": null,
            "align_self": null,
            "height": null,
            "min_height": null,
            "padding": null,
            "grid_auto_rows": null,
            "grid_gap": null,
            "max_width": null,
            "order": null,
            "_view_module_version": "1.2.0",
            "grid_template_areas": null,
            "object_position": null,
            "object_fit": null,
            "grid_auto_columns": null,
            "margin": null,
            "display": null,
            "left": null
          }
        },
        "d4f702447fda471baf6835971ee17f8d": {
          "model_module": "@jupyter-widgets/controls",
          "model_name": "DescriptionStyleModel",
          "model_module_version": "1.5.0",
          "state": {
            "_view_name": "StyleView",
            "_model_name": "DescriptionStyleModel",
            "description_width": "",
            "_view_module": "@jupyter-widgets/base",
            "_model_module_version": "1.5.0",
            "_view_count": null,
            "_view_module_version": "1.2.0",
            "_model_module": "@jupyter-widgets/controls"
          }
        },
        "92623343af3e4a08a8e05c9cc18c5445": {
          "model_module": "@jupyter-widgets/base",
          "model_name": "LayoutModel",
          "model_module_version": "1.2.0",
          "state": {
            "_view_name": "LayoutView",
            "grid_template_rows": null,
            "right": null,
            "justify_content": null,
            "_view_module": "@jupyter-widgets/base",
            "overflow": null,
            "_model_module_version": "1.2.0",
            "_view_count": null,
            "flex_flow": null,
            "width": null,
            "min_width": null,
            "border": null,
            "align_items": null,
            "bottom": null,
            "_model_module": "@jupyter-widgets/base",
            "top": null,
            "grid_column": null,
            "overflow_y": null,
            "overflow_x": null,
            "grid_auto_flow": null,
            "grid_area": null,
            "grid_template_columns": null,
            "flex": null,
            "_model_name": "LayoutModel",
            "justify_items": null,
            "grid_row": null,
            "max_height": null,
            "align_content": null,
            "visibility": null,
            "align_self": null,
            "height": null,
            "min_height": null,
            "padding": null,
            "grid_auto_rows": null,
            "grid_gap": null,
            "max_width": null,
            "order": null,
            "_view_module_version": "1.2.0",
            "grid_template_areas": null,
            "object_position": null,
            "object_fit": null,
            "grid_auto_columns": null,
            "margin": null,
            "display": null,
            "left": null
          }
        },
        "650abb4343844b969cbdc5ccef2bf218": {
          "model_module": "@jupyter-widgets/controls",
          "model_name": "HBoxModel",
          "model_module_version": "1.5.0",
          "state": {
            "_view_name": "HBoxView",
            "_dom_classes": [],
            "_model_name": "HBoxModel",
            "_view_module": "@jupyter-widgets/controls",
            "_model_module_version": "1.5.0",
            "_view_count": null,
            "_view_module_version": "1.5.0",
            "box_style": "",
            "layout": "IPY_MODEL_64061baf4e1c4baf8f0ab94a8abd42ae",
            "_model_module": "@jupyter-widgets/controls",
            "children": [
              "IPY_MODEL_5e0d5d47acfe4107b6122ee1b720717c",
              "IPY_MODEL_17a78782c40d4fd88fe218c40e9220ae",
              "IPY_MODEL_07c7ed585eff41dc81770799697c3271"
            ]
          }
        },
        "64061baf4e1c4baf8f0ab94a8abd42ae": {
          "model_module": "@jupyter-widgets/base",
          "model_name": "LayoutModel",
          "model_module_version": "1.2.0",
          "state": {
            "_view_name": "LayoutView",
            "grid_template_rows": null,
            "right": null,
            "justify_content": null,
            "_view_module": "@jupyter-widgets/base",
            "overflow": null,
            "_model_module_version": "1.2.0",
            "_view_count": null,
            "flex_flow": null,
            "width": null,
            "min_width": null,
            "border": null,
            "align_items": null,
            "bottom": null,
            "_model_module": "@jupyter-widgets/base",
            "top": null,
            "grid_column": null,
            "overflow_y": null,
            "overflow_x": null,
            "grid_auto_flow": null,
            "grid_area": null,
            "grid_template_columns": null,
            "flex": null,
            "_model_name": "LayoutModel",
            "justify_items": null,
            "grid_row": null,
            "max_height": null,
            "align_content": null,
            "visibility": null,
            "align_self": null,
            "height": null,
            "min_height": null,
            "padding": null,
            "grid_auto_rows": null,
            "grid_gap": null,
            "max_width": null,
            "order": null,
            "_view_module_version": "1.2.0",
            "grid_template_areas": null,
            "object_position": null,
            "object_fit": null,
            "grid_auto_columns": null,
            "margin": null,
            "display": null,
            "left": null
          }
        },
        "5e0d5d47acfe4107b6122ee1b720717c": {
          "model_module": "@jupyter-widgets/controls",
          "model_name": "HTMLModel",
          "model_module_version": "1.5.0",
          "state": {
            "_view_name": "HTMLView",
            "style": "IPY_MODEL_9ac1d77c50ff44b2b7cad01bbe8929b8",
            "_dom_classes": [],
            "description": "",
            "_model_name": "HTMLModel",
            "placeholder": "​",
            "_view_module": "@jupyter-widgets/controls",
            "_model_module_version": "1.5.0",
            "value": "Downloading: 100%",
            "_view_count": null,
            "_view_module_version": "1.5.0",
            "description_tooltip": null,
            "_model_module": "@jupyter-widgets/controls",
            "layout": "IPY_MODEL_5aa7535b2f8c43af8308d105de9df008"
          }
        },
        "17a78782c40d4fd88fe218c40e9220ae": {
          "model_module": "@jupyter-widgets/controls",
          "model_name": "FloatProgressModel",
          "model_module_version": "1.5.0",
          "state": {
            "_view_name": "ProgressView",
            "style": "IPY_MODEL_9e0526ceccaf44ebba0777abffcb118b",
            "_dom_classes": [],
            "description": "",
            "_model_name": "FloatProgressModel",
            "bar_style": "success",
            "max": 1389353,
            "_view_module": "@jupyter-widgets/controls",
            "_model_module_version": "1.5.0",
            "value": 1389353,
            "_view_count": null,
            "_view_module_version": "1.5.0",
            "orientation": "horizontal",
            "min": 0,
            "description_tooltip": null,
            "_model_module": "@jupyter-widgets/controls",
            "layout": "IPY_MODEL_e090815a7cd1424b8ac39657c8268a41"
          }
        },
        "07c7ed585eff41dc81770799697c3271": {
          "model_module": "@jupyter-widgets/controls",
          "model_name": "HTMLModel",
          "model_module_version": "1.5.0",
          "state": {
            "_view_name": "HTMLView",
            "style": "IPY_MODEL_46e12142423a43e1a08c53769749fa9f",
            "_dom_classes": [],
            "description": "",
            "_model_name": "HTMLModel",
            "placeholder": "​",
            "_view_module": "@jupyter-widgets/controls",
            "_model_module_version": "1.5.0",
            "value": " 1.32M/1.32M [214ms&lt;0ms, 1.33MB/s]",
            "_view_count": null,
            "_view_module_version": "1.5.0",
            "description_tooltip": null,
            "_model_module": "@jupyter-widgets/controls",
            "layout": "IPY_MODEL_026af9fca8f64f93b19c8ef4e694752c"
          }
        },
        "9ac1d77c50ff44b2b7cad01bbe8929b8": {
          "model_module": "@jupyter-widgets/controls",
          "model_name": "DescriptionStyleModel",
          "model_module_version": "1.5.0",
          "state": {
            "_view_name": "StyleView",
            "_model_name": "DescriptionStyleModel",
            "description_width": "",
            "_view_module": "@jupyter-widgets/base",
            "_model_module_version": "1.5.0",
            "_view_count": null,
            "_view_module_version": "1.2.0",
            "_model_module": "@jupyter-widgets/controls"
          }
        },
        "5aa7535b2f8c43af8308d105de9df008": {
          "model_module": "@jupyter-widgets/base",
          "model_name": "LayoutModel",
          "model_module_version": "1.2.0",
          "state": {
            "_view_name": "LayoutView",
            "grid_template_rows": null,
            "right": null,
            "justify_content": null,
            "_view_module": "@jupyter-widgets/base",
            "overflow": null,
            "_model_module_version": "1.2.0",
            "_view_count": null,
            "flex_flow": null,
            "width": null,
            "min_width": null,
            "border": null,
            "align_items": null,
            "bottom": null,
            "_model_module": "@jupyter-widgets/base",
            "top": null,
            "grid_column": null,
            "overflow_y": null,
            "overflow_x": null,
            "grid_auto_flow": null,
            "grid_area": null,
            "grid_template_columns": null,
            "flex": null,
            "_model_name": "LayoutModel",
            "justify_items": null,
            "grid_row": null,
            "max_height": null,
            "align_content": null,
            "visibility": null,
            "align_self": null,
            "height": null,
            "min_height": null,
            "padding": null,
            "grid_auto_rows": null,
            "grid_gap": null,
            "max_width": null,
            "order": null,
            "_view_module_version": "1.2.0",
            "grid_template_areas": null,
            "object_position": null,
            "object_fit": null,
            "grid_auto_columns": null,
            "margin": null,
            "display": null,
            "left": null
          }
        },
        "9e0526ceccaf44ebba0777abffcb118b": {
          "model_module": "@jupyter-widgets/controls",
          "model_name": "ProgressStyleModel",
          "model_module_version": "1.5.0",
          "state": {
            "_view_name": "StyleView",
            "_model_name": "ProgressStyleModel",
            "description_width": "",
            "_view_module": "@jupyter-widgets/base",
            "_model_module_version": "1.5.0",
            "_view_count": null,
            "_view_module_version": "1.2.0",
            "bar_color": null,
            "_model_module": "@jupyter-widgets/controls"
          }
        },
        "e090815a7cd1424b8ac39657c8268a41": {
          "model_module": "@jupyter-widgets/base",
          "model_name": "LayoutModel",
          "model_module_version": "1.2.0",
          "state": {
            "_view_name": "LayoutView",
            "grid_template_rows": null,
            "right": null,
            "justify_content": null,
            "_view_module": "@jupyter-widgets/base",
            "overflow": null,
            "_model_module_version": "1.2.0",
            "_view_count": null,
            "flex_flow": null,
            "width": null,
            "min_width": null,
            "border": null,
            "align_items": null,
            "bottom": null,
            "_model_module": "@jupyter-widgets/base",
            "top": null,
            "grid_column": null,
            "overflow_y": null,
            "overflow_x": null,
            "grid_auto_flow": null,
            "grid_area": null,
            "grid_template_columns": null,
            "flex": null,
            "_model_name": "LayoutModel",
            "justify_items": null,
            "grid_row": null,
            "max_height": null,
            "align_content": null,
            "visibility": null,
            "align_self": null,
            "height": null,
            "min_height": null,
            "padding": null,
            "grid_auto_rows": null,
            "grid_gap": null,
            "max_width": null,
            "order": null,
            "_view_module_version": "1.2.0",
            "grid_template_areas": null,
            "object_position": null,
            "object_fit": null,
            "grid_auto_columns": null,
            "margin": null,
            "display": null,
            "left": null
          }
        },
        "46e12142423a43e1a08c53769749fa9f": {
          "model_module": "@jupyter-widgets/controls",
          "model_name": "DescriptionStyleModel",
          "model_module_version": "1.5.0",
          "state": {
            "_view_name": "StyleView",
            "_model_name": "DescriptionStyleModel",
            "description_width": "",
            "_view_module": "@jupyter-widgets/base",
            "_model_module_version": "1.5.0",
            "_view_count": null,
            "_view_module_version": "1.2.0",
            "_model_module": "@jupyter-widgets/controls"
          }
        },
        "026af9fca8f64f93b19c8ef4e694752c": {
          "model_module": "@jupyter-widgets/base",
          "model_name": "LayoutModel",
          "model_module_version": "1.2.0",
          "state": {
            "_view_name": "LayoutView",
            "grid_template_rows": null,
            "right": null,
            "justify_content": null,
            "_view_module": "@jupyter-widgets/base",
            "overflow": null,
            "_model_module_version": "1.2.0",
            "_view_count": null,
            "flex_flow": null,
            "width": null,
            "min_width": null,
            "border": null,
            "align_items": null,
            "bottom": null,
            "_model_module": "@jupyter-widgets/base",
            "top": null,
            "grid_column": null,
            "overflow_y": null,
            "overflow_x": null,
            "grid_auto_flow": null,
            "grid_area": null,
            "grid_template_columns": null,
            "flex": null,
            "_model_name": "LayoutModel",
            "justify_items": null,
            "grid_row": null,
            "max_height": null,
            "align_content": null,
            "visibility": null,
            "align_self": null,
            "height": null,
            "min_height": null,
            "padding": null,
            "grid_auto_rows": null,
            "grid_gap": null,
            "max_width": null,
            "order": null,
            "_view_module_version": "1.2.0",
            "grid_template_areas": null,
            "object_position": null,
            "object_fit": null,
            "grid_auto_columns": null,
            "margin": null,
            "display": null,
            "left": null
          }
        },
        "942b1ecfa82e462babfc8d2cd697450f": {
          "model_module": "@jupyter-widgets/controls",
          "model_name": "HBoxModel",
          "model_module_version": "1.5.0",
          "state": {
            "_view_name": "HBoxView",
            "_dom_classes": [],
            "_model_name": "HBoxModel",
            "_view_module": "@jupyter-widgets/controls",
            "_model_module_version": "1.5.0",
            "_view_count": null,
            "_view_module_version": "1.5.0",
            "box_style": "",
            "layout": "IPY_MODEL_f68b93e224e34afca4562e901c464b24",
            "_model_module": "@jupyter-widgets/controls",
            "children": [
              "IPY_MODEL_be9593bc983c435bad73172499ba923d",
              "IPY_MODEL_a57fb8bfc96740bf8aef90471db4e835",
              "IPY_MODEL_3c73cc842087414ba956c3e4922d1d3f"
            ]
          }
        },
        "f68b93e224e34afca4562e901c464b24": {
          "model_module": "@jupyter-widgets/base",
          "model_name": "LayoutModel",
          "model_module_version": "1.2.0",
          "state": {
            "_view_name": "LayoutView",
            "grid_template_rows": null,
            "right": null,
            "justify_content": null,
            "_view_module": "@jupyter-widgets/base",
            "overflow": null,
            "_model_module_version": "1.2.0",
            "_view_count": null,
            "flex_flow": null,
            "width": null,
            "min_width": null,
            "border": null,
            "align_items": null,
            "bottom": null,
            "_model_module": "@jupyter-widgets/base",
            "top": null,
            "grid_column": null,
            "overflow_y": null,
            "overflow_x": null,
            "grid_auto_flow": null,
            "grid_area": null,
            "grid_template_columns": null,
            "flex": null,
            "_model_name": "LayoutModel",
            "justify_items": null,
            "grid_row": null,
            "max_height": null,
            "align_content": null,
            "visibility": null,
            "align_self": null,
            "height": null,
            "min_height": null,
            "padding": null,
            "grid_auto_rows": null,
            "grid_gap": null,
            "max_width": null,
            "order": null,
            "_view_module_version": "1.2.0",
            "grid_template_areas": null,
            "object_position": null,
            "object_fit": null,
            "grid_auto_columns": null,
            "margin": null,
            "display": null,
            "left": null
          }
        },
        "be9593bc983c435bad73172499ba923d": {
          "model_module": "@jupyter-widgets/controls",
          "model_name": "HTMLModel",
          "model_module_version": "1.5.0",
          "state": {
            "_view_name": "HTMLView",
            "style": "IPY_MODEL_e669b1a8d9ee4d99ac046cf3a549ad1e",
            "_dom_classes": [],
            "description": "",
            "_model_name": "HTMLModel",
            "placeholder": "​",
            "_view_module": "@jupyter-widgets/controls",
            "_model_module_version": "1.5.0",
            "value": "Downloading: 100%",
            "_view_count": null,
            "_view_module_version": "1.5.0",
            "description_tooltip": null,
            "_model_module": "@jupyter-widgets/controls",
            "layout": "IPY_MODEL_f849c656220a4389a54a0a37381014d5"
          }
        },
        "a57fb8bfc96740bf8aef90471db4e835": {
          "model_module": "@jupyter-widgets/controls",
          "model_name": "FloatProgressModel",
          "model_module_version": "1.5.0",
          "state": {
            "_view_name": "ProgressView",
            "style": "IPY_MODEL_04f6eb5ba62b41db8bb412d3f3b684cb",
            "_dom_classes": [],
            "description": "",
            "_model_name": "FloatProgressModel",
            "bar_style": "success",
            "max": 1199,
            "_view_module": "@jupyter-widgets/controls",
            "_model_module_version": "1.5.0",
            "value": 1199,
            "_view_count": null,
            "_view_module_version": "1.5.0",
            "orientation": "horizontal",
            "min": 0,
            "description_tooltip": null,
            "_model_module": "@jupyter-widgets/controls",
            "layout": "IPY_MODEL_9eb58c36b8f347f385671d806c26399b"
          }
        },
        "3c73cc842087414ba956c3e4922d1d3f": {
          "model_module": "@jupyter-widgets/controls",
          "model_name": "HTMLModel",
          "model_module_version": "1.5.0",
          "state": {
            "_view_name": "HTMLView",
            "style": "IPY_MODEL_86d87450215b4d008f77b1244e736cd4",
            "_dom_classes": [],
            "description": "",
            "_model_name": "HTMLModel",
            "placeholder": "​",
            "_view_module": "@jupyter-widgets/controls",
            "_model_module_version": "1.5.0",
            "value": " 1.17k/1.17k [48ms&lt;0ms, 25.1kB/s]",
            "_view_count": null,
            "_view_module_version": "1.5.0",
            "description_tooltip": null,
            "_model_module": "@jupyter-widgets/controls",
            "layout": "IPY_MODEL_8f8ae9581a504ada9ba9c1fcbe65012a"
          }
        },
        "e669b1a8d9ee4d99ac046cf3a549ad1e": {
          "model_module": "@jupyter-widgets/controls",
          "model_name": "DescriptionStyleModel",
          "model_module_version": "1.5.0",
          "state": {
            "_view_name": "StyleView",
            "_model_name": "DescriptionStyleModel",
            "description_width": "",
            "_view_module": "@jupyter-widgets/base",
            "_model_module_version": "1.5.0",
            "_view_count": null,
            "_view_module_version": "1.2.0",
            "_model_module": "@jupyter-widgets/controls"
          }
        },
        "f849c656220a4389a54a0a37381014d5": {
          "model_module": "@jupyter-widgets/base",
          "model_name": "LayoutModel",
          "model_module_version": "1.2.0",
          "state": {
            "_view_name": "LayoutView",
            "grid_template_rows": null,
            "right": null,
            "justify_content": null,
            "_view_module": "@jupyter-widgets/base",
            "overflow": null,
            "_model_module_version": "1.2.0",
            "_view_count": null,
            "flex_flow": null,
            "width": null,
            "min_width": null,
            "border": null,
            "align_items": null,
            "bottom": null,
            "_model_module": "@jupyter-widgets/base",
            "top": null,
            "grid_column": null,
            "overflow_y": null,
            "overflow_x": null,
            "grid_auto_flow": null,
            "grid_area": null,
            "grid_template_columns": null,
            "flex": null,
            "_model_name": "LayoutModel",
            "justify_items": null,
            "grid_row": null,
            "max_height": null,
            "align_content": null,
            "visibility": null,
            "align_self": null,
            "height": null,
            "min_height": null,
            "padding": null,
            "grid_auto_rows": null,
            "grid_gap": null,
            "max_width": null,
            "order": null,
            "_view_module_version": "1.2.0",
            "grid_template_areas": null,
            "object_position": null,
            "object_fit": null,
            "grid_auto_columns": null,
            "margin": null,
            "display": null,
            "left": null
          }
        },
        "04f6eb5ba62b41db8bb412d3f3b684cb": {
          "model_module": "@jupyter-widgets/controls",
          "model_name": "ProgressStyleModel",
          "model_module_version": "1.5.0",
          "state": {
            "_view_name": "StyleView",
            "_model_name": "ProgressStyleModel",
            "description_width": "",
            "_view_module": "@jupyter-widgets/base",
            "_model_module_version": "1.5.0",
            "_view_count": null,
            "_view_module_version": "1.2.0",
            "bar_color": null,
            "_model_module": "@jupyter-widgets/controls"
          }
        },
        "9eb58c36b8f347f385671d806c26399b": {
          "model_module": "@jupyter-widgets/base",
          "model_name": "LayoutModel",
          "model_module_version": "1.2.0",
          "state": {
            "_view_name": "LayoutView",
            "grid_template_rows": null,
            "right": null,
            "justify_content": null,
            "_view_module": "@jupyter-widgets/base",
            "overflow": null,
            "_model_module_version": "1.2.0",
            "_view_count": null,
            "flex_flow": null,
            "width": null,
            "min_width": null,
            "border": null,
            "align_items": null,
            "bottom": null,
            "_model_module": "@jupyter-widgets/base",
            "top": null,
            "grid_column": null,
            "overflow_y": null,
            "overflow_x": null,
            "grid_auto_flow": null,
            "grid_area": null,
            "grid_template_columns": null,
            "flex": null,
            "_model_name": "LayoutModel",
            "justify_items": null,
            "grid_row": null,
            "max_height": null,
            "align_content": null,
            "visibility": null,
            "align_self": null,
            "height": null,
            "min_height": null,
            "padding": null,
            "grid_auto_rows": null,
            "grid_gap": null,
            "max_width": null,
            "order": null,
            "_view_module_version": "1.2.0",
            "grid_template_areas": null,
            "object_position": null,
            "object_fit": null,
            "grid_auto_columns": null,
            "margin": null,
            "display": null,
            "left": null
          }
        },
        "86d87450215b4d008f77b1244e736cd4": {
          "model_module": "@jupyter-widgets/controls",
          "model_name": "DescriptionStyleModel",
          "model_module_version": "1.5.0",
          "state": {
            "_view_name": "StyleView",
            "_model_name": "DescriptionStyleModel",
            "description_width": "",
            "_view_module": "@jupyter-widgets/base",
            "_model_module_version": "1.5.0",
            "_view_count": null,
            "_view_module_version": "1.2.0",
            "_model_module": "@jupyter-widgets/controls"
          }
        },
        "8f8ae9581a504ada9ba9c1fcbe65012a": {
          "model_module": "@jupyter-widgets/base",
          "model_name": "LayoutModel",
          "model_module_version": "1.2.0",
          "state": {
            "_view_name": "LayoutView",
            "grid_template_rows": null,
            "right": null,
            "justify_content": null,
            "_view_module": "@jupyter-widgets/base",
            "overflow": null,
            "_model_module_version": "1.2.0",
            "_view_count": null,
            "flex_flow": null,
            "width": null,
            "min_width": null,
            "border": null,
            "align_items": null,
            "bottom": null,
            "_model_module": "@jupyter-widgets/base",
            "top": null,
            "grid_column": null,
            "overflow_y": null,
            "overflow_x": null,
            "grid_auto_flow": null,
            "grid_area": null,
            "grid_template_columns": null,
            "flex": null,
            "_model_name": "LayoutModel",
            "justify_items": null,
            "grid_row": null,
            "max_height": null,
            "align_content": null,
            "visibility": null,
            "align_self": null,
            "height": null,
            "min_height": null,
            "padding": null,
            "grid_auto_rows": null,
            "grid_gap": null,
            "max_width": null,
            "order": null,
            "_view_module_version": "1.2.0",
            "grid_template_areas": null,
            "object_position": null,
            "object_fit": null,
            "grid_auto_columns": null,
            "margin": null,
            "display": null,
            "left": null
          }
        },
        "ddee9eb6dbc641e5aef9156a4431ae5c": {
          "model_module": "@jupyter-widgets/controls",
          "model_name": "HBoxModel",
          "model_module_version": "1.5.0",
          "state": {
            "_view_name": "HBoxView",
            "_dom_classes": [],
            "_model_name": "HBoxModel",
            "_view_module": "@jupyter-widgets/controls",
            "_model_module_version": "1.5.0",
            "_view_count": null,
            "_view_module_version": "1.5.0",
            "box_style": "",
            "layout": "IPY_MODEL_09b6e1c9e8a84eb78cff42c3ecfc4534",
            "_model_module": "@jupyter-widgets/controls",
            "children": [
              "IPY_MODEL_b485333e5e1d4330b6498632c41d6425",
              "IPY_MODEL_49945d0d43a4426782e4f3b4e7e56066",
              "IPY_MODEL_fb23dda0f22b40069757845f5bd2ff7c"
            ]
          }
        },
        "09b6e1c9e8a84eb78cff42c3ecfc4534": {
          "model_module": "@jupyter-widgets/base",
          "model_name": "LayoutModel",
          "model_module_version": "1.2.0",
          "state": {
            "_view_name": "LayoutView",
            "grid_template_rows": null,
            "right": null,
            "justify_content": null,
            "_view_module": "@jupyter-widgets/base",
            "overflow": null,
            "_model_module_version": "1.2.0",
            "_view_count": null,
            "flex_flow": null,
            "width": null,
            "min_width": null,
            "border": null,
            "align_items": null,
            "bottom": null,
            "_model_module": "@jupyter-widgets/base",
            "top": null,
            "grid_column": null,
            "overflow_y": null,
            "overflow_x": null,
            "grid_auto_flow": null,
            "grid_area": null,
            "grid_template_columns": null,
            "flex": null,
            "_model_name": "LayoutModel",
            "justify_items": null,
            "grid_row": null,
            "max_height": null,
            "align_content": null,
            "visibility": null,
            "align_self": null,
            "height": null,
            "min_height": null,
            "padding": null,
            "grid_auto_rows": null,
            "grid_gap": null,
            "max_width": null,
            "order": null,
            "_view_module_version": "1.2.0",
            "grid_template_areas": null,
            "object_position": null,
            "object_fit": null,
            "grid_auto_columns": null,
            "margin": null,
            "display": null,
            "left": null
          }
        },
        "b485333e5e1d4330b6498632c41d6425": {
          "model_module": "@jupyter-widgets/controls",
          "model_name": "HTMLModel",
          "model_module_version": "1.5.0",
          "state": {
            "_view_name": "HTMLView",
            "style": "IPY_MODEL_d004971f9bda4a34ae4ab75c63e95b6d",
            "_dom_classes": [],
            "description": "",
            "_model_name": "HTMLModel",
            "placeholder": "​",
            "_view_module": "@jupyter-widgets/controls",
            "_model_module_version": "1.5.0",
            "value": "cord19/trec-covid documents: 100%",
            "_view_count": null,
            "_view_module_version": "1.5.0",
            "description_tooltip": null,
            "_model_module": "@jupyter-widgets/controls",
            "layout": "IPY_MODEL_4c6d553b72664f3a916620aa5ca3fcf6"
          }
        },
        "49945d0d43a4426782e4f3b4e7e56066": {
          "model_module": "@jupyter-widgets/controls",
          "model_name": "FloatProgressModel",
          "model_module_version": "1.5.0",
          "state": {
            "_view_name": "ProgressView",
            "style": "IPY_MODEL_80e73c99ec104a8f9cdde6ecd2775262",
            "_dom_classes": [],
            "description": "",
            "_model_name": "FloatProgressModel",
            "bar_style": "success",
            "max": 192509,
            "_view_module": "@jupyter-widgets/controls",
            "_model_module_version": "1.5.0",
            "value": 192509,
            "_view_count": null,
            "_view_module_version": "1.5.0",
            "orientation": "horizontal",
            "min": 0,
            "description_tooltip": null,
            "_model_module": "@jupyter-widgets/controls",
            "layout": "IPY_MODEL_a30b71e7b6bf4f8888233ebc00aa9b25"
          }
        },
        "fb23dda0f22b40069757845f5bd2ff7c": {
          "model_module": "@jupyter-widgets/controls",
          "model_name": "HTMLModel",
          "model_module_version": "1.5.0",
          "state": {
            "_view_name": "HTMLView",
            "style": "IPY_MODEL_c454995a9e1d4501a6cec1c8f27b4372",
            "_dom_classes": [],
            "description": "",
            "_model_name": "HTMLModel",
            "placeholder": "​",
            "_view_module": "@jupyter-widgets/controls",
            "_model_module_version": "1.5.0",
            "value": " 192509/192509 [3.54s&lt;0ms, 57546.44it/s]",
            "_view_count": null,
            "_view_module_version": "1.5.0",
            "description_tooltip": null,
            "_model_module": "@jupyter-widgets/controls",
            "layout": "IPY_MODEL_f0ec810cc5a4498b9a99da072c1c9101"
          }
        },
        "d004971f9bda4a34ae4ab75c63e95b6d": {
          "model_module": "@jupyter-widgets/controls",
          "model_name": "DescriptionStyleModel",
          "model_module_version": "1.5.0",
          "state": {
            "_view_name": "StyleView",
            "_model_name": "DescriptionStyleModel",
            "description_width": "",
            "_view_module": "@jupyter-widgets/base",
            "_model_module_version": "1.5.0",
            "_view_count": null,
            "_view_module_version": "1.2.0",
            "_model_module": "@jupyter-widgets/controls"
          }
        },
        "4c6d553b72664f3a916620aa5ca3fcf6": {
          "model_module": "@jupyter-widgets/base",
          "model_name": "LayoutModel",
          "model_module_version": "1.2.0",
          "state": {
            "_view_name": "LayoutView",
            "grid_template_rows": null,
            "right": null,
            "justify_content": null,
            "_view_module": "@jupyter-widgets/base",
            "overflow": null,
            "_model_module_version": "1.2.0",
            "_view_count": null,
            "flex_flow": null,
            "width": null,
            "min_width": null,
            "border": null,
            "align_items": null,
            "bottom": null,
            "_model_module": "@jupyter-widgets/base",
            "top": null,
            "grid_column": null,
            "overflow_y": null,
            "overflow_x": null,
            "grid_auto_flow": null,
            "grid_area": null,
            "grid_template_columns": null,
            "flex": null,
            "_model_name": "LayoutModel",
            "justify_items": null,
            "grid_row": null,
            "max_height": null,
            "align_content": null,
            "visibility": null,
            "align_self": null,
            "height": null,
            "min_height": null,
            "padding": null,
            "grid_auto_rows": null,
            "grid_gap": null,
            "max_width": null,
            "order": null,
            "_view_module_version": "1.2.0",
            "grid_template_areas": null,
            "object_position": null,
            "object_fit": null,
            "grid_auto_columns": null,
            "margin": null,
            "display": null,
            "left": null
          }
        },
        "80e73c99ec104a8f9cdde6ecd2775262": {
          "model_module": "@jupyter-widgets/controls",
          "model_name": "ProgressStyleModel",
          "model_module_version": "1.5.0",
          "state": {
            "_view_name": "StyleView",
            "_model_name": "ProgressStyleModel",
            "description_width": "",
            "_view_module": "@jupyter-widgets/base",
            "_model_module_version": "1.5.0",
            "_view_count": null,
            "_view_module_version": "1.2.0",
            "bar_color": null,
            "_model_module": "@jupyter-widgets/controls"
          }
        },
        "a30b71e7b6bf4f8888233ebc00aa9b25": {
          "model_module": "@jupyter-widgets/base",
          "model_name": "LayoutModel",
          "model_module_version": "1.2.0",
          "state": {
            "_view_name": "LayoutView",
            "grid_template_rows": null,
            "right": null,
            "justify_content": null,
            "_view_module": "@jupyter-widgets/base",
            "overflow": null,
            "_model_module_version": "1.2.0",
            "_view_count": null,
            "flex_flow": null,
            "width": null,
            "min_width": null,
            "border": null,
            "align_items": null,
            "bottom": null,
            "_model_module": "@jupyter-widgets/base",
            "top": null,
            "grid_column": null,
            "overflow_y": null,
            "overflow_x": null,
            "grid_auto_flow": null,
            "grid_area": null,
            "grid_template_columns": null,
            "flex": null,
            "_model_name": "LayoutModel",
            "justify_items": null,
            "grid_row": null,
            "max_height": null,
            "align_content": null,
            "visibility": null,
            "align_self": null,
            "height": null,
            "min_height": null,
            "padding": null,
            "grid_auto_rows": null,
            "grid_gap": null,
            "max_width": null,
            "order": null,
            "_view_module_version": "1.2.0",
            "grid_template_areas": null,
            "object_position": null,
            "object_fit": null,
            "grid_auto_columns": null,
            "margin": null,
            "display": null,
            "left": null
          }
        },
        "c454995a9e1d4501a6cec1c8f27b4372": {
          "model_module": "@jupyter-widgets/controls",
          "model_name": "DescriptionStyleModel",
          "model_module_version": "1.5.0",
          "state": {
            "_view_name": "StyleView",
            "_model_name": "DescriptionStyleModel",
            "description_width": "",
            "_view_module": "@jupyter-widgets/base",
            "_model_module_version": "1.5.0",
            "_view_count": null,
            "_view_module_version": "1.2.0",
            "_model_module": "@jupyter-widgets/controls"
          }
        },
        "f0ec810cc5a4498b9a99da072c1c9101": {
          "model_module": "@jupyter-widgets/base",
          "model_name": "LayoutModel",
          "model_module_version": "1.2.0",
          "state": {
            "_view_name": "LayoutView",
            "grid_template_rows": null,
            "right": null,
            "justify_content": null,
            "_view_module": "@jupyter-widgets/base",
            "overflow": null,
            "_model_module_version": "1.2.0",
            "_view_count": null,
            "flex_flow": null,
            "width": null,
            "min_width": null,
            "border": null,
            "align_items": null,
            "bottom": null,
            "_model_module": "@jupyter-widgets/base",
            "top": null,
            "grid_column": null,
            "overflow_y": null,
            "overflow_x": null,
            "grid_auto_flow": null,
            "grid_area": null,
            "grid_template_columns": null,
            "flex": null,
            "_model_name": "LayoutModel",
            "justify_items": null,
            "grid_row": null,
            "max_height": null,
            "align_content": null,
            "visibility": null,
            "align_self": null,
            "height": null,
            "min_height": null,
            "padding": null,
            "grid_auto_rows": null,
            "grid_gap": null,
            "max_width": null,
            "order": null,
            "_view_module_version": "1.2.0",
            "grid_template_areas": null,
            "object_position": null,
            "object_fit": null,
            "grid_auto_columns": null,
            "margin": null,
            "display": null,
            "left": null
          }
        },
        "b411c73bd69b446bbe423ddc444ea613": {
          "model_module": "@jupyter-widgets/controls",
          "model_name": "HBoxModel",
          "model_module_version": "1.5.0",
          "state": {
            "_view_name": "HBoxView",
            "_dom_classes": [],
            "_model_name": "HBoxModel",
            "_view_module": "@jupyter-widgets/controls",
            "_model_module_version": "1.5.0",
            "_view_count": null,
            "_view_module_version": "1.5.0",
            "box_style": "",
            "layout": "IPY_MODEL_5a4f665c430742f5b13c3e4e054b7c81",
            "_model_module": "@jupyter-widgets/controls",
            "children": [
              "IPY_MODEL_848ab221db034be493bc75422ed13905",
              "IPY_MODEL_4de6a83ccd724ac69a6a0a81314ee075",
              "IPY_MODEL_4f81a0ca95dc47e6834b259ed80d8c04"
            ]
          }
        },
        "5a4f665c430742f5b13c3e4e054b7c81": {
          "model_module": "@jupyter-widgets/base",
          "model_name": "LayoutModel",
          "model_module_version": "1.2.0",
          "state": {
            "_view_name": "LayoutView",
            "grid_template_rows": null,
            "right": null,
            "justify_content": null,
            "_view_module": "@jupyter-widgets/base",
            "overflow": null,
            "_model_module_version": "1.2.0",
            "_view_count": null,
            "flex_flow": null,
            "width": null,
            "min_width": null,
            "border": null,
            "align_items": null,
            "bottom": null,
            "_model_module": "@jupyter-widgets/base",
            "top": null,
            "grid_column": null,
            "overflow_y": null,
            "overflow_x": null,
            "grid_auto_flow": null,
            "grid_area": null,
            "grid_template_columns": null,
            "flex": null,
            "_model_name": "LayoutModel",
            "justify_items": null,
            "grid_row": null,
            "max_height": null,
            "align_content": null,
            "visibility": null,
            "align_self": null,
            "height": null,
            "min_height": null,
            "padding": null,
            "grid_auto_rows": null,
            "grid_gap": null,
            "max_width": null,
            "order": null,
            "_view_module_version": "1.2.0",
            "grid_template_areas": null,
            "object_position": null,
            "object_fit": null,
            "grid_auto_columns": null,
            "margin": null,
            "display": null,
            "left": null
          }
        },
        "848ab221db034be493bc75422ed13905": {
          "model_module": "@jupyter-widgets/controls",
          "model_name": "HTMLModel",
          "model_module_version": "1.5.0",
          "state": {
            "_view_name": "HTMLView",
            "style": "IPY_MODEL_24d9486f46a44432a08c87aac043d024",
            "_dom_classes": [],
            "description": "",
            "_model_name": "HTMLModel",
            "placeholder": "​",
            "_view_module": "@jupyter-widgets/controls",
            "_model_module_version": "1.5.0",
            "value": "batches:  94%",
            "_view_count": null,
            "_view_module_version": "1.5.0",
            "description_tooltip": null,
            "_model_module": "@jupyter-widgets/controls",
            "layout": "IPY_MODEL_c277e7e0f3b54536a1071e616946c1e7"
          }
        },
        "4de6a83ccd724ac69a6a0a81314ee075": {
          "model_module": "@jupyter-widgets/controls",
          "model_name": "FloatProgressModel",
          "model_module_version": "1.5.0",
          "state": {
            "_view_name": "ProgressView",
            "style": "IPY_MODEL_513c292921bc4df198ac52e3aaa88153",
            "_dom_classes": [],
            "description": "",
            "_model_name": "FloatProgressModel",
            "bar_style": "",
            "max": 125,
            "_view_module": "@jupyter-widgets/controls",
            "_model_module_version": "1.5.0",
            "value": 125,
            "_view_count": null,
            "_view_module_version": "1.5.0",
            "orientation": "horizontal",
            "min": 0,
            "description_tooltip": null,
            "_model_module": "@jupyter-widgets/controls",
            "layout": "IPY_MODEL_b949bc71696b4cb0acb492ea54246b9c"
          }
        },
        "4f81a0ca95dc47e6834b259ed80d8c04": {
          "model_module": "@jupyter-widgets/controls",
          "model_name": "HTMLModel",
          "model_module_version": "1.5.0",
          "state": {
            "_view_name": "HTMLView",
            "style": "IPY_MODEL_d1ca892445d44dd19b8fd7e22df0b17a",
            "_dom_classes": [],
            "description": "",
            "_model_name": "HTMLModel",
            "placeholder": "​",
            "_view_module": "@jupyter-widgets/controls",
            "_model_module_version": "1.5.0",
            "value": " 117/125 [932ms&lt;64ms, 125.58it/s]",
            "_view_count": null,
            "_view_module_version": "1.5.0",
            "description_tooltip": null,
            "_model_module": "@jupyter-widgets/controls",
            "layout": "IPY_MODEL_09d47d8d543a4767afba9fbb9c621672"
          }
        },
        "24d9486f46a44432a08c87aac043d024": {
          "model_module": "@jupyter-widgets/controls",
          "model_name": "DescriptionStyleModel",
          "model_module_version": "1.5.0",
          "state": {
            "_view_name": "StyleView",
            "_model_name": "DescriptionStyleModel",
            "description_width": "",
            "_view_module": "@jupyter-widgets/base",
            "_model_module_version": "1.5.0",
            "_view_count": null,
            "_view_module_version": "1.2.0",
            "_model_module": "@jupyter-widgets/controls"
          }
        },
        "c277e7e0f3b54536a1071e616946c1e7": {
          "model_module": "@jupyter-widgets/base",
          "model_name": "LayoutModel",
          "model_module_version": "1.2.0",
          "state": {
            "_view_name": "LayoutView",
            "grid_template_rows": null,
            "right": null,
            "justify_content": null,
            "_view_module": "@jupyter-widgets/base",
            "overflow": null,
            "_model_module_version": "1.2.0",
            "_view_count": null,
            "flex_flow": null,
            "width": null,
            "min_width": null,
            "border": null,
            "align_items": null,
            "bottom": null,
            "_model_module": "@jupyter-widgets/base",
            "top": null,
            "grid_column": null,
            "overflow_y": null,
            "overflow_x": null,
            "grid_auto_flow": null,
            "grid_area": null,
            "grid_template_columns": null,
            "flex": null,
            "_model_name": "LayoutModel",
            "justify_items": null,
            "grid_row": null,
            "max_height": null,
            "align_content": null,
            "visibility": null,
            "align_self": null,
            "height": null,
            "min_height": null,
            "padding": null,
            "grid_auto_rows": null,
            "grid_gap": null,
            "max_width": null,
            "order": null,
            "_view_module_version": "1.2.0",
            "grid_template_areas": null,
            "object_position": null,
            "object_fit": null,
            "grid_auto_columns": null,
            "margin": null,
            "display": null,
            "left": null
          }
        },
        "513c292921bc4df198ac52e3aaa88153": {
          "model_module": "@jupyter-widgets/controls",
          "model_name": "ProgressStyleModel",
          "model_module_version": "1.5.0",
          "state": {
            "_view_name": "StyleView",
            "_model_name": "ProgressStyleModel",
            "description_width": "",
            "_view_module": "@jupyter-widgets/base",
            "_model_module_version": "1.5.0",
            "_view_count": null,
            "_view_module_version": "1.2.0",
            "bar_color": null,
            "_model_module": "@jupyter-widgets/controls"
          }
        },
        "b949bc71696b4cb0acb492ea54246b9c": {
          "model_module": "@jupyter-widgets/base",
          "model_name": "LayoutModel",
          "model_module_version": "1.2.0",
          "state": {
            "_view_name": "LayoutView",
            "grid_template_rows": null,
            "right": null,
            "justify_content": null,
            "_view_module": "@jupyter-widgets/base",
            "overflow": null,
            "_model_module_version": "1.2.0",
            "_view_count": null,
            "flex_flow": null,
            "width": null,
            "min_width": null,
            "border": null,
            "align_items": null,
            "bottom": null,
            "_model_module": "@jupyter-widgets/base",
            "top": null,
            "grid_column": null,
            "overflow_y": null,
            "overflow_x": null,
            "grid_auto_flow": null,
            "grid_area": null,
            "grid_template_columns": null,
            "flex": null,
            "_model_name": "LayoutModel",
            "justify_items": null,
            "grid_row": null,
            "max_height": null,
            "align_content": null,
            "visibility": null,
            "align_self": null,
            "height": null,
            "min_height": null,
            "padding": null,
            "grid_auto_rows": null,
            "grid_gap": null,
            "max_width": null,
            "order": null,
            "_view_module_version": "1.2.0",
            "grid_template_areas": null,
            "object_position": null,
            "object_fit": null,
            "grid_auto_columns": null,
            "margin": null,
            "display": null,
            "left": null
          }
        },
        "d1ca892445d44dd19b8fd7e22df0b17a": {
          "model_module": "@jupyter-widgets/controls",
          "model_name": "DescriptionStyleModel",
          "model_module_version": "1.5.0",
          "state": {
            "_view_name": "StyleView",
            "_model_name": "DescriptionStyleModel",
            "description_width": "",
            "_view_module": "@jupyter-widgets/base",
            "_model_module_version": "1.5.0",
            "_view_count": null,
            "_view_module_version": "1.2.0",
            "_model_module": "@jupyter-widgets/controls"
          }
        },
        "09d47d8d543a4767afba9fbb9c621672": {
          "model_module": "@jupyter-widgets/base",
          "model_name": "LayoutModel",
          "model_module_version": "1.2.0",
          "state": {
            "_view_name": "LayoutView",
            "grid_template_rows": null,
            "right": null,
            "justify_content": null,
            "_view_module": "@jupyter-widgets/base",
            "overflow": null,
            "_model_module_version": "1.2.0",
            "_view_count": null,
            "flex_flow": null,
            "width": null,
            "min_width": null,
            "border": null,
            "align_items": null,
            "bottom": null,
            "_model_module": "@jupyter-widgets/base",
            "top": null,
            "grid_column": null,
            "overflow_y": null,
            "overflow_x": null,
            "grid_auto_flow": null,
            "grid_area": null,
            "grid_template_columns": null,
            "flex": null,
            "_model_name": "LayoutModel",
            "justify_items": null,
            "grid_row": null,
            "max_height": null,
            "align_content": null,
            "visibility": null,
            "align_self": null,
            "height": null,
            "min_height": null,
            "padding": null,
            "grid_auto_rows": null,
            "grid_gap": null,
            "max_width": null,
            "order": null,
            "_view_module_version": "1.2.0",
            "grid_template_areas": null,
            "object_position": null,
            "object_fit": null,
            "grid_auto_columns": null,
            "margin": null,
            "display": null,
            "left": null
          }
        },
        "d9ea269de72e45dabc672358d47632c6": {
          "model_module": "@jupyter-widgets/controls",
          "model_name": "HBoxModel",
          "model_module_version": "1.5.0",
          "state": {
            "_view_name": "HBoxView",
            "_dom_classes": [],
            "_model_name": "HBoxModel",
            "_view_module": "@jupyter-widgets/controls",
            "_model_module_version": "1.5.0",
            "_view_count": null,
            "_view_module_version": "1.5.0",
            "box_style": "",
            "layout": "IPY_MODEL_94e4faf0ab844148a8212bb44bfda2a5",
            "_model_module": "@jupyter-widgets/controls",
            "children": [
              "IPY_MODEL_98854c22dd4e40ea823ba2288e76bc14",
              "IPY_MODEL_e361f9ad27ec41a99c02e1bd33544974",
              "IPY_MODEL_3f298a93cfc24af284e20eec6295eb37"
            ]
          }
        },
        "94e4faf0ab844148a8212bb44bfda2a5": {
          "model_module": "@jupyter-widgets/base",
          "model_name": "LayoutModel",
          "model_module_version": "1.2.0",
          "state": {
            "_view_name": "LayoutView",
            "grid_template_rows": null,
            "right": null,
            "justify_content": null,
            "_view_module": "@jupyter-widgets/base",
            "overflow": null,
            "_model_module_version": "1.2.0",
            "_view_count": null,
            "flex_flow": null,
            "width": null,
            "min_width": null,
            "border": null,
            "align_items": null,
            "bottom": null,
            "_model_module": "@jupyter-widgets/base",
            "top": null,
            "grid_column": null,
            "overflow_y": null,
            "overflow_x": null,
            "grid_auto_flow": null,
            "grid_area": null,
            "grid_template_columns": null,
            "flex": null,
            "_model_name": "LayoutModel",
            "justify_items": null,
            "grid_row": null,
            "max_height": null,
            "align_content": null,
            "visibility": null,
            "align_self": null,
            "height": null,
            "min_height": null,
            "padding": null,
            "grid_auto_rows": null,
            "grid_gap": null,
            "max_width": null,
            "order": null,
            "_view_module_version": "1.2.0",
            "grid_template_areas": null,
            "object_position": null,
            "object_fit": null,
            "grid_auto_columns": null,
            "margin": null,
            "display": null,
            "left": null
          }
        },
        "98854c22dd4e40ea823ba2288e76bc14": {
          "model_module": "@jupyter-widgets/controls",
          "model_name": "HTMLModel",
          "model_module_version": "1.5.0",
          "state": {
            "_view_name": "HTMLView",
            "style": "IPY_MODEL_d330b24ad72d42c1af40697a5b37991d",
            "_dom_classes": [],
            "description": "",
            "_model_name": "HTMLModel",
            "placeholder": "​",
            "_view_module": "@jupyter-widgets/controls",
            "_model_module_version": "1.5.0",
            "value": "batches:  82%",
            "_view_count": null,
            "_view_module_version": "1.5.0",
            "description_tooltip": null,
            "_model_module": "@jupyter-widgets/controls",
            "layout": "IPY_MODEL_41b1c6e6e285403b8d87e0a705dbd28d"
          }
        },
        "e361f9ad27ec41a99c02e1bd33544974": {
          "model_module": "@jupyter-widgets/controls",
          "model_name": "FloatProgressModel",
          "model_module_version": "1.5.0",
          "state": {
            "_view_name": "ProgressView",
            "style": "IPY_MODEL_588476dcd8ad41dd8e2bc8651a744cb6",
            "_dom_classes": [],
            "description": "",
            "_model_name": "FloatProgressModel",
            "bar_style": "",
            "max": 125,
            "_view_module": "@jupyter-widgets/controls",
            "_model_module_version": "1.5.0",
            "value": 125,
            "_view_count": null,
            "_view_module_version": "1.5.0",
            "orientation": "horizontal",
            "min": 0,
            "description_tooltip": null,
            "_model_module": "@jupyter-widgets/controls",
            "layout": "IPY_MODEL_1e1c24201eb540e185c1e353a3699e8e"
          }
        },
        "3f298a93cfc24af284e20eec6295eb37": {
          "model_module": "@jupyter-widgets/controls",
          "model_name": "HTMLModel",
          "model_module_version": "1.5.0",
          "state": {
            "_view_name": "HTMLView",
            "style": "IPY_MODEL_e82fa1250f9b493b98317e4a83996c5d",
            "_dom_classes": [],
            "description": "",
            "_model_name": "HTMLModel",
            "placeholder": "​",
            "_view_module": "@jupyter-widgets/controls",
            "_model_module_version": "1.5.0",
            "value": " 103/125 [568ms&lt;121ms, 181.49it/s]",
            "_view_count": null,
            "_view_module_version": "1.5.0",
            "description_tooltip": null,
            "_model_module": "@jupyter-widgets/controls",
            "layout": "IPY_MODEL_79b32c08695943a5a069a42720f6f2f8"
          }
        },
        "d330b24ad72d42c1af40697a5b37991d": {
          "model_module": "@jupyter-widgets/controls",
          "model_name": "DescriptionStyleModel",
          "model_module_version": "1.5.0",
          "state": {
            "_view_name": "StyleView",
            "_model_name": "DescriptionStyleModel",
            "description_width": "",
            "_view_module": "@jupyter-widgets/base",
            "_model_module_version": "1.5.0",
            "_view_count": null,
            "_view_module_version": "1.2.0",
            "_model_module": "@jupyter-widgets/controls"
          }
        },
        "41b1c6e6e285403b8d87e0a705dbd28d": {
          "model_module": "@jupyter-widgets/base",
          "model_name": "LayoutModel",
          "model_module_version": "1.2.0",
          "state": {
            "_view_name": "LayoutView",
            "grid_template_rows": null,
            "right": null,
            "justify_content": null,
            "_view_module": "@jupyter-widgets/base",
            "overflow": null,
            "_model_module_version": "1.2.0",
            "_view_count": null,
            "flex_flow": null,
            "width": null,
            "min_width": null,
            "border": null,
            "align_items": null,
            "bottom": null,
            "_model_module": "@jupyter-widgets/base",
            "top": null,
            "grid_column": null,
            "overflow_y": null,
            "overflow_x": null,
            "grid_auto_flow": null,
            "grid_area": null,
            "grid_template_columns": null,
            "flex": null,
            "_model_name": "LayoutModel",
            "justify_items": null,
            "grid_row": null,
            "max_height": null,
            "align_content": null,
            "visibility": null,
            "align_self": null,
            "height": null,
            "min_height": null,
            "padding": null,
            "grid_auto_rows": null,
            "grid_gap": null,
            "max_width": null,
            "order": null,
            "_view_module_version": "1.2.0",
            "grid_template_areas": null,
            "object_position": null,
            "object_fit": null,
            "grid_auto_columns": null,
            "margin": null,
            "display": null,
            "left": null
          }
        },
        "588476dcd8ad41dd8e2bc8651a744cb6": {
          "model_module": "@jupyter-widgets/controls",
          "model_name": "ProgressStyleModel",
          "model_module_version": "1.5.0",
          "state": {
            "_view_name": "StyleView",
            "_model_name": "ProgressStyleModel",
            "description_width": "",
            "_view_module": "@jupyter-widgets/base",
            "_model_module_version": "1.5.0",
            "_view_count": null,
            "_view_module_version": "1.2.0",
            "bar_color": null,
            "_model_module": "@jupyter-widgets/controls"
          }
        },
        "1e1c24201eb540e185c1e353a3699e8e": {
          "model_module": "@jupyter-widgets/base",
          "model_name": "LayoutModel",
          "model_module_version": "1.2.0",
          "state": {
            "_view_name": "LayoutView",
            "grid_template_rows": null,
            "right": null,
            "justify_content": null,
            "_view_module": "@jupyter-widgets/base",
            "overflow": null,
            "_model_module_version": "1.2.0",
            "_view_count": null,
            "flex_flow": null,
            "width": null,
            "min_width": null,
            "border": null,
            "align_items": null,
            "bottom": null,
            "_model_module": "@jupyter-widgets/base",
            "top": null,
            "grid_column": null,
            "overflow_y": null,
            "overflow_x": null,
            "grid_auto_flow": null,
            "grid_area": null,
            "grid_template_columns": null,
            "flex": null,
            "_model_name": "LayoutModel",
            "justify_items": null,
            "grid_row": null,
            "max_height": null,
            "align_content": null,
            "visibility": null,
            "align_self": null,
            "height": null,
            "min_height": null,
            "padding": null,
            "grid_auto_rows": null,
            "grid_gap": null,
            "max_width": null,
            "order": null,
            "_view_module_version": "1.2.0",
            "grid_template_areas": null,
            "object_position": null,
            "object_fit": null,
            "grid_auto_columns": null,
            "margin": null,
            "display": null,
            "left": null
          }
        },
        "e82fa1250f9b493b98317e4a83996c5d": {
          "model_module": "@jupyter-widgets/controls",
          "model_name": "DescriptionStyleModel",
          "model_module_version": "1.5.0",
          "state": {
            "_view_name": "StyleView",
            "_model_name": "DescriptionStyleModel",
            "description_width": "",
            "_view_module": "@jupyter-widgets/base",
            "_model_module_version": "1.5.0",
            "_view_count": null,
            "_view_module_version": "1.2.0",
            "_model_module": "@jupyter-widgets/controls"
          }
        },
        "79b32c08695943a5a069a42720f6f2f8": {
          "model_module": "@jupyter-widgets/base",
          "model_name": "LayoutModel",
          "model_module_version": "1.2.0",
          "state": {
            "_view_name": "LayoutView",
            "grid_template_rows": null,
            "right": null,
            "justify_content": null,
            "_view_module": "@jupyter-widgets/base",
            "overflow": null,
            "_model_module_version": "1.2.0",
            "_view_count": null,
            "flex_flow": null,
            "width": null,
            "min_width": null,
            "border": null,
            "align_items": null,
            "bottom": null,
            "_model_module": "@jupyter-widgets/base",
            "top": null,
            "grid_column": null,
            "overflow_y": null,
            "overflow_x": null,
            "grid_auto_flow": null,
            "grid_area": null,
            "grid_template_columns": null,
            "flex": null,
            "_model_name": "LayoutModel",
            "justify_items": null,
            "grid_row": null,
            "max_height": null,
            "align_content": null,
            "visibility": null,
            "align_self": null,
            "height": null,
            "min_height": null,
            "padding": null,
            "grid_auto_rows": null,
            "grid_gap": null,
            "max_width": null,
            "order": null,
            "_view_module_version": "1.2.0",
            "grid_template_areas": null,
            "object_position": null,
            "object_fit": null,
            "grid_auto_columns": null,
            "margin": null,
            "display": null,
            "left": null
          }
        }
      }
    }
  },
  "cells": [
    {
      "cell_type": "markdown",
      "metadata": {
        "id": "9egyhuvU3_GI"
      },
      "source": [
        "# SI 650 / EECS 549: Homework 3 Part 3\n",
        "\n",
        "Homework 3 Part 3 will have you working with deep learning models in a variety of ways. You will likely need to run this on Great Lakes unless you have access to a GPU elsewhere (or be prepared to wait a long time). You should have completed Parts 1 and 2 before attempting this notebook to familiarize yourself with how PyTerrier works.\n",
        "\n",
        "In Part 3, you'll try the following tasks:\n",
        " - Use a large language model to re-rank content\n",
        " - Use a text-to-text model to perform query augmentation\n",
        " - Train a deep learning IR model and compare its performance.\n",
        " \n",
        "The first two of these tasks will rely on models that we've pretrained for you. However, we've also provided code for how to train these. In the third task, you'll do one simple training and evaluate its results.\n",
        "\n",
        "For the first two tasks, we've provided most of the code. *You are expected to submit results showing that you have successfully executed it*. You'll need to understand some of the code to complete task 3, which requires you to write new code.\n",
        "\n",
        "As with the past notebooks, you'll need to have `JAVA_HOME` set, which will need to be run on Great Lakes. You can potentially set it in the notebook with a Jupyter command like\n",
        "```\n",
        "!export JAVA_HOME=/fill/in/the/path/to/the/JDK/here\n",
        "```\n",
        "by first figuring out where the JDK is installed. (This is setting the `JAVA_HOME` environment variable in the unix way). "
      ]
    },
    {
      "cell_type": "markdown",
      "metadata": {
        "id": "mV0C6jJvqhMR"
      },
      "source": [
        "### Install the PyTerrier extensions\n",
        "\n",
        "You'll need two extensions for [OpenNIR](https://opennir.net/) and [doc2query](https://github.com/terrierteam/pyterrier_doc2query). We've provided the package install commands in comments below."
      ]
    },
    {
      "cell_type": "code",
      "metadata": {
        "id": "AkIR_PXdet7R"
      },
      "source": [
        "!pip install --upgrade \"git+https://github.com/Georgetown-IR-Lab/OpenNIR\"\n",
        "!pip install --upgrade \"git+https://github.com/terrierteam/pyterrier_doc2query.git\""
      ],
      "execution_count": null,
      "outputs": []
    },
    {
      "cell_type": "code",
      "metadata": {
        "id": "t_7F62qlHLI2"
      },
      "source": [
        "!pip install python-terrier"
      ],
      "execution_count": null,
      "outputs": []
    },
    {
      "cell_type": "markdown",
      "metadata": {
        "id": "A-nQrpNP5pN7"
      },
      "source": [
        "## Getting started\n",
        "\n",
        "Start PyTerrier as we have in past notebooks."
      ]
    },
    {
      "cell_type": "code",
      "metadata": {
        "id": "6FegcyWr5lja",
        "colab": {
          "base_uri": "https://localhost:8080/"
        },
        "outputId": "9026dd18-9e1f-458a-875e-6232b03041d8"
      },
      "source": [
        "import pyterrier as pt\n",
        "if not pt.started():\n",
        "    pt.init(tqdm='notebook')\n",
        "import onir_pt\n",
        "import pyterrier_doc2query\n",
        "import os\n",
        "import pandas as pd"
      ],
      "execution_count": 4,
      "outputs": [
        {
          "output_type": "stream",
          "name": "stdout",
          "text": [
            "terrier-assemblies 5.6 jar-with-dependencies not found, downloading to /root/.pyterrier...\n",
            "Done\n",
            "terrier-python-helper 0.0.6 jar not found, downloading to /root/.pyterrier...\n",
            "Done\n",
            "PyTerrier 0.7.1 has loaded Terrier 5.6 (built by craigmacdonald on 2021-09-17 13:27)\n",
            "Better speed can be achieved with apex installed from https://www.github.com/nvidia/apex.\n"
          ]
        }
      ]
    },
    {
      "cell_type": "markdown",
      "metadata": {
        "id": "hPVjr448rIPc"
      },
      "source": [
        "### [TREC-COVID19](https://ir.nist.gov/covidSubmit/) Dataset download\n",
        "\n",
        "The following cell downloads the [TREC-COVID19](https://ir.nist.gov/covidSubmit/) dataset that we will use periodically throughout this notebook."
      ]
    },
    {
      "cell_type": "code",
      "metadata": {
        "id": "IJMHFRfArd7O",
        "colab": {
          "base_uri": "https://localhost:8080/"
        },
        "outputId": "491de022-e56b-4193-e236-fda6c3b2c64a"
      },
      "source": [
        "dataset = pt.datasets.get_dataset('irds:cord19/trec-covid')\n",
        "topics = dataset.get_topics(variant='description')\n",
        "qrels = dataset.get_qrels()"
      ],
      "execution_count": 5,
      "outputs": [
        {
          "output_type": "stream",
          "name": "stderr",
          "text": [
            "[INFO] [starting] https://ir.nist.gov/covidSubmit/data/topics-rnd5.xml\n",
            "[INFO] [finished] https://ir.nist.gov/covidSubmit/data/topics-rnd5.xml: [7ms] [18.7kB] [2.59MB/s]\n",
            "[INFO] [starting] https://ir.nist.gov/covidSubmit/data/qrels-covid_d5_j0.5-5.txt\n",
            "[INFO] [finished] https://ir.nist.gov/covidSubmit/data/qrels-covid_d5_j0.5-5.txt: [166ms] [1.14MB] [6.88MB/s]\n"
          ]
        }
      ]
    },
    {
      "cell_type": "markdown",
      "metadata": {
        "id": "OF3HIPhtrqOH"
      },
      "source": [
        "# Task 1: Build the inverted index for the TREC-COVID19 collection. (2 points)\n",
        "\n",
        "Build the index for the TREC Covid-19 (CORD19) data like we have in past notebooks but without any fancy options (e.g., no positional indexing)."
      ]
    },
    {
      "cell_type": "code",
      "metadata": {
        "id": "TX9v_oSVG6Wg",
        "colab": {
          "base_uri": "https://localhost:8080/",
          "height": 772,
          "referenced_widgets": [
            "096daae7f9f743b9ab0a794b0244b27b",
            "c524e0471de34b7491f0c05067c6a56f",
            "6c0a278dfbe947c5a191521ed45b64cb",
            "e91fa916602b4573922e1b78a835c3f7",
            "0bd625c4dc8544909fa07edf47f53771",
            "2065d59901394c8faa6450c4926515bf",
            "401286ad69c14995925724ef0feaaa42",
            "235ffc6189e84754ae09af476564b54d",
            "0ada3833af4e494cba13fb903ca5ab0c",
            "f9fa8af2e1f543d79afff0a7ce0a872e",
            "a9fd5a634bbc43418aeeafdb2bf72908"
          ]
        },
        "outputId": "c2919025-5ae9-41e3-e2ab-d1a4f78a2f63"
      },
      "source": [
        "cord19 = pt.datasets.get_dataset('irds:cord19/trec-covid')\n",
        "pt_index_path = './terrier_cord19'\n",
        "\n",
        "if not os.path.exists(pt_index_path + \"/data.properties\"):\n",
        "    # create the index, using the IterDictIndexer indexer \n",
        "    iter_indexer = pt.IterDictIndexer(pt_index_path, overwrite=True)\n",
        "\n",
        "    # we give the dataset get_corpus_iter() directly to the indexer\n",
        "    # while specifying the fields to index and the metadata to record\n",
        "    index_ref = iter_indexer.index(cord19.get_corpus_iter(), fields=('abstract', ), meta=['docno', 'text'], meta_lengths=[20, 4096])\n",
        "\n",
        "else:\n",
        "    # if you already have the index, use it.\n",
        "    index_ref = pt.IndexRef.of(pt_index_path)\n",
        "\n",
        "index = pt.IndexFactory.of(index_ref)"
      ],
      "execution_count": 11,
      "outputs": [
        {
          "output_type": "stream",
          "name": "stderr",
          "text": [
            "[INFO] If you have a local copy of https://ai2-semanticscholar-cord-19.s3-us-west-2.amazonaws.com/2020-07-16/metadata.csv, you can symlink it here to avoid downloading it again: /root/.ir_datasets/downloads/80d664e496b8b7e50a39c6f6bb92e0ef\n",
            "[INFO] [starting] https://ai2-semanticscholar-cord-19.s3-us-west-2.amazonaws.com/2020-07-16/metadata.csv\n",
            "[INFO] [finished] https://ai2-semanticscholar-cord-19.s3-us-west-2.amazonaws.com/2020-07-16/metadata.csv: [6.67s] [269MB] [40.4MB/s]\n",
            "[INFO] [starting] building docstore\n",
            "docs_iter: 100%|█████████████████████| 192509/192509 [13.51s<0ms, 14247.56doc/s]\n",
            "[INFO] [finished] docs_iter: [13.51s] [192509doc] [14246.02doc/s]\n",
            "[INFO] [finished] building docstore [13.53s]\n"
          ]
        },
        {
          "output_type": "display_data",
          "data": {
            "application/vnd.jupyter.widget-view+json": {
              "model_id": "096daae7f9f743b9ab0a794b0244b27b",
              "version_minor": 0,
              "version_major": 2
            },
            "text/plain": [
              "cord19/trec-covid documents:   0%|          | 0/192509 [25ms<?, ?it/s]"
            ]
          },
          "metadata": {}
        },
        {
          "output_type": "stream",
          "name": "stdout",
          "text": [
            "02:09:19.419 [ForkJoinPool-1-worker-3] WARN org.terrier.structures.indexing.Indexer - Adding an empty document to the index (6iu1dtyl) - further warnings are suppressed\n",
            "02:11:01.057 [ForkJoinPool-1-worker-3] WARN org.terrier.structures.indexing.Indexer - Indexed 54937 empty documents\n",
            "02:11:01.205 [ForkJoinPool-1-worker-3] ERROR org.terrier.structures.indexing.Indexer - Could not finish MetaIndexBuilder: \n",
            "java.io.IOException: Key 8lqzfj2e is not unique: 37597,11755\n",
            "For MetaIndex, to suppress, set metaindex.compressed.reverse.allow.duplicates=true\n",
            "\tat org.terrier.structures.collections.FSOrderedMapFile$MultiFSOMapWriter.mergeTwo(FSOrderedMapFile.java:1374)\n",
            "\tat org.terrier.structures.collections.FSOrderedMapFile$MultiFSOMapWriter.close(FSOrderedMapFile.java:1308)\n",
            "\tat org.terrier.structures.indexing.BaseMetaIndexBuilder.close(BaseMetaIndexBuilder.java:321)\n",
            "\tat org.terrier.structures.indexing.classical.BasicIndexer.createDirectIndex(BasicIndexer.java:346)\n",
            "\tat org.terrier.structures.indexing.Indexer.index(Indexer.java:369)\n",
            "\tat org.terrier.python.ParallelIndexer$1.apply(ParallelIndexer.java:63)\n",
            "\tat org.terrier.python.ParallelIndexer$1.apply(ParallelIndexer.java:52)\n",
            "\tat java.base/java.util.stream.ReferencePipeline$3$1.accept(ReferencePipeline.java:195)\n",
            "\tat java.base/java.util.Spliterators$ArraySpliterator.forEachRemaining(Spliterators.java:948)\n",
            "\tat java.base/java.util.stream.AbstractPipeline.copyInto(AbstractPipeline.java:484)\n",
            "\tat java.base/java.util.stream.AbstractPipeline.wrapAndCopyInto(AbstractPipeline.java:474)\n",
            "\tat java.base/java.util.stream.ReduceOps$ReduceTask.doLeaf(ReduceOps.java:952)\n",
            "\tat java.base/java.util.stream.ReduceOps$ReduceTask.doLeaf(ReduceOps.java:926)\n",
            "\tat java.base/java.util.stream.AbstractTask.compute(AbstractTask.java:327)\n",
            "\tat java.base/java.util.concurrent.CountedCompleter.exec(CountedCompleter.java:746)\n",
            "\tat java.base/java.util.concurrent.ForkJoinTask.doExec(ForkJoinTask.java:290)\n",
            "\tat java.base/java.util.concurrent.ForkJoinTask.doInvoke(ForkJoinTask.java:408)\n",
            "\tat java.base/java.util.concurrent.ForkJoinTask.invoke(ForkJoinTask.java:736)\n",
            "\tat java.base/java.util.stream.ReduceOps$ReduceOp.evaluateParallel(ReduceOps.java:919)\n",
            "\tat java.base/java.util.stream.AbstractPipeline.evaluate(AbstractPipeline.java:233)\n",
            "\tat java.base/java.util.stream.ReferencePipeline.reduce(ReferencePipeline.java:558)\n",
            "\tat org.terrier.python.ParallelIndexer$3.call(ParallelIndexer.java:133)\n",
            "\tat org.terrier.python.ParallelIndexer$3.call(ParallelIndexer.java:130)\n",
            "\tat java.base/java.util.concurrent.ForkJoinTask$AdaptedCallable.exec(ForkJoinTask.java:1448)\n",
            "\tat java.base/java.util.concurrent.ForkJoinTask.doExec(ForkJoinTask.java:290)\n",
            "\tat java.base/java.util.concurrent.ForkJoinPool$WorkQueue.topLevelExec(ForkJoinPool.java:1020)\n",
            "\tat java.base/java.util.concurrent.ForkJoinPool.scan(ForkJoinPool.java:1656)\n",
            "\tat java.base/java.util.concurrent.ForkJoinPool.runWorker(ForkJoinPool.java:1594)\n",
            "\tat java.base/java.util.concurrent.ForkJoinWorkerThread.run(ForkJoinWorkerThread.java:183)\n"
          ]
        }
      ]
    },
    {
      "cell_type": "markdown",
      "metadata": {
        "id": "rwDams5M7g6c"
      },
      "source": [
        "## Using an untuned Re-rankers\n",
        "\n",
        "This notebook will have you work with a few neural re-ranking methods that you've used in class. We can build them from scratch using `onir_pt.reranker` or load them from pretrained models. The models we load from scratch won't have been trained to do IR (yet), however.\n",
        "\n",
        "And OpenNIR reranking model consists of:\n",
        " - `ranker` (e.g., `drmm`, `knrm`, or `pacrr`). This defines the neural ranking architecture. We discussed the `knrm` approach in class.\n",
        " - `vocab` (e.g., `wordvec_hash`, or `bert`). This defines how text is encoded by the model. This approach makes it easy to swap out different text representations. \n",
        " \n",
        "Let's start with the `knrm` method we discussed in class:"
      ]
    },
    {
      "cell_type": "code",
      "metadata": {
        "id": "F0O79K2K6fvn",
        "colab": {
          "base_uri": "https://localhost:8080/"
        },
        "outputId": "c8c8aaf6-113a-48d5-9077-1f57d6802706"
      },
      "source": [
        "knrm = onir_pt.reranker('knrm', 'wordvec_hash', text_field='abstract')"
      ],
      "execution_count": null,
      "outputs": [
        {
          "output_type": "stream",
          "name": "stdout",
          "text": [
            "config file not found: config\n",
            "\u001b[02;37m[2021-11-22 22:37:54,698][WordvecHashVocab][DEBUG] \u001b[0m\u001b[37m[starting] downloading https://dl.fbaipublicfiles.com/fasttext/vectors-english/wiki-news-300d-1M.vec.zip\u001b[0m\n"
          ]
        },
        {
          "output_type": "stream",
          "name": "stderr",
          "text": [
            ""
          ]
        },
        {
          "output_type": "stream",
          "name": "stdout",
          "text": [
            "\u001b[02;37m[2021-11-22 22:38:17,776][onir.util.download][WARNING] \u001b[0m\u001b[33mno hash provided for https://dl.fbaipublicfiles.com/fasttext/vectors-english/wiki-news-300d-1M.vec.zip; consider adding expected_md5=\"3cc8839ac3fa9a6187149b1e73328b2a\" to ensure data integrity.\u001b[0m\n",
            "\u001b[02;37m[2021-11-22 22:38:17,787][onir.util.download][DEBUG] \u001b[0m\u001b[37mdownloaded https://dl.fbaipublicfiles.com/fasttext/vectors-english/wiki-news-300d-1M.vec.zip [22.64s] [682M] [31.5MB/s]\u001b[0m\n",
            "\u001b[02;37m[2021-11-22 22:38:17,797][WordvecHashVocab][DEBUG] \u001b[0m\u001b[37m[finished] downloading https://dl.fbaipublicfiles.com/fasttext/vectors-english/wiki-news-300d-1M.vec.zip [23.10s]\u001b[0m\n",
            "\u001b[02;37m[2021-11-22 22:38:17,797][WordvecHashVocab][DEBUG] \u001b[0m\u001b[37m[starting] extracting vecs\u001b[0m\n",
            "\u001b[02;37m[2021-11-22 22:38:41,094][WordvecHashVocab][DEBUG] \u001b[0m\u001b[37m[finished] extracting vecs [23.30s]\u001b[0m\n",
            "\u001b[02;37m[2021-11-22 22:38:41,095][WordvecHashVocab][DEBUG] \u001b[0m\u001b[37m[starting] loading vecs into memory\u001b[0m\n",
            "\u001b[02;37m[2021-11-22 22:41:01,168][WordvecHashVocab][DEBUG] \u001b[0m\u001b[37m[finished] loading vecs into memory [02:20]\u001b[0m\n",
            "\u001b[02;37m[2021-11-22 22:41:01,388][WordvecHashVocab][DEBUG] \u001b[0m\u001b[37m[starting] writing cached at /root/data/onir/vocab/wordvec_hash/fasttext-wiki-news-300d-1M.p\u001b[0m\n",
            "\u001b[02;37m[2021-11-22 22:41:25,809][WordvecHashVocab][DEBUG] \u001b[0m\u001b[37m[finished] writing cached at /root/data/onir/vocab/wordvec_hash/fasttext-wiki-news-300d-1M.p [24.42s]\u001b[0m\n"
          ]
        }
      ]
    },
    {
      "cell_type": "markdown",
      "metadata": {
        "id": "x1avVTpxDORN"
      },
      "source": [
        "Let's look at how well this model work at ranking compared with our default `BatchRetrieve`"
      ]
    },
    {
      "cell_type": "code",
      "metadata": {
        "id": "4FWUIN577v1O",
        "colab": {
          "base_uri": "https://localhost:8080/",
          "height": 163,
          "referenced_widgets": [
            "27efc50e431241b9b4c8e50b3f5ca279",
            "b6bf7c83ec514cb59461a3d5f2999892",
            "5fb0e5da6d0f45f99a59196f200f9f9e",
            "4a4a1794e6894de0a3f0bc98b28e2ec6",
            "9b20beb87470444f87c129fc29f60d1b",
            "b4940f25382f445bb54a8f409157d7e0",
            "6afb7c9781634805988cf09dc11e1075",
            "15a1c42280854beb9f03c7252feb9b60",
            "fb02f8829c7645eda854ec9ea40d39fa",
            "c4726e339b164f83b5f6b981d1b68f2a",
            "4c47cc6b207f44989c1944f36665523a"
          ]
        },
        "outputId": "d6234aea-8fe1-4316-cf43-02b217f06eb4"
      },
      "source": [
        "br = pt.BatchRetrieve(index) % 100\n",
        "pipeline = br >> pt.text.get_text(dataset, 'abstract') >> knrm\n",
        "pt.Experiment(\n",
        "    [br, pipeline],\n",
        "    topics,\n",
        "    qrels,\n",
        "    names=['DPH', 'DPH >> KNRM'],\n",
        "    eval_metrics=[\"map\", \"ndcg\", 'ndcg_cut.10', 'P.10', 'mrt']\n",
        ")"
      ],
      "execution_count": null,
      "outputs": [
        {
          "output_type": "stream",
          "name": "stdout",
          "text": [
            "\u001b[02;37m[2021-11-22 22:41:44,522][onir_pt][DEBUG] \u001b[0m\u001b[37musing GPU (deterministic)\u001b[0m\n",
            "\u001b[02;37m[2021-11-22 22:42:04,493][onir_pt][DEBUG] \u001b[0m\u001b[37m[starting] batches\u001b[0m\n"
          ]
        },
        {
          "output_type": "display_data",
          "data": {
            "application/vnd.jupyter.widget-view+json": {
              "model_id": "27efc50e431241b9b4c8e50b3f5ca279",
              "version_minor": 0,
              "version_major": 2
            },
            "text/plain": [
              "batches:   0%|          | 0/1250 [48ms<?, ?it/s]"
            ]
          },
          "metadata": {}
        },
        {
          "output_type": "stream",
          "name": "stdout",
          "text": [
            "\u001b[02;37m[2021-11-22 22:42:08,697][onir_pt][DEBUG] \u001b[0m\u001b[37m[finished] batches: [4.20s] [1250it] [297.40it/s]\u001b[0m\n"
          ]
        },
        {
          "output_type": "execute_result",
          "data": {
            "text/html": [
              "<div>\n",
              "<style scoped>\n",
              "    .dataframe tbody tr th:only-of-type {\n",
              "        vertical-align: middle;\n",
              "    }\n",
              "\n",
              "    .dataframe tbody tr th {\n",
              "        vertical-align: top;\n",
              "    }\n",
              "\n",
              "    .dataframe thead th {\n",
              "        text-align: right;\n",
              "    }\n",
              "</style>\n",
              "<table border=\"1\" class=\"dataframe\">\n",
              "  <thead>\n",
              "    <tr style=\"text-align: right;\">\n",
              "      <th></th>\n",
              "      <th>name</th>\n",
              "      <th>map</th>\n",
              "      <th>ndcg</th>\n",
              "      <th>ndcg_cut.10</th>\n",
              "      <th>P.10</th>\n",
              "      <th>mrt</th>\n",
              "    </tr>\n",
              "  </thead>\n",
              "  <tbody>\n",
              "    <tr>\n",
              "      <th>0</th>\n",
              "      <td>DPH</td>\n",
              "      <td>0.068056</td>\n",
              "      <td>0.165653</td>\n",
              "      <td>0.609058</td>\n",
              "      <td>0.658</td>\n",
              "      <td>134.035137</td>\n",
              "    </tr>\n",
              "    <tr>\n",
              "      <th>1</th>\n",
              "      <td>DPH &gt;&gt; KNRM</td>\n",
              "      <td>0.054801</td>\n",
              "      <td>0.145450</td>\n",
              "      <td>0.359716</td>\n",
              "      <td>0.450</td>\n",
              "      <td>596.670733</td>\n",
              "    </tr>\n",
              "  </tbody>\n",
              "</table>\n",
              "</div>"
            ],
            "text/plain": [
              "          name       map      ndcg  ndcg_cut.10   P.10         mrt\n",
              "0          DPH  0.068056  0.165653     0.609058  0.658  134.035137\n",
              "1  DPH >> KNRM  0.054801  0.145450     0.359716  0.450  596.670733"
            ]
          },
          "metadata": {},
          "execution_count": 5
        }
      ]
    },
    {
      "cell_type": "markdown",
      "metadata": {
        "id": "MhquobQypVNJ"
      },
      "source": [
        "The `knrm` models' performance is lower! The mode doesn't work very well because it hasn't yet been trained for IR; it's using random weights to combine the scores from the similarity matrix--but this is at least a start."
      ]
    },
    {
      "cell_type": "markdown",
      "metadata": {
        "id": "WLv7quA43yAP"
      },
      "source": [
        "## Loading a trained re-ranker\n",
        "\n",
        "You can train re-ranking models in PyTerrier using the `fit` method. Here's an example of how to train the `knrm` model on the MS MARCO dataset, which is a large IR collection.\n",
        "\n",
        "```python\n",
        "# transfer training signals from a medical sample of MS MARCO\n",
        "from sklearn.model_selection import train_test_split\n",
        "train_ds = pt.datasets.get_dataset('irds:msmarco-passage/train/medical')\n",
        "train_topics, valid_topics = train_test_split(train_ds.get_topics(), test_size=50, random_state=42) # split into training and validation sets\n",
        "\n",
        "# Index MS MARCO\n",
        "indexer = pt.index.IterDictIndexer('./terrier_msmarco-passage')\n",
        "tr_index_ref = indexer.index(train_ds.get_corpus_iter(), fields=('text',), meta=('docno',))\n",
        "\n",
        "pipeline = (pt.BatchRetrieve(tr_index_ref) % 100 # get top 100 results\n",
        "            >> pt.text.get_text(train_ds, 'text') # fetch the document text\n",
        "            >> pt.apply.generic(lambda df: df.rename(columns={'text': 'abstract'})) # rename columns\n",
        "            >> knrm) # apply neural re-ranker\n",
        "\n",
        "pipeline.fit(\n",
        "    train_topics,\n",
        "    train_ds.get_qrels(),\n",
        "    valid_topics,\n",
        "    train_ds.get_qrels())\n",
        "```\n",
        "\n",
        "Training deep learning models takes a bit of time (especially for large datasets like MS MARCO), so we've provided a model that's already been trained for you to download."
      ]
    },
    {
      "cell_type": "code",
      "metadata": {
        "id": "Yk7FBOgvDa8V",
        "colab": {
          "base_uri": "https://localhost:8080/"
        },
        "outputId": "0987934c-a5ff-4ab6-89de-da27df52aefd"
      },
      "source": [
        "del knrm # free up the memory before loading a new version of the ranker (helpful for the GPU)\n",
        "knrm = onir_pt.reranker.from_checkpoint('http://jurgens.people.si.umich.edu/ir/knrm.medmarco.tar.gz', text_field='abstract', \n",
        "                                        expected_md5=\"d70b1d4f899690dae51161537e69ed5a\")"
      ],
      "execution_count": null,
      "outputs": [
        {
          "output_type": "stream",
          "name": "stderr",
          "text": [
            ""
          ]
        },
        {
          "output_type": "stream",
          "name": "stdout",
          "text": [
            "\u001b[02;37m[2021-11-22 22:42:23,891][onir.util.download][DEBUG] \u001b[0m\u001b[37mdownloaded http://jurgens.people.si.umich.edu/ir/knrm.medmarco.tar.gz [7ms] [1.43k] [207kB/s] [md5 hash verified]\u001b[0m\n",
            "\u001b[02;37m[2021-11-22 22:42:23,912][WordvecHashVocab][DEBUG] \u001b[0m\u001b[37m[starting] reading cached at /root/data/onir/vocab/wordvec_hash/fasttext-wiki-news-300d-1M.p\u001b[0m\n",
            "\u001b[02;37m[2021-11-22 22:43:24,768][WordvecHashVocab][DEBUG] \u001b[0m\u001b[37m[finished] reading cached at /root/data/onir/vocab/wordvec_hash/fasttext-wiki-news-300d-1M.p [01:01]\u001b[0m\n"
          ]
        }
      ]
    },
    {
      "cell_type": "code",
      "metadata": {
        "id": "1BQQKv8lL0Ta",
        "colab": {
          "base_uri": "https://localhost:8080/",
          "height": 234,
          "referenced_widgets": [
            "16b52145c6904a00a518827348739ff0",
            "120ef09c7e7c47fca75c0285773bf2d2",
            "afd04c5fa4e24e4b908c6367e8617483",
            "80e3ad1dca18406ca5c079a444f0d88c",
            "3998a6aa54114f86b25ee36c0379e4ed",
            "a53a6abc8f00484d8bdaf12ecd569046",
            "97e578544f3a469a8290f8a40b08a7b3",
            "9fbac94eaf0243d88706c29d32d0cd50",
            "2782e358df4e4e629f50819006bb67d7",
            "e24ff562389c4ae1a7c86b878c932bc6",
            "6423beb405cc4f408d9929e78fb2f490"
          ]
        },
        "outputId": "7543d2bc-5cf4-4b3b-faa2-ba430280b208"
      },
      "source": [
        "pipeline2 = br >> pt.text.get_text(dataset, 'abstract') >> knrm\n",
        "pt.Experiment(\n",
        "    [br, pipeline2],\n",
        "    topics,\n",
        "    qrels,\n",
        "    names=['DPH', 'DPH >> KNRM'],\n",
        "    baseline=0,\n",
        "    eval_metrics=[\"map\", \"ndcg\", 'ndcg_cut.10', 'P.10', 'mrt']\n",
        ")"
      ],
      "execution_count": null,
      "outputs": [
        {
          "output_type": "stream",
          "name": "stdout",
          "text": [
            "\u001b[02;37m[2021-11-22 22:43:39,420][onir_pt][DEBUG] \u001b[0m\u001b[37musing GPU (deterministic)\u001b[0m\n",
            "\u001b[02;37m[2021-11-22 22:43:39,687][onir_pt][DEBUG] \u001b[0m\u001b[37m[starting] batches\u001b[0m\n"
          ]
        },
        {
          "output_type": "display_data",
          "data": {
            "application/vnd.jupyter.widget-view+json": {
              "model_id": "16b52145c6904a00a518827348739ff0",
              "version_minor": 0,
              "version_major": 2
            },
            "text/plain": [
              "batches:   0%|          | 0/1250 [33ms<?, ?it/s]"
            ]
          },
          "metadata": {}
        },
        {
          "output_type": "stream",
          "name": "stdout",
          "text": [
            "\u001b[02;37m[2021-11-22 22:43:43,686][onir_pt][DEBUG] \u001b[0m\u001b[37m[finished] batches: [4.00s] [1250it] [312.77it/s]\u001b[0m\n"
          ]
        },
        {
          "output_type": "execute_result",
          "data": {
            "text/html": [
              "<div>\n",
              "<style scoped>\n",
              "    .dataframe tbody tr th:only-of-type {\n",
              "        vertical-align: middle;\n",
              "    }\n",
              "\n",
              "    .dataframe tbody tr th {\n",
              "        vertical-align: top;\n",
              "    }\n",
              "\n",
              "    .dataframe thead th {\n",
              "        text-align: right;\n",
              "    }\n",
              "</style>\n",
              "<table border=\"1\" class=\"dataframe\">\n",
              "  <thead>\n",
              "    <tr style=\"text-align: right;\">\n",
              "      <th></th>\n",
              "      <th>name</th>\n",
              "      <th>map</th>\n",
              "      <th>P.10</th>\n",
              "      <th>ndcg</th>\n",
              "      <th>ndcg_cut.10</th>\n",
              "      <th>mrt</th>\n",
              "      <th>map +</th>\n",
              "      <th>map -</th>\n",
              "      <th>map p-value</th>\n",
              "      <th>P.10 +</th>\n",
              "      <th>P.10 -</th>\n",
              "      <th>P.10 p-value</th>\n",
              "      <th>ndcg +</th>\n",
              "      <th>ndcg -</th>\n",
              "      <th>ndcg p-value</th>\n",
              "      <th>ndcg_cut.10 +</th>\n",
              "      <th>ndcg_cut.10 -</th>\n",
              "      <th>ndcg_cut.10 p-value</th>\n",
              "    </tr>\n",
              "  </thead>\n",
              "  <tbody>\n",
              "    <tr>\n",
              "      <th>0</th>\n",
              "      <td>DPH</td>\n",
              "      <td>0.068056</td>\n",
              "      <td>0.658</td>\n",
              "      <td>0.165653</td>\n",
              "      <td>0.609058</td>\n",
              "      <td>94.499726</td>\n",
              "      <td>NaN</td>\n",
              "      <td>NaN</td>\n",
              "      <td>NaN</td>\n",
              "      <td>NaN</td>\n",
              "      <td>NaN</td>\n",
              "      <td>NaN</td>\n",
              "      <td>NaN</td>\n",
              "      <td>NaN</td>\n",
              "      <td>NaN</td>\n",
              "      <td>NaN</td>\n",
              "      <td>NaN</td>\n",
              "      <td>NaN</td>\n",
              "    </tr>\n",
              "    <tr>\n",
              "      <th>1</th>\n",
              "      <td>DPH &gt;&gt; KNRM</td>\n",
              "      <td>0.065099</td>\n",
              "      <td>0.598</td>\n",
              "      <td>0.160549</td>\n",
              "      <td>0.532602</td>\n",
              "      <td>198.171466</td>\n",
              "      <td>20.0</td>\n",
              "      <td>30.0</td>\n",
              "      <td>0.095533</td>\n",
              "      <td>12.0</td>\n",
              "      <td>26.0</td>\n",
              "      <td>0.024604</td>\n",
              "      <td>20.0</td>\n",
              "      <td>30.0</td>\n",
              "      <td>0.028324</td>\n",
              "      <td>20.0</td>\n",
              "      <td>30.0</td>\n",
              "      <td>0.00597</td>\n",
              "    </tr>\n",
              "  </tbody>\n",
              "</table>\n",
              "</div>"
            ],
            "text/plain": [
              "          name       map  ...  ndcg_cut.10 -  ndcg_cut.10 p-value\n",
              "0          DPH  0.068056  ...            NaN                  NaN\n",
              "1  DPH >> KNRM  0.065099  ...           30.0              0.00597\n",
              "\n",
              "[2 rows x 18 columns]"
            ]
          },
          "metadata": {},
          "execution_count": 7
        }
      ]
    },
    {
      "cell_type": "markdown",
      "metadata": {
        "id": "aI1_8O8rtXKK"
      },
      "source": [
        "The tuned performance is a little better than before, but `knrm` still underperforms our first-stage ranking model."
      ]
    },
    {
      "cell_type": "markdown",
      "metadata": {
        "id": "79l1jn0pRQEY"
      },
      "source": [
        "## Reranking with BERT\n",
        "\n",
        "Large language models such as [BERT](https://arxiv.org/abs/1810.04805) are much more powerful neural models that have been shown to be effective for ranking like we discussed in class. \n",
        "\n",
        "Like with `knrm`, we'll start by using BERT for re-ranking with its initial parameters. These parameters have been turned for the masked language modeling (i.e., filling a word in the blank) and predicting the next sentence--but have not been tuned for IR at all."
      ]
    },
    {
      "cell_type": "code",
      "metadata": {
        "id": "-qlXPHqN3iO0",
        "colab": {
          "base_uri": "https://localhost:8080/"
        },
        "outputId": "72b5d01e-e041-4581-b780-30704f167d4b"
      },
      "source": [
        "del knrm # clear out memory from KNRM (useful for GPU)\n",
        "bert = onir_pt.reranker('vanilla_transformer', 'bert', text_field='abstract', vocab_config={'train': True})"
      ],
      "execution_count": null,
      "outputs": [
        {
          "output_type": "stream",
          "name": "stderr",
          "text": [
            "100%|██████████| 231508/231508 [108ms<0ms, 2150451.63B/s] \n",
            "100%|██████████| 433/433 [2ms<0ms, 264280.21B/s]\n",
            "100%|██████████| 440473133/440473133 [12.93s<0ms, 34054441.14B/s] \n"
          ]
        }
      ]
    },
    {
      "cell_type": "markdown",
      "metadata": {
        "id": "progrVwaunrn"
      },
      "source": [
        "Let's see how this non-IR trained model does on CORD10 data"
      ]
    },
    {
      "cell_type": "code",
      "metadata": {
        "id": "PkasovrjQjy0",
        "colab": {
          "base_uri": "https://localhost:8080/",
          "height": 234,
          "referenced_widgets": [
            "f940be8a6c91416683e6a3c395badf31",
            "40caa9968d4e4c0fbe6575aab601ac74",
            "47a788f5579c481ea11115d7c149bac5",
            "aeb94c47c4a146e49a8f83081749970b",
            "bb68704b1887489d9cca38009f727f79",
            "233ecdb7258047f1a236b93f9bb98869",
            "7657f3ff43f6414eb41444fc714a69ef",
            "4ee5da58dd614b6b9a3b6cb2b0d3d3aa",
            "e1a5b62a9e624c12bc79339ed5145f4d",
            "ca43ca06c4fc4521b1afc03492299b52",
            "d0529f883e3c4940bea219dc6376e6fc"
          ]
        },
        "outputId": "2f13229b-f6b6-437a-a2ab-75fff4a944b0"
      },
      "source": [
        "pipeline3 = br % 100 >> pt.text.get_text(dataset, 'abstract') >> bert\n",
        "pt.Experiment(\n",
        "    [br, pipeline3],\n",
        "    topics,\n",
        "    qrels,\n",
        "    names=['DPH', 'DPH >> VBERT'],\n",
        "    baseline=0,\n",
        "    eval_metrics=[\"map\", \"ndcg\", 'ndcg_cut.10', 'P.10', 'mrt']\n",
        ")"
      ],
      "execution_count": null,
      "outputs": [
        {
          "output_type": "stream",
          "name": "stdout",
          "text": [
            "\u001b[02;37m[2021-11-22 23:32:12,921][onir_pt][DEBUG] \u001b[0m\u001b[37musing GPU (deterministic)\u001b[0m\n",
            "\u001b[02;37m[2021-11-22 23:32:13,157][onir_pt][DEBUG] \u001b[0m\u001b[37m[starting] batches\u001b[0m\n"
          ]
        },
        {
          "output_type": "display_data",
          "data": {
            "application/vnd.jupyter.widget-view+json": {
              "model_id": "f940be8a6c91416683e6a3c395badf31",
              "version_minor": 0,
              "version_major": 2
            },
            "text/plain": [
              "batches:   0%|          | 0/1250 [24ms<?, ?it/s]"
            ]
          },
          "metadata": {}
        },
        {
          "output_type": "stream",
          "name": "stdout",
          "text": [
            "\u001b[02;37m[2021-11-22 23:38:01,728][onir_pt][DEBUG] \u001b[0m\u001b[37m[finished] batches: [05:49] [1250it] [ 3.59it/s]\u001b[0m\n"
          ]
        },
        {
          "output_type": "execute_result",
          "data": {
            "text/html": [
              "<div>\n",
              "<style scoped>\n",
              "    .dataframe tbody tr th:only-of-type {\n",
              "        vertical-align: middle;\n",
              "    }\n",
              "\n",
              "    .dataframe tbody tr th {\n",
              "        vertical-align: top;\n",
              "    }\n",
              "\n",
              "    .dataframe thead th {\n",
              "        text-align: right;\n",
              "    }\n",
              "</style>\n",
              "<table border=\"1\" class=\"dataframe\">\n",
              "  <thead>\n",
              "    <tr style=\"text-align: right;\">\n",
              "      <th></th>\n",
              "      <th>name</th>\n",
              "      <th>map</th>\n",
              "      <th>P.10</th>\n",
              "      <th>ndcg</th>\n",
              "      <th>ndcg_cut.10</th>\n",
              "      <th>mrt</th>\n",
              "      <th>map +</th>\n",
              "      <th>map -</th>\n",
              "      <th>map p-value</th>\n",
              "      <th>P.10 +</th>\n",
              "      <th>P.10 -</th>\n",
              "      <th>P.10 p-value</th>\n",
              "      <th>ndcg +</th>\n",
              "      <th>ndcg -</th>\n",
              "      <th>ndcg p-value</th>\n",
              "      <th>ndcg_cut.10 +</th>\n",
              "      <th>ndcg_cut.10 -</th>\n",
              "      <th>ndcg_cut.10 p-value</th>\n",
              "    </tr>\n",
              "  </thead>\n",
              "  <tbody>\n",
              "    <tr>\n",
              "      <th>0</th>\n",
              "      <td>DPH</td>\n",
              "      <td>0.068056</td>\n",
              "      <td>0.658</td>\n",
              "      <td>0.165653</td>\n",
              "      <td>0.609058</td>\n",
              "      <td>83.899746</td>\n",
              "      <td>NaN</td>\n",
              "      <td>NaN</td>\n",
              "      <td>NaN</td>\n",
              "      <td>NaN</td>\n",
              "      <td>NaN</td>\n",
              "      <td>NaN</td>\n",
              "      <td>NaN</td>\n",
              "      <td>NaN</td>\n",
              "      <td>NaN</td>\n",
              "      <td>NaN</td>\n",
              "      <td>NaN</td>\n",
              "      <td>NaN</td>\n",
              "    </tr>\n",
              "    <tr>\n",
              "      <th>1</th>\n",
              "      <td>DPH &gt;&gt; VBERT</td>\n",
              "      <td>0.056413</td>\n",
              "      <td>0.458</td>\n",
              "      <td>0.147048</td>\n",
              "      <td>0.374197</td>\n",
              "      <td>7053.683518</td>\n",
              "      <td>8.0</td>\n",
              "      <td>42.0</td>\n",
              "      <td>0.000006</td>\n",
              "      <td>6.0</td>\n",
              "      <td>37.0</td>\n",
              "      <td>9.462198e-07</td>\n",
              "      <td>5.0</td>\n",
              "      <td>45.0</td>\n",
              "      <td>0.000001</td>\n",
              "      <td>8.0</td>\n",
              "      <td>41.0</td>\n",
              "      <td>4.134415e-09</td>\n",
              "    </tr>\n",
              "  </tbody>\n",
              "</table>\n",
              "</div>"
            ],
            "text/plain": [
              "           name       map  ...  ndcg_cut.10 -  ndcg_cut.10 p-value\n",
              "0           DPH  0.068056  ...            NaN                  NaN\n",
              "1  DPH >> VBERT  0.056413  ...           41.0         4.134415e-09\n",
              "\n",
              "[2 rows x 18 columns]"
            ]
          },
          "metadata": {},
          "execution_count": 11
        }
      ]
    },
    {
      "cell_type": "markdown",
      "metadata": {
        "id": "wBrfNZ_1u_pD"
      },
      "source": [
        "As we see, although the ERT model is pre-trained for recognizing language, it doesn't do very well at ranking on our benchmark. To get better performance, we'll need to tune for the task of relevance ranking.\n",
        "\n",
        "We can train the model for ranking (as shown above for KNRM) or we can download a trained model. Here, we will use the [SLEDGE](https://arxiv.org/abs/2010.05987) model, which is a BERT model trained on scientific text and tuned on medical queries."
      ]
    },
    {
      "cell_type": "code",
      "metadata": {
        "id": "VsXQKNyYSXOj",
        "colab": {
          "base_uri": "https://localhost:8080/"
        },
        "outputId": "9a862d64-3d71-4dcc-9f42-a1f997697f7f"
      },
      "source": [
        "bert = onir_pt.reranker.from_checkpoint('http://jurgens.people.si.umich.edu/ir/scibert-medmarco.tar.gz', \n",
        "                                         text_field='abstract', expected_md5=\"854966d0b61543ffffa44cea627ab63b\")"
      ],
      "execution_count": null,
      "outputs": [
        {
          "output_type": "stream",
          "name": "stderr",
          "text": [
            ""
          ]
        },
        {
          "output_type": "stream",
          "name": "stdout",
          "text": [
            "\u001b[02;37m[2021-11-22 23:38:10,489][onir.util.download][DEBUG] \u001b[0m\u001b[37mdownloaded http://jurgens.people.si.umich.edu/ir/scibert-medmarco.tar.gz [8.06s] [499M] [60.8MB/s] [md5 hash verified]\u001b[0m\n"
          ]
        },
        {
          "output_type": "stream",
          "name": "stderr",
          "text": [
            ""
          ]
        },
        {
          "output_type": "stream",
          "name": "stdout",
          "text": [
            "\u001b[02;37m[2021-11-22 23:38:28,390][onir.util.download][DEBUG] \u001b[0m\u001b[37mdownloaded https://s3-us-west-2.amazonaws.com/ai2-s2-research/scibert/pytorch_models/scibert_scivocab_uncased.tar [13.38s] [411M] [42.6MB/s] [md5 hash verified]\u001b[0m\n"
          ]
        },
        {
          "output_type": "stream",
          "name": "stderr",
          "text": [
            "extracting: 411MB [2.02s, 204MB/s]\n",
            "extracting: 821MB [9.39s, 87.4MB/s]\n"
          ]
        }
      ]
    },
    {
      "cell_type": "markdown",
      "metadata": {
        "id": "RmzDAaVtG6Wp"
      },
      "source": [
        "Let's run another experiment to see how this new model trained for IR does."
      ]
    },
    {
      "cell_type": "code",
      "metadata": {
        "id": "dUH-daNJSoNy",
        "colab": {
          "base_uri": "https://localhost:8080/",
          "height": 234,
          "referenced_widgets": [
            "0533bb4340934919831ecd44185d21d3",
            "c201906557214d32b600499cd229f543",
            "84b65c21193246eaae422ef00cb0e715",
            "b745d4f43a5149acbaa46f9b6bbabd2b",
            "d6f856380e71452f9e4a05517dd3719d",
            "b56b9fbab11f441cbace769f613b1469",
            "0a2e8de348be49bb824d3f0da1dcd4af",
            "fac506a7997b4faebc74dd8770261036",
            "5a15ef81b43c4067ac0b4a461182d405",
            "7e0e371c2122433db6555e94f7ba4b94",
            "380a0c225e0b4f909a585d2f146c1d62"
          ]
        },
        "outputId": "81dc5083-0656-4575-9456-ccc5ba10fa7c"
      },
      "source": [
        "pipeline4 = br % 100 >> pt.text.get_text(dataset, 'abstract') >> bert\n",
        "pt.Experiment(\n",
        "    [br, pipeline4],\n",
        "    topics,\n",
        "    qrels,\n",
        "    names=['DPH', 'DPH >> Trained-BERT'],\n",
        "    baseline=0,\n",
        "    eval_metrics=[\"map\", \"ndcg\", 'ndcg_cut.10', 'P.10', 'mrt']\n",
        ")"
      ],
      "execution_count": null,
      "outputs": [
        {
          "output_type": "stream",
          "name": "stdout",
          "text": [
            "\u001b[02;37m[2021-11-22 23:38:59,449][onir_pt][DEBUG] \u001b[0m\u001b[37musing GPU (deterministic)\u001b[0m\n",
            "\u001b[02;37m[2021-11-22 23:38:59,667][onir_pt][DEBUG] \u001b[0m\u001b[37m[starting] batches\u001b[0m\n"
          ]
        },
        {
          "output_type": "display_data",
          "data": {
            "application/vnd.jupyter.widget-view+json": {
              "model_id": "0533bb4340934919831ecd44185d21d3",
              "version_minor": 0,
              "version_major": 2
            },
            "text/plain": [
              "batches:   0%|          | 0/1250 [30ms<?, ?it/s]"
            ]
          },
          "metadata": {}
        },
        {
          "output_type": "stream",
          "name": "stdout",
          "text": [
            "\u001b[02;37m[2021-11-22 23:44:26,697][onir_pt][DEBUG] \u001b[0m\u001b[37m[finished] batches: [05:27] [1250it] [ 3.82it/s]\u001b[0m\n"
          ]
        },
        {
          "output_type": "execute_result",
          "data": {
            "text/html": [
              "<div>\n",
              "<style scoped>\n",
              "    .dataframe tbody tr th:only-of-type {\n",
              "        vertical-align: middle;\n",
              "    }\n",
              "\n",
              "    .dataframe tbody tr th {\n",
              "        vertical-align: top;\n",
              "    }\n",
              "\n",
              "    .dataframe thead th {\n",
              "        text-align: right;\n",
              "    }\n",
              "</style>\n",
              "<table border=\"1\" class=\"dataframe\">\n",
              "  <thead>\n",
              "    <tr style=\"text-align: right;\">\n",
              "      <th></th>\n",
              "      <th>name</th>\n",
              "      <th>map</th>\n",
              "      <th>P.10</th>\n",
              "      <th>ndcg</th>\n",
              "      <th>ndcg_cut.10</th>\n",
              "      <th>mrt</th>\n",
              "      <th>map +</th>\n",
              "      <th>map -</th>\n",
              "      <th>map p-value</th>\n",
              "      <th>P.10 +</th>\n",
              "      <th>P.10 -</th>\n",
              "      <th>P.10 p-value</th>\n",
              "      <th>ndcg +</th>\n",
              "      <th>ndcg -</th>\n",
              "      <th>ndcg p-value</th>\n",
              "      <th>ndcg_cut.10 +</th>\n",
              "      <th>ndcg_cut.10 -</th>\n",
              "      <th>ndcg_cut.10 p-value</th>\n",
              "    </tr>\n",
              "  </thead>\n",
              "  <tbody>\n",
              "    <tr>\n",
              "      <th>0</th>\n",
              "      <td>DPH</td>\n",
              "      <td>0.068056</td>\n",
              "      <td>0.658</td>\n",
              "      <td>0.165653</td>\n",
              "      <td>0.609058</td>\n",
              "      <td>83.647015</td>\n",
              "      <td>NaN</td>\n",
              "      <td>NaN</td>\n",
              "      <td>NaN</td>\n",
              "      <td>NaN</td>\n",
              "      <td>NaN</td>\n",
              "      <td>NaN</td>\n",
              "      <td>NaN</td>\n",
              "      <td>NaN</td>\n",
              "      <td>NaN</td>\n",
              "      <td>NaN</td>\n",
              "      <td>NaN</td>\n",
              "      <td>NaN</td>\n",
              "    </tr>\n",
              "    <tr>\n",
              "      <th>1</th>\n",
              "      <td>DPH &gt;&gt; Trained-BERT</td>\n",
              "      <td>0.075710</td>\n",
              "      <td>0.770</td>\n",
              "      <td>0.173079</td>\n",
              "      <td>0.701995</td>\n",
              "      <td>6620.828306</td>\n",
              "      <td>36.0</td>\n",
              "      <td>14.0</td>\n",
              "      <td>0.001278</td>\n",
              "      <td>28.0</td>\n",
              "      <td>11.0</td>\n",
              "      <td>0.000851</td>\n",
              "      <td>36.0</td>\n",
              "      <td>14.0</td>\n",
              "      <td>0.010118</td>\n",
              "      <td>31.0</td>\n",
              "      <td>19.0</td>\n",
              "      <td>0.012156</td>\n",
              "    </tr>\n",
              "  </tbody>\n",
              "</table>\n",
              "</div>"
            ],
            "text/plain": [
              "                  name       map  ...  ndcg_cut.10 -  ndcg_cut.10 p-value\n",
              "0                  DPH  0.068056  ...            NaN                  NaN\n",
              "1  DPH >> Trained-BERT  0.075710  ...           19.0             0.012156\n",
              "\n",
              "[2 rows x 18 columns]"
            ]
          },
          "metadata": {},
          "execution_count": 13
        }
      ]
    },
    {
      "cell_type": "markdown",
      "metadata": {
        "id": "OtAxDQHyv4ON"
      },
      "source": [
        "Training helped a lot! We're able to improve upon the initial ranking from `BatchRetrieve`. However, from looking at `mrt` we can see that this is pretty slow to run--and this was using a GPU! This performance time underscores the trade-off in using large language models at retrieval time: they may perform better, but could be much slower."
      ]
    },
    {
      "cell_type": "markdown",
      "metadata": {
        "id": "owlkHkNWG6Wq"
      },
      "source": [
        "# Deep learning at indexing time: doc2query\n",
        "\n",
        "Instead of using our large language models to rerank, another option is to use them at _indexing time_ to augment our documents. In class, we discussed one such option, doc2query, that augments an inverted index structure by predicting queries that may be used to search for the document, and appending those to the document text.\n",
        "\n",
        "We can use doc2query using the `pyterrier_doc2query` package, which was loaded at the top."
      ]
    },
    {
      "cell_type": "markdown",
      "metadata": {
        "id": "6h9ap7BeG6Wq"
      },
      "source": [
        "### Loading a pre-trained model\n",
        "\n",
        "We'll start by using a version of the doc2query model released by the authors that is trained on the MS MARCO collection."
      ]
    },
    {
      "cell_type": "code",
      "metadata": {
        "id": "fDHR91TmG6Wq",
        "colab": {
          "base_uri": "https://localhost:8080/"
        },
        "outputId": "76f2852f-0332-45cf-e9b5-b579d405094b"
      },
      "source": [
        "if not os.path.exists(\"t5-base.zip\"):\n",
        "  !wget http://jurgens.people.si.umich.edu/ir/t5-base.zip\n",
        "  !unzip t5-base.zip"
      ],
      "execution_count": null,
      "outputs": [
        {
          "output_type": "stream",
          "name": "stdout",
          "text": [
            "--2021-11-22 23:47:29--  http://jurgens.people.si.umich.edu/ir/t5-base.zip\n",
            "Resolving jurgens.people.si.umich.edu (jurgens.people.si.umich.edu)... 141.211.184.98\n",
            "Connecting to jurgens.people.si.umich.edu (jurgens.people.si.umich.edu)|141.211.184.98|:80... connected.\n",
            "HTTP request sent, awaiting response... 200 OK\n",
            "Length: 357139559 (341M) [application/zip]\n",
            "Saving to: ‘t5-base.zip’\n",
            "\n",
            "t5-base.zip         100%[===================>] 340.59M  48.9MB/s    in 7.8s    \n",
            "\n",
            "2021-11-22 23:47:37 (43.9 MB/s) - ‘t5-base.zip’ saved [357139559/357139559]\n",
            "\n",
            "Archive:  t5-base.zip\n",
            "  inflating: model.ckpt-1004000.data-00000-of-00002  \n",
            "  inflating: model.ckpt-1004000.data-00001-of-00002  \n",
            "  inflating: model.ckpt-1004000.index  \n",
            "  inflating: model.ckpt-1004000.meta  \n"
          ]
        }
      ]
    },
    {
      "cell_type": "markdown",
      "metadata": {
        "id": "8426Fn9wG6Wq"
      },
      "source": [
        "We can load the model weights by specifying the checkpoint."
      ]
    },
    {
      "cell_type": "code",
      "metadata": {
        "id": "gk9VntjlG6Wq",
        "colab": {
          "base_uri": "https://localhost:8080/",
          "height": 130,
          "referenced_widgets": [
            "cc353e6e35ad450da9050299be2ac74c",
            "a3d29ef27f4c4d0b84254c61536cf626",
            "099d4f67762e4950a6f7d3f2bb2c5271",
            "9fa9f8331cec4e34b32c03a901d3db7f",
            "6bb9f737ef424bc18e6eba4dd249a440",
            "12e7942447e748268b47ebda58e778da",
            "42b048a32b25431085255c6a1a39f1ec",
            "44f94770c54d4c17a5a791b0256eb9a4",
            "1506f149ea46410aab54002c499b3627",
            "d4f702447fda471baf6835971ee17f8d",
            "92623343af3e4a08a8e05c9cc18c5445",
            "650abb4343844b969cbdc5ccef2bf218",
            "64061baf4e1c4baf8f0ab94a8abd42ae",
            "5e0d5d47acfe4107b6122ee1b720717c",
            "17a78782c40d4fd88fe218c40e9220ae",
            "07c7ed585eff41dc81770799697c3271",
            "9ac1d77c50ff44b2b7cad01bbe8929b8",
            "5aa7535b2f8c43af8308d105de9df008",
            "9e0526ceccaf44ebba0777abffcb118b",
            "e090815a7cd1424b8ac39657c8268a41",
            "46e12142423a43e1a08c53769749fa9f",
            "026af9fca8f64f93b19c8ef4e694752c",
            "942b1ecfa82e462babfc8d2cd697450f",
            "f68b93e224e34afca4562e901c464b24",
            "be9593bc983c435bad73172499ba923d",
            "a57fb8bfc96740bf8aef90471db4e835",
            "3c73cc842087414ba956c3e4922d1d3f",
            "e669b1a8d9ee4d99ac046cf3a549ad1e",
            "f849c656220a4389a54a0a37381014d5",
            "04f6eb5ba62b41db8bb412d3f3b684cb",
            "9eb58c36b8f347f385671d806c26399b",
            "86d87450215b4d008f77b1244e736cd4",
            "8f8ae9581a504ada9ba9c1fcbe65012a"
          ]
        },
        "outputId": "646c6d31-35f6-4b5d-af09-3931fa999095"
      },
      "source": [
        "doc2query = pyterrier_doc2query.Doc2Query('model.ckpt-1004000', batch_size=8)"
      ],
      "execution_count": null,
      "outputs": [
        {
          "output_type": "display_data",
          "data": {
            "application/vnd.jupyter.widget-view+json": {
              "model_id": "cc353e6e35ad450da9050299be2ac74c",
              "version_minor": 0,
              "version_major": 2
            },
            "text/plain": [
              "Downloading:   0%|          | 0.00/773k [44ms<?, ?B/s]"
            ]
          },
          "metadata": {}
        },
        {
          "output_type": "display_data",
          "data": {
            "application/vnd.jupyter.widget-view+json": {
              "model_id": "650abb4343844b969cbdc5ccef2bf218",
              "version_minor": 0,
              "version_major": 2
            },
            "text/plain": [
              "Downloading:   0%|          | 0.00/1.32M [24ms<?, ?B/s]"
            ]
          },
          "metadata": {}
        },
        {
          "output_type": "display_data",
          "data": {
            "application/vnd.jupyter.widget-view+json": {
              "model_id": "942b1ecfa82e462babfc8d2cd697450f",
              "version_minor": 0,
              "version_major": 2
            },
            "text/plain": [
              "Downloading:   0%|          | 0.00/1.17k [30ms<?, ?B/s]"
            ]
          },
          "metadata": {}
        },
        {
          "output_type": "stream",
          "name": "stdout",
          "text": [
            "Doc2query using cuda\n"
          ]
        }
      ]
    },
    {
      "cell_type": "markdown",
      "metadata": {
        "id": "HQ5JGuleG6Wr"
      },
      "source": [
        "### Running doc2queries on sample text\n",
        "\n",
        "Let's see what queries it predicts for the sample document that we've made up:"
      ]
    },
    {
      "cell_type": "code",
      "metadata": {
        "id": "77zi8fbXG6Wr",
        "colab": {
          "base_uri": "https://localhost:8080/",
          "height": 69
        },
        "outputId": "0bdca474-2de4-4ba4-947f-cf579eab9f9c"
      },
      "source": [
        "df = pd.DataFrame([{\"docno\" : \"d1\", \"text\" :\"The University of Michigan School of Information (UMSI) delivers innovative, elegant and ethical solutions connecting people, information and technology. The school was one of the first iSchools in the nation and is the premier institution studying and using technology to improve human computer interactions.\"}])\n",
        "df.iloc[0].text"
      ],
      "execution_count": null,
      "outputs": [
        {
          "output_type": "execute_result",
          "data": {
            "application/vnd.google.colaboratory.intrinsic+json": {
              "type": "string"
            },
            "text/plain": [
              "'The University of Michigan School of Information (UMSI) delivers innovative, elegant and ethical solutions connecting people, information and technology. The school was one of the first iSchools in the nation and is the premier institution studying and using technology to improve human computer interactions.'"
            ]
          },
          "metadata": {},
          "execution_count": 16
        }
      ]
    },
    {
      "cell_type": "code",
      "metadata": {
        "id": "wd0aZDWCG6Wr",
        "colab": {
          "base_uri": "https://localhost:8080/",
          "height": 35
        },
        "outputId": "f96e98d8-e115-4123-a13e-ec5e0e9aad15"
      },
      "source": [
        "doc2query_df = doc2query(df)\n",
        "doc2query_df.iloc[0].querygen"
      ],
      "execution_count": null,
      "outputs": [
        {
          "output_type": "execute_result",
          "data": {
            "application/vnd.google.colaboratory.intrinsic+json": {
              "type": "string"
            },
            "text/plain": [
              "'what is umsi university of michigan school of information what is umsi'"
            ]
          },
          "metadata": {},
          "execution_count": 17
        }
      ]
    },
    {
      "cell_type": "markdown",
      "metadata": {
        "id": "lTEoeyQaG6Wr"
      },
      "source": [
        "Not too bad, though the questions are somewhat generic"
      ]
    },
    {
      "cell_type": "markdown",
      "metadata": {
        "id": "LSpd_I_-G6Ws"
      },
      "source": [
        "### Loading an index of doc2query documents\n",
        "\n",
        "Let's see how doc2query does on improving the performance in the TREC COVID data. Since indexing with doc2query takes a while (due to needing to run the deep learning models), we've provided an index with the text already added.\n",
        "\n",
        "If you would like to index the collection with doc2query yourself (or use doc2query for your course project), you can use the following code:\n",
        "\n",
        "```python\n",
        "dataset = pt.get_dataset(\"irds:cord19/trec-covid\")\n",
        "indexer = (\n",
        "  pyterrier_doc2query.Doc2Query('model.ckpt-1004000', doc_attr='abstract', batch_size=8, append=True) # aply doc2query on abstracts and append\n",
        "  >> pt.apply.generic(lambda df: df.rename(columns={'abstract': 'text'}) # rename \"abstract\" column to \"text\" for indexing\n",
        "  >> pt.IterDictIndexer(\"./doc2query_index_path\")) # index the expanded documents\n",
        "indexref = indexer.index(dataset.get_corpus_iter())\n",
        "```\n"
      ]
    },
    {
      "cell_type": "code",
      "metadata": {
        "id": "FsetEtOCG6Ws",
        "colab": {
          "base_uri": "https://localhost:8080/"
        },
        "outputId": "e5b7051b-0d45-4690-dc2e-01670b1e0322"
      },
      "source": [
        "if not os.path.exists('doc2query_marco_cord19.zip'):\n",
        "  !wget http://jurgens.people.si.umich.edu/ir/doc2query_marco_cord19.zip\n",
        "  !unzip doc2query_marco_cord19.zip\n",
        "doc2query_indexref = pt.IndexRef.of('./doc2query_index_path/data.properties')"
      ],
      "execution_count": null,
      "outputs": [
        {
          "output_type": "stream",
          "name": "stdout",
          "text": [
            "--2021-11-22 23:47:53--  http://jurgens.people.si.umich.edu/ir/doc2query_marco_cord19.zip\n",
            "Resolving jurgens.people.si.umich.edu (jurgens.people.si.umich.edu)... 141.211.184.98\n",
            "Connecting to jurgens.people.si.umich.edu (jurgens.people.si.umich.edu)|141.211.184.98|:80... connected.\n",
            "HTTP request sent, awaiting response... 200 OK\n",
            "Length: 45804576 (44M) [application/zip]\n",
            "Saving to: ‘doc2query_marco_cord19.zip’\n",
            "\n",
            "doc2query_marco_cor 100%[===================>]  43.68M  58.3MB/s    in 0.7s    \n",
            "\n",
            "2021-11-22 23:47:55 (58.3 MB/s) - ‘doc2query_marco_cord19.zip’ saved [45804576/45804576]\n",
            "\n",
            "Archive:  doc2query_marco_cord19.zip\n",
            "   creating: doc2query_index_path/\n",
            "  inflating: doc2query_index_path/data.document.fsarrayfile  \n",
            "  inflating: doc2query_index_path/data.inverted.bf  \n",
            "  inflating: doc2query_index_path/data.direct.bf  \n",
            "  inflating: doc2query_index_path/data.lexicon.fsomapid  \n",
            "  inflating: doc2query_index_path/data.lexicon.fsomaphash  \n",
            "  inflating: doc2query_index_path/data.lexicon.fsomapfile  \n",
            "  inflating: doc2query_index_path/data.meta.zdata  \n",
            "  inflating: doc2query_index_path/data.properties  \n",
            "  inflating: doc2query_index_path/data.meta.idx  \n"
          ]
        }
      ]
    },
    {
      "cell_type": "markdown",
      "metadata": {
        "id": "rQhRD1g2G6Ws"
      },
      "source": [
        "Let's look at the results on TREC COVID by first merging the scores with the rankings"
      ]
    },
    {
      "cell_type": "code",
      "metadata": {
        "id": "48shJhpxG6Wt",
        "colab": {
          "base_uri": "https://localhost:8080/",
          "height": 291
        },
        "outputId": "310d2dd1-9f75-42ee-a7e8-c9192ab0f949"
      },
      "source": [
        "dataset = pt.get_dataset('irds:cord19/trec-covid')\n",
        "pipeline = pt.BatchRetrieve(doc2query_indexref) % 1 >> pt.text.get_text(dataset, 'title')\n",
        "res = pipeline(dataset.get_topics('title'))\n",
        "res.merge(dataset.get_qrels(), how='left').head()"
      ],
      "execution_count": null,
      "outputs": [
        {
          "output_type": "execute_result",
          "data": {
            "text/html": [
              "<div>\n",
              "<style scoped>\n",
              "    .dataframe tbody tr th:only-of-type {\n",
              "        vertical-align: middle;\n",
              "    }\n",
              "\n",
              "    .dataframe tbody tr th {\n",
              "        vertical-align: top;\n",
              "    }\n",
              "\n",
              "    .dataframe thead th {\n",
              "        text-align: right;\n",
              "    }\n",
              "</style>\n",
              "<table border=\"1\" class=\"dataframe\">\n",
              "  <thead>\n",
              "    <tr style=\"text-align: right;\">\n",
              "      <th></th>\n",
              "      <th>qid</th>\n",
              "      <th>docid</th>\n",
              "      <th>docno</th>\n",
              "      <th>rank</th>\n",
              "      <th>score</th>\n",
              "      <th>query</th>\n",
              "      <th>title</th>\n",
              "      <th>label</th>\n",
              "      <th>iteration</th>\n",
              "    </tr>\n",
              "  </thead>\n",
              "  <tbody>\n",
              "    <tr>\n",
              "      <th>0</th>\n",
              "      <td>1</td>\n",
              "      <td>101299</td>\n",
              "      <td>jwmrgy5d</td>\n",
              "      <td>0</td>\n",
              "      <td>8.427298</td>\n",
              "      <td>coronavirus origin</td>\n",
              "      <td>COVID-19 in the heart and the lungs: could we ...</td>\n",
              "      <td>0.0</td>\n",
              "      <td>5</td>\n",
              "    </tr>\n",
              "    <tr>\n",
              "      <th>1</th>\n",
              "      <td>2</td>\n",
              "      <td>182167</td>\n",
              "      <td>g8grcy5j</td>\n",
              "      <td>0</td>\n",
              "      <td>13.922648</td>\n",
              "      <td>coronavirus response to weather changes</td>\n",
              "      <td>The Stirling Protocol – Putting the environmen...</td>\n",
              "      <td>0.0</td>\n",
              "      <td>4</td>\n",
              "    </tr>\n",
              "    <tr>\n",
              "      <th>2</th>\n",
              "      <td>3</td>\n",
              "      <td>85678</td>\n",
              "      <td>tl30wlpy</td>\n",
              "      <td>0</td>\n",
              "      <td>7.224180</td>\n",
              "      <td>coronavirus immunity</td>\n",
              "      <td>Receptor-dependent coronavirus infection of de...</td>\n",
              "      <td>NaN</td>\n",
              "      <td>NaN</td>\n",
              "    </tr>\n",
              "    <tr>\n",
              "      <th>3</th>\n",
              "      <td>4</td>\n",
              "      <td>145871</td>\n",
              "      <td>l5fxswfz</td>\n",
              "      <td>0</td>\n",
              "      <td>12.773362</td>\n",
              "      <td>how do people die from the coronavirus</td>\n",
              "      <td>Analysis on 54 Mortality Cases of Coronavirus ...</td>\n",
              "      <td>2.0</td>\n",
              "      <td>1.5</td>\n",
              "    </tr>\n",
              "    <tr>\n",
              "      <th>4</th>\n",
              "      <td>5</td>\n",
              "      <td>180990</td>\n",
              "      <td>3sepefqa</td>\n",
              "      <td>0</td>\n",
              "      <td>12.995980</td>\n",
              "      <td>animal models of covid 19</td>\n",
              "      <td>Current global vaccine and drug efforts agains...</td>\n",
              "      <td>0.0</td>\n",
              "      <td>4</td>\n",
              "    </tr>\n",
              "  </tbody>\n",
              "</table>\n",
              "</div>"
            ],
            "text/plain": [
              "  qid   docid  ... label  iteration\n",
              "0   1  101299  ...   0.0          5\n",
              "1   2  182167  ...   0.0          4\n",
              "2   3   85678  ...   NaN        NaN\n",
              "3   4  145871  ...   2.0        1.5\n",
              "4   5  180990  ...   0.0          4\n",
              "\n",
              "[5 rows x 9 columns]"
            ]
          },
          "metadata": {},
          "execution_count": 19
        }
      ]
    },
    {
      "cell_type": "markdown",
      "metadata": {
        "id": "0nNWK9cEG6Wt"
      },
      "source": [
        "What kind of queries does doc2query generate for the CORD19 documents?"
      ]
    },
    {
      "cell_type": "code",
      "metadata": {
        "id": "Sd7rKoVTG6Wt",
        "colab": {
          "base_uri": "https://localhost:8080/",
          "height": 172,
          "referenced_widgets": [
            "ddee9eb6dbc641e5aef9156a4431ae5c",
            "09b6e1c9e8a84eb78cff42c3ecfc4534",
            "b485333e5e1d4330b6498632c41d6425",
            "49945d0d43a4426782e4f3b4e7e56066",
            "fb23dda0f22b40069757845f5bd2ff7c",
            "d004971f9bda4a34ae4ab75c63e95b6d",
            "4c6d553b72664f3a916620aa5ca3fcf6",
            "80e73c99ec104a8f9cdde6ecd2775262",
            "a30b71e7b6bf4f8888233ebc00aa9b25",
            "c454995a9e1d4501a6cec1c8f27b4372",
            "f0ec810cc5a4498b9a99da072c1c9101"
          ]
        },
        "outputId": "6d43844b-8ba2-4ad5-d2f8-b03952794098"
      },
      "source": [
        "df = pd.DataFrame(doc for doc in dataset.get_corpus_iter() if doc['docno'] in ('3sepefqa', 'l5fxswfz'))\n",
        "df = df.rename(columns={'abstract': 'text'})\n",
        "doc2query_df = doc2query(df)\n",
        "for querygen, docno, text in zip(doc2query_df['querygen'], doc2query_df['docno'], df['text']):\n",
        "    print(docno)\n",
        "    print(querygen)\n",
        "    print(text)"
      ],
      "execution_count": null,
      "outputs": [
        {
          "output_type": "display_data",
          "data": {
            "application/vnd.jupyter.widget-view+json": {
              "model_id": "ddee9eb6dbc641e5aef9156a4431ae5c",
              "version_minor": 0,
              "version_major": 2
            },
            "text/plain": [
              "cord19/trec-covid documents:   0%|          | 0/192509 [23ms<?, ?it/s]"
            ]
          },
          "metadata": {}
        },
        {
          "output_type": "stream",
          "name": "stdout",
          "text": [
            "l5fxswfz\n",
            "what is the current number of cases of coronavirus disease worldwide? how many coronavirus cases in the world how many coronaviruses are there\n",
            "Since the identification of the first case of coronavirus disease 2019 (COVID-19), the global number of confirmed cases as of March 15, 2020, is 156,400, with total death in 5,833 (3.7%) worldwide. Here, we summarize the morality data from February 19 when the first mortality occurred to 0 am, March 10, 2020, in Korea with comparison to other countries. The overall case fatality rate of COVID-19 in Korea was 0.7% as of 0 am, March 10, 2020.\n",
            "3sepefqa\n",
            "what is the medicine used for copid what is copid 19 medication what is the cure for the comid epidemic\n",
            "COVID-19 has become one of the biggest health concern, along with huge economic burden. With no clear remedies to treat the disease, doctors are repurposing drugs like chloroquine and remdesivir to treat COVID-19 patients. In parallel, research institutes in collaboration with biotech companies have identified strategies to use viral proteins as vaccine candidates for COVID-19. Although this looks promising, they still need to pass the test of challenge studies in animal models. As various models for SARS-CoV-2 are under testing phase, biotech companies have bypassed animal studies and moved to Phase I clinical trials. In view of the present outbreak, this looks a justified approach, but the problem is that in the absence of animal studies, we can never predict the outcomes in humans. Since animal models are critical for vaccine development and SARS-CoV-2 has different transmission dynamics, in this review we compare different animal models of SARS-CoV-2 with humans for their pathogenic, immune response and transmission dynamics that make them ideal models for vaccine testing for COVID-19. Another issue of using animal model is the ethics of using animals for research; thus, we also discuss the pros and cons of using animals for vaccine development studies.\n"
          ]
        }
      ]
    },
    {
      "cell_type": "markdown",
      "metadata": {
        "id": "InB0sNk-G6Wt"
      },
      "source": [
        "## Evaluating the effects of doc2query\n",
        "\n",
        "Here, we'll change our evaluation setup a bit from what we did before. Rather than compare two models for the same index, we'll instead compare the same model (BM25) with two different ways of indexing (two indices)! Our baseline will be an index of CORD19 without the doc2query additions.\n",
        "\n",
        "Let's load a copy of the CORD19 index that we used earlier."
      ]
    },
    {
      "cell_type": "code",
      "metadata": {
        "id": "40xEUFtzG6Wt"
      },
      "source": [
        "indexref = pt.IndexRef.of('./terrier_cord19/data.properties')"
      ],
      "execution_count": null,
      "outputs": []
    },
    {
      "cell_type": "markdown",
      "metadata": {
        "id": "B-DPvrAzG6Wt"
      },
      "source": [
        "### Task 2: Write the `Experiment` to compare indices (3 points)\n",
        "Run an `Experiment` using a `BM25` ranker that compares the indices `indexref` and `doc2query_indexref`. Compare your models using MAP, NDCG, and NDCG@10. Note that our doc2query model was trained on MS MARCO, which isn't the same kind of collection as CORD19, so this performance tells us how well that model can transfer to a new setting."
      ]
    },
    {
      "cell_type": "code",
      "metadata": {
        "id": "Z8MYaOvtG6Wu",
        "colab": {
          "base_uri": "https://localhost:8080/",
          "height": 111
        },
        "outputId": "ee0cb5c3-0753-4ce6-9596-fa0c7648f20a"
      },
      "source": [
        "pt.Experiment(\n",
        "    [pt.BatchRetrieve(doc2query_indexref, wmodel='BM25'), pt.BatchRetrieve(indexref, wmodel='BM25')],\n",
        "    topics,\n",
        "    qrels,\n",
        "    eval_metrics=[\"map\", \"ndcg\", \"ndcg_cut_10\"])"
      ],
      "execution_count": null,
      "outputs": [
        {
          "output_type": "execute_result",
          "data": {
            "text/html": [
              "<div>\n",
              "<style scoped>\n",
              "    .dataframe tbody tr th:only-of-type {\n",
              "        vertical-align: middle;\n",
              "    }\n",
              "\n",
              "    .dataframe tbody tr th {\n",
              "        vertical-align: top;\n",
              "    }\n",
              "\n",
              "    .dataframe thead th {\n",
              "        text-align: right;\n",
              "    }\n",
              "</style>\n",
              "<table border=\"1\" class=\"dataframe\">\n",
              "  <thead>\n",
              "    <tr style=\"text-align: right;\">\n",
              "      <th></th>\n",
              "      <th>name</th>\n",
              "      <th>map</th>\n",
              "      <th>ndcg</th>\n",
              "      <th>ndcg_cut_10</th>\n",
              "    </tr>\n",
              "  </thead>\n",
              "  <tbody>\n",
              "    <tr>\n",
              "      <th>0</th>\n",
              "      <td>BR(BM25)</td>\n",
              "      <td>0.196293</td>\n",
              "      <td>0.412673</td>\n",
              "      <td>0.623652</td>\n",
              "    </tr>\n",
              "    <tr>\n",
              "      <th>1</th>\n",
              "      <td>BR(BM25)</td>\n",
              "      <td>0.195498</td>\n",
              "      <td>0.411103</td>\n",
              "      <td>0.644463</td>\n",
              "    </tr>\n",
              "  </tbody>\n",
              "</table>\n",
              "</div>"
            ],
            "text/plain": [
              "       name       map      ndcg  ndcg_cut_10\n",
              "0  BR(BM25)  0.196293  0.412673     0.623652\n",
              "1  BR(BM25)  0.195498  0.411103     0.644463"
            ]
          },
          "metadata": {},
          "execution_count": 22
        }
      ]
    },
    {
      "cell_type": "markdown",
      "metadata": {
        "id": "DSpWrUv9G6Wu"
      },
      "source": [
        "# Task 3: Train a new model! (25 points)\n",
        "\n",
        "All of the prior exercises have had you working with either off-the-shelf models (not trained for IR) or models that someone else has trained for you. To give you a sense of how to train a model, your primary task in this notebook is to train a simple `knrm` model, which should be relatively efficient to train on a GPU. \n",
        "\n",
        "To keep things simple, we'll use the same setup for CORD19 that we did in Part 2 (30 queries in train, 5 in dev, 15 queries in test) which is still relatively small for training a deep learning model but will get you started on the process. \n",
        "\n",
        "Your tasks are the following:\n",
        "- Load the CORD19 dataset and split it into train, dev, and test\n",
        "- Create a new `knrm` ranker and a pipeline that uses it\n",
        "- Run an `Experiment` comparing four models:\n",
        "  - a default `BatchRetrieve`, filtering to the top 100 results\n",
        "  - BM25, filtering to the top 100 results\n",
        "  - a pipeline that feeds the top 100 results of the default `BatchRetrieve` to your `knrm` model\n",
        "  - a pipeline that feeds the top 100 results of BM25 to your `knrm` model\n",
        "  \n",
        "Your `Experiment` should evaluate models using MAP, NDCG, NDCG@10, Precision@10, and Mean Response Time.\n",
        "  \n",
        "We expect to see the `Experiment`'s results in the final cell. You are, of course, welcome to try training any of the fancier models to see how they do as well!"
      ]
    },
    {
      "cell_type": "code",
      "metadata": {
        "id": "N3P_RlpIG6Wu"
      },
      "source": [
        "topics = dataset.get_topics(variant='title')\n",
        "qrels = dataset.get_qrels()"
      ],
      "execution_count": 6,
      "outputs": []
    },
    {
      "cell_type": "code",
      "metadata": {
        "id": "9W9_t_SAGgBp"
      },
      "source": [
        "from sklearn.model_selection import train_test_split\n",
        "\n",
        "tr_va_topics, test_topics = train_test_split(topics, test_size=15, random_state=42)\n",
        "train_topics, valid_topics =  train_test_split(tr_va_topics, test_size=5, random_state=42)"
      ],
      "execution_count": 7,
      "outputs": []
    },
    {
      "cell_type": "code",
      "metadata": {
        "id": "w4CTMcnEL77s",
        "colab": {
          "base_uri": "https://localhost:8080/"
        },
        "outputId": "e01b175c-9a5f-48a5-a224-7375c3ac400f"
      },
      "source": [
        "knrm = onir_pt.reranker.from_checkpoint('http://jurgens.people.si.umich.edu/ir/knrm.medmarco.tar.gz', text_field='abstract', \n",
        "                                        expected_md5=\"d70b1d4f899690dae51161537e69ed5a\")"
      ],
      "execution_count": 9,
      "outputs": [
        {
          "output_type": "stream",
          "name": "stdout",
          "text": [
            "config file not found: config\n"
          ]
        },
        {
          "output_type": "stream",
          "name": "stderr",
          "text": [
            "                                                                                                        "
          ]
        },
        {
          "output_type": "stream",
          "name": "stdout",
          "text": [
            "\u001b[02;37m[2021-11-23 02:01:51,751][onir.util.download][DEBUG] \u001b[0m\u001b[37mdownloaded http://jurgens.people.si.umich.edu/ir/knrm.medmarco.tar.gz [45ms] [1.43k] [31.7kB/s] [md5 hash verified]\u001b[0m\n",
            "\u001b[02;37m[2021-11-23 02:01:51,773][WordvecHashVocab][DEBUG] \u001b[0m\u001b[37m[starting] downloading https://dl.fbaipublicfiles.com/fasttext/vectors-english/wiki-news-300d-1M.vec.zip\u001b[0m\n"
          ]
        },
        {
          "output_type": "stream",
          "name": "stderr",
          "text": [
            ""
          ]
        },
        {
          "output_type": "stream",
          "name": "stdout",
          "text": [
            "\u001b[02;37m[2021-11-23 02:02:17,780][onir.util.download][WARNING] \u001b[0m\u001b[33mno hash provided for https://dl.fbaipublicfiles.com/fasttext/vectors-english/wiki-news-300d-1M.vec.zip; consider adding expected_md5=\"3cc8839ac3fa9a6187149b1e73328b2a\" to ensure data integrity.\u001b[0m\n",
            "\u001b[02;37m[2021-11-23 02:02:17,788][onir.util.download][DEBUG] \u001b[0m\u001b[37mdownloaded https://dl.fbaipublicfiles.com/fasttext/vectors-english/wiki-news-300d-1M.vec.zip [25.57s] [682M] [26.5MB/s]\u001b[0m\n",
            "\u001b[02;37m[2021-11-23 02:02:17,796][WordvecHashVocab][DEBUG] \u001b[0m\u001b[37m[finished] downloading https://dl.fbaipublicfiles.com/fasttext/vectors-english/wiki-news-300d-1M.vec.zip [26.02s]\u001b[0m\n",
            "\u001b[02;37m[2021-11-23 02:02:17,796][WordvecHashVocab][DEBUG] \u001b[0m\u001b[37m[starting] extracting vecs\u001b[0m\n",
            "\u001b[02;37m[2021-11-23 02:02:42,787][WordvecHashVocab][DEBUG] \u001b[0m\u001b[37m[finished] extracting vecs [24.99s]\u001b[0m\n",
            "\u001b[02;37m[2021-11-23 02:02:42,788][WordvecHashVocab][DEBUG] \u001b[0m\u001b[37m[starting] loading vecs into memory\u001b[0m\n",
            "\u001b[02;37m[2021-11-23 02:05:21,173][WordvecHashVocab][DEBUG] \u001b[0m\u001b[37m[finished] loading vecs into memory [02:38]\u001b[0m\n",
            "\u001b[02;37m[2021-11-23 02:05:21,358][WordvecHashVocab][DEBUG] \u001b[0m\u001b[37m[starting] writing cached at /root/data/onir/vocab/wordvec_hash/fasttext-wiki-news-300d-1M.p\u001b[0m\n",
            "\u001b[02;37m[2021-11-23 02:05:47,807][WordvecHashVocab][DEBUG] \u001b[0m\u001b[37m[finished] writing cached at /root/data/onir/vocab/wordvec_hash/fasttext-wiki-news-300d-1M.p [26.45s]\u001b[0m\n"
          ]
        }
      ]
    },
    {
      "cell_type": "code",
      "metadata": {
        "id": "HjmLQaUGhwyX"
      },
      "source": [
        "br = pt.BatchRetrieve(index) % 100\n",
        "bm25 = pt.BatchRetrieve(index, wmodel='BM25') % 100\n",
        "br_knrm = br >> pt.text.get_text(dataset, 'abstract') >> knrm\n",
        "bm25_knrm = bm25 >> pt.text.get_text(dataset, 'abstract') >> knrm"
      ],
      "execution_count": 13,
      "outputs": []
    },
    {
      "cell_type": "code",
      "metadata": {
        "colab": {
          "base_uri": "https://localhost:8080/",
          "height": 399,
          "referenced_widgets": [
            "b411c73bd69b446bbe423ddc444ea613",
            "5a4f665c430742f5b13c3e4e054b7c81",
            "848ab221db034be493bc75422ed13905",
            "4de6a83ccd724ac69a6a0a81314ee075",
            "4f81a0ca95dc47e6834b259ed80d8c04",
            "24d9486f46a44432a08c87aac043d024",
            "c277e7e0f3b54536a1071e616946c1e7",
            "513c292921bc4df198ac52e3aaa88153",
            "b949bc71696b4cb0acb492ea54246b9c",
            "d1ca892445d44dd19b8fd7e22df0b17a",
            "09d47d8d543a4767afba9fbb9c621672",
            "d9ea269de72e45dabc672358d47632c6",
            "94e4faf0ab844148a8212bb44bfda2a5",
            "98854c22dd4e40ea823ba2288e76bc14",
            "e361f9ad27ec41a99c02e1bd33544974",
            "3f298a93cfc24af284e20eec6295eb37",
            "d330b24ad72d42c1af40697a5b37991d",
            "41b1c6e6e285403b8d87e0a705dbd28d",
            "588476dcd8ad41dd8e2bc8651a744cb6",
            "1e1c24201eb540e185c1e353a3699e8e",
            "e82fa1250f9b493b98317e4a83996c5d",
            "79b32c08695943a5a069a42720f6f2f8"
          ]
        },
        "id": "6fhjaGlLjnow",
        "outputId": "8091f4cc-b8d2-4b3c-ab2d-318147999547"
      },
      "source": [
        "pt.Experiment(\n",
        "    [br, bm25, br_knrm, bm25_knrm],\n",
        "    valid_topics,\n",
        "    qrels,\n",
        "    names=['Default', 'BM25', 'Default >> KNRM', 'BM25 >> KNRM'],\n",
        "    baseline=0,\n",
        "    eval_metrics=[\"map\", \"ndcg\", 'ndcg_cut.10', 'P.10', 'mrt']\n",
        ")"
      ],
      "execution_count": 14,
      "outputs": [
        {
          "output_type": "stream",
          "name": "stderr",
          "text": [
            "[INFO] NumExpr defaulting to 2 threads.\n"
          ]
        },
        {
          "output_type": "stream",
          "name": "stdout",
          "text": [
            "\u001b[02;37m[2021-11-23 02:12:06,866][onir_pt][ERROR] \u001b[0m\u001b[31mgpu=True, but CUDA is not available. Falling back on CPU.\u001b[0m\n",
            "\u001b[02;37m[2021-11-23 02:12:06,882][onir_pt][DEBUG] \u001b[0m\u001b[37m[starting] batches\u001b[0m\n"
          ]
        },
        {
          "output_type": "display_data",
          "data": {
            "application/vnd.jupyter.widget-view+json": {
              "model_id": "b411c73bd69b446bbe423ddc444ea613",
              "version_minor": 0,
              "version_major": 2
            },
            "text/plain": [
              "batches:   0%|          | 0/125 [32ms<?, ?it/s]"
            ]
          },
          "metadata": {}
        },
        {
          "output_type": "stream",
          "name": "stdout",
          "text": [
            "\u001b[02;37m[2021-11-23 02:12:07,868][onir_pt][DEBUG] \u001b[0m\u001b[37m[finished] batches: [984ms] [125it] [126.98it/s]\u001b[0m\n",
            "\u001b[02;37m[2021-11-23 02:12:08,303][onir_pt][ERROR] \u001b[0m\u001b[31mgpu=True, but CUDA is not available. Falling back on CPU.\u001b[0m\n",
            "\u001b[02;37m[2021-11-23 02:12:08,304][onir_pt][DEBUG] \u001b[0m\u001b[37m[starting] batches\u001b[0m\n"
          ]
        },
        {
          "output_type": "display_data",
          "data": {
            "application/vnd.jupyter.widget-view+json": {
              "model_id": "d9ea269de72e45dabc672358d47632c6",
              "version_minor": 0,
              "version_major": 2
            },
            "text/plain": [
              "batches:   0%|          | 0/125 [23ms<?, ?it/s]"
            ]
          },
          "metadata": {}
        },
        {
          "output_type": "stream",
          "name": "stdout",
          "text": [
            "\u001b[02;37m[2021-11-23 02:12:08,976][onir_pt][DEBUG] \u001b[0m\u001b[37m[finished] batches: [671ms] [125it] [186.37it/s]\u001b[0m\n"
          ]
        },
        {
          "output_type": "execute_result",
          "data": {
            "text/html": [
              "<div>\n",
              "<style scoped>\n",
              "    .dataframe tbody tr th:only-of-type {\n",
              "        vertical-align: middle;\n",
              "    }\n",
              "\n",
              "    .dataframe tbody tr th {\n",
              "        vertical-align: top;\n",
              "    }\n",
              "\n",
              "    .dataframe thead th {\n",
              "        text-align: right;\n",
              "    }\n",
              "</style>\n",
              "<table border=\"1\" class=\"dataframe\">\n",
              "  <thead>\n",
              "    <tr style=\"text-align: right;\">\n",
              "      <th></th>\n",
              "      <th>name</th>\n",
              "      <th>map</th>\n",
              "      <th>P.10</th>\n",
              "      <th>ndcg</th>\n",
              "      <th>ndcg_cut.10</th>\n",
              "      <th>mrt</th>\n",
              "      <th>map +</th>\n",
              "      <th>map -</th>\n",
              "      <th>map p-value</th>\n",
              "      <th>P.10 +</th>\n",
              "      <th>P.10 -</th>\n",
              "      <th>P.10 p-value</th>\n",
              "      <th>ndcg +</th>\n",
              "      <th>ndcg -</th>\n",
              "      <th>ndcg p-value</th>\n",
              "      <th>ndcg_cut.10 +</th>\n",
              "      <th>ndcg_cut.10 -</th>\n",
              "      <th>ndcg_cut.10 p-value</th>\n",
              "    </tr>\n",
              "  </thead>\n",
              "  <tbody>\n",
              "    <tr>\n",
              "      <th>0</th>\n",
              "      <td>Default</td>\n",
              "      <td>0.118251</td>\n",
              "      <td>0.82</td>\n",
              "      <td>0.228417</td>\n",
              "      <td>0.773560</td>\n",
              "      <td>270.245959</td>\n",
              "      <td>NaN</td>\n",
              "      <td>NaN</td>\n",
              "      <td>NaN</td>\n",
              "      <td>NaN</td>\n",
              "      <td>NaN</td>\n",
              "      <td>NaN</td>\n",
              "      <td>NaN</td>\n",
              "      <td>NaN</td>\n",
              "      <td>NaN</td>\n",
              "      <td>NaN</td>\n",
              "      <td>NaN</td>\n",
              "      <td>NaN</td>\n",
              "    </tr>\n",
              "    <tr>\n",
              "      <th>1</th>\n",
              "      <td>BM25</td>\n",
              "      <td>0.115882</td>\n",
              "      <td>0.80</td>\n",
              "      <td>0.227022</td>\n",
              "      <td>0.741581</td>\n",
              "      <td>108.740266</td>\n",
              "      <td>2.0</td>\n",
              "      <td>3.0</td>\n",
              "      <td>0.684073</td>\n",
              "      <td>0.0</td>\n",
              "      <td>1.0</td>\n",
              "      <td>0.373901</td>\n",
              "      <td>2.0</td>\n",
              "      <td>3.0</td>\n",
              "      <td>0.801761</td>\n",
              "      <td>1.0</td>\n",
              "      <td>4.0</td>\n",
              "      <td>0.095643</td>\n",
              "    </tr>\n",
              "    <tr>\n",
              "      <th>2</th>\n",
              "      <td>Default &gt;&gt; KNRM</td>\n",
              "      <td>0.107604</td>\n",
              "      <td>0.70</td>\n",
              "      <td>0.219123</td>\n",
              "      <td>0.641592</td>\n",
              "      <td>318.768676</td>\n",
              "      <td>0.0</td>\n",
              "      <td>5.0</td>\n",
              "      <td>0.060864</td>\n",
              "      <td>0.0</td>\n",
              "      <td>2.0</td>\n",
              "      <td>0.208000</td>\n",
              "      <td>1.0</td>\n",
              "      <td>4.0</td>\n",
              "      <td>0.105601</td>\n",
              "      <td>1.0</td>\n",
              "      <td>4.0</td>\n",
              "      <td>0.222509</td>\n",
              "    </tr>\n",
              "    <tr>\n",
              "      <th>3</th>\n",
              "      <td>BM25 &gt;&gt; KNRM</td>\n",
              "      <td>0.112780</td>\n",
              "      <td>0.70</td>\n",
              "      <td>0.223038</td>\n",
              "      <td>0.636257</td>\n",
              "      <td>216.041404</td>\n",
              "      <td>1.0</td>\n",
              "      <td>4.0</td>\n",
              "      <td>0.247847</td>\n",
              "      <td>0.0</td>\n",
              "      <td>3.0</td>\n",
              "      <td>0.108701</td>\n",
              "      <td>1.0</td>\n",
              "      <td>4.0</td>\n",
              "      <td>0.327660</td>\n",
              "      <td>0.0</td>\n",
              "      <td>5.0</td>\n",
              "      <td>0.113137</td>\n",
              "    </tr>\n",
              "  </tbody>\n",
              "</table>\n",
              "</div>"
            ],
            "text/plain": [
              "              name       map  ...  ndcg_cut.10 -  ndcg_cut.10 p-value\n",
              "0          Default  0.118251  ...            NaN                  NaN\n",
              "1             BM25  0.115882  ...            4.0             0.095643\n",
              "2  Default >> KNRM  0.107604  ...            4.0             0.222509\n",
              "3     BM25 >> KNRM  0.112780  ...            5.0             0.113137\n",
              "\n",
              "[4 rows x 18 columns]"
            ]
          },
          "metadata": {},
          "execution_count": 14
        }
      ]
    }
  ]
}