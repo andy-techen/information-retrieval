{
 "cells": [
  {
   "cell_type": "markdown",
   "metadata": {},
   "source": [
    "# SI650 HW2\n",
    "### kaggle username: dershanchen (Andy Chen)"
   ]
  },
  {
   "cell_type": "code",
   "execution_count": null,
   "metadata": {
    "execution": {
     "iopub.execute_input": "2021-10-11T00:51:36.923524Z",
     "iopub.status.busy": "2021-10-11T00:51:36.922597Z",
     "iopub.status.idle": "2021-10-11T00:51:36.930085Z",
     "shell.execute_reply": "2021-10-11T00:51:36.929153Z",
     "shell.execute_reply.started": "2021-10-11T00:51:36.923472Z"
    },
    "scrolled": false
   },
   "outputs": [],
   "source": [
    "import os\n",
    "import json\n",
    "import numpy as np\n",
    "import pandas as pd"
   ]
  },
  {
   "cell_type": "markdown",
   "metadata": {},
   "source": [
    "## Loading Datasets"
   ]
  },
  {
   "cell_type": "code",
   "execution_count": null,
   "metadata": {
    "scrolled": true
   },
   "outputs": [],
   "source": [
    "!pip install kaggle"
   ]
  },
  {
   "cell_type": "code",
   "execution_count": null,
   "metadata": {
    "execution": {
     "iopub.execute_input": "2021-10-11T00:51:36.933240Z",
     "iopub.status.busy": "2021-10-11T00:51:36.932700Z",
     "iopub.status.idle": "2021-10-11T00:51:39.420207Z",
     "shell.execute_reply": "2021-10-11T00:51:39.419005Z",
     "shell.execute_reply.started": "2021-10-11T00:51:36.933198Z"
    }
   },
   "outputs": [],
   "source": [
    "# !mkdir /home/andy/.kaggle\n",
    "token = {\"username\":\"dershanchen\", \"key\":\"YOUR_USER_KEY\"}\n",
    "with open('kaggle.json', 'w') as file:\n",
    "    json.dump(token, file)\n",
    "\n",
    "!cp kaggle.json /home/andy/.kaggle/kaggle.json  # move to root\n",
    "\n",
    "!chmod 600 /home/andy/.kaggle/kaggle.json  # give user full read and write permission"
   ]
  },
  {
   "cell_type": "code",
   "execution_count": null,
   "metadata": {},
   "outputs": [],
   "source": [
    "!kaggle competitions download -c si-650eecs-549-ranker"
   ]
  },
  {
   "cell_type": "code",
   "execution_count": null,
   "metadata": {
    "execution": {
     "iopub.execute_input": "2021-10-11T00:51:39.422032Z",
     "iopub.status.busy": "2021-10-11T00:51:39.421748Z",
     "iopub.status.idle": "2021-10-11T00:51:41.075319Z",
     "shell.execute_reply": "2021-10-11T00:51:41.074235Z",
     "shell.execute_reply.started": "2021-10-11T00:51:39.421999Z"
    }
   },
   "outputs": [],
   "source": [
    "!kaggle competitions download -c si-650eecs-549-rankergaming"
   ]
  },
  {
   "cell_type": "code",
   "execution_count": null,
   "metadata": {
    "execution": {
     "iopub.execute_input": "2021-10-11T00:51:41.077185Z",
     "iopub.status.busy": "2021-10-11T00:51:41.076890Z",
     "iopub.status.idle": "2021-10-11T00:51:42.631984Z",
     "shell.execute_reply": "2021-10-11T00:51:42.631006Z",
     "shell.execute_reply.started": "2021-10-11T00:51:41.077149Z"
    }
   },
   "outputs": [],
   "source": [
    "!kaggle competitions download -c si-650eecs-549-rankerandroid"
   ]
  },
  {
   "cell_type": "code",
   "execution_count": null,
   "metadata": {
    "execution": {
     "iopub.execute_input": "2021-10-11T00:51:42.635377Z",
     "iopub.status.busy": "2021-10-11T00:51:42.634984Z",
     "iopub.status.idle": "2021-10-11T00:52:10.106713Z",
     "shell.execute_reply": "2021-10-11T00:52:10.105798Z",
     "shell.execute_reply.started": "2021-10-11T00:51:42.635329Z"
    }
   },
   "outputs": [],
   "source": [
    "!unzip si-650eecs-549-ranker.zip\n",
    "!unzip si-650eecs-549-rankergaming.zip\n",
    "!unzip si-650eecs-549-rankerandroid.zip"
   ]
  },
  {
   "cell_type": "code",
   "execution_count": null,
   "metadata": {
    "execution": {
     "iopub.execute_input": "2021-10-11T00:52:10.109207Z",
     "iopub.status.busy": "2021-10-11T00:52:10.108437Z",
     "iopub.status.idle": "2021-10-11T00:52:11.668274Z",
     "shell.execute_reply": "2021-10-11T00:52:11.667363Z",
     "shell.execute_reply.started": "2021-10-11T00:52:10.109156Z"
    }
   },
   "outputs": [],
   "source": [
    "trec_covid_d = pd.read_csv(\"documents.csv\")\n",
    "trec_covid_q = pd.read_csv(\"query.csv\")\n",
    "gaming_d = pd.read_csv(\"documents_gaming.csv\")\n",
    "gaming_q = pd.read_csv(\"query_gaming.csv\")\n",
    "android_d = pd.read_csv(\"documents_android.csv\")\n",
    "android_q = pd.read_csv(\"query_android.csv\")"
   ]
  },
  {
   "cell_type": "markdown",
   "metadata": {},
   "source": [
    "## Document Indexing"
   ]
  },
  {
   "cell_type": "code",
   "execution_count": null,
   "metadata": {
    "execution": {
     "iopub.execute_input": "2021-10-11T00:54:17.662509Z",
     "iopub.status.busy": "2021-10-11T00:54:17.662175Z",
     "iopub.status.idle": "2021-10-11T00:54:18.496836Z",
     "shell.execute_reply": "2021-10-11T00:54:18.496100Z",
     "shell.execute_reply.started": "2021-10-11T00:54:17.662473Z"
    }
   },
   "outputs": [],
   "source": [
    "# https://github.com/castorini/pyserini/blob/master/docs/installation.md\n",
    "# !conda create --yes -n si650\n",
    "# !conda activate si650\n",
    "# !conda install -c conda-forge openjdk=11\n",
    "# !pip install pyserini\n",
    "# !pip install transformers==4.6.0\n",
    "# !pip install onnxruntime\n",
    "# !conda install -c conda-forge pyjnius"
   ]
  },
  {
   "cell_type": "code",
   "execution_count": null,
   "metadata": {
    "execution": {
     "iopub.execute_input": "2021-10-11T00:52:29.299947Z",
     "iopub.status.busy": "2021-10-11T00:52:29.299243Z",
     "iopub.status.idle": "2021-10-11T00:52:29.312258Z",
     "shell.execute_reply": "2021-10-11T00:52:29.311077Z",
     "shell.execute_reply.started": "2021-10-11T00:52:29.299913Z"
    }
   },
   "outputs": [],
   "source": [
    "trec_covid_d.rename(columns={'DocumentId':'id'}, inplace=True)\n",
    "gaming_d.rename(columns={'DocumentId':'id'}, inplace=True)\n",
    "android_d.rename(columns={'DocumentId':'id'}, inplace=True)"
   ]
  },
  {
   "cell_type": "code",
   "execution_count": null,
   "metadata": {
    "execution": {
     "iopub.execute_input": "2021-10-11T00:52:29.315141Z",
     "iopub.status.busy": "2021-10-11T00:52:29.314010Z",
     "iopub.status.idle": "2021-10-11T00:52:29.762475Z",
     "shell.execute_reply": "2021-10-11T00:52:29.761464Z",
     "shell.execute_reply.started": "2021-10-11T00:52:29.315065Z"
    }
   },
   "outputs": [],
   "source": [
    "# add additional weight to title\n",
    "trec_covid_d['contents'] = trec_covid_d['Title'] + ' ' + trec_covid_d['Title'] + ' ' + trec_covid_d['Document Description']\n",
    "gaming_d['contents'] = gaming_d['Document Title'] + ' ' + gaming_d['Document Title'] + ' ' + gaming_d['Document Description']\n",
    "android_d['contents'] = android_d['Document Title'] + ' ' + android_d['Document Title'] + ' ' + android_d['Document Description']"
   ]
  },
  {
   "cell_type": "code",
   "execution_count": null,
   "metadata": {},
   "outputs": [],
   "source": [
    "# !mkdir trec_covid_json\n",
    "# !mkdir gaming_json\n",
    "# !mkdir android_json\n",
    "# !mkdir indexes"
   ]
  },
  {
   "cell_type": "code",
   "execution_count": null,
   "metadata": {
    "execution": {
     "iopub.execute_input": "2021-10-11T00:52:29.766855Z",
     "iopub.status.busy": "2021-10-11T00:52:29.766099Z",
     "iopub.status.idle": "2021-10-11T00:52:32.438604Z",
     "shell.execute_reply": "2021-10-11T00:52:32.437669Z",
     "shell.execute_reply.started": "2021-10-11T00:52:29.766799Z"
    }
   },
   "outputs": [],
   "source": [
    "trec_covid_json = trec_covid_d[['id', 'contents']].to_json(orient='records')\n",
    "trec_covid_parsed = json.loads(trec_covid_json)\n",
    "with open('trec_covid_json/trec_covid.json', 'w') as f:\n",
    "    for line in trec_covid_parsed:\n",
    "        json.dump(line, f, indent=2)\n",
    "        f.write('\\n')\n",
    "\n",
    "gaming_json = gaming_d[['id', 'contents']].to_json(orient='records')\n",
    "gaming_parsed = json.loads(gaming_json)\n",
    "with open('gaming_json/gaming.json', 'w') as f:\n",
    "    for line in gaming_parsed:\n",
    "        json.dump(line, f, indent=2)\n",
    "        f.write('\\n')\n",
    "\n",
    "android_json = android_d[['id', 'contents']].to_json(orient='records')\n",
    "android_parsed = json.loads(android_json)\n",
    "with open('android_json/android.json', 'w') as f:\n",
    "    for line in android_parsed:\n",
    "        json.dump(line, f, indent=2)\n",
    "        f.write('\\n')"
   ]
  },
  {
   "cell_type": "code",
   "execution_count": null,
   "metadata": {
    "execution": {
     "iopub.execute_input": "2021-10-11T00:52:57.703407Z",
     "iopub.status.busy": "2021-10-11T00:52:57.702267Z",
     "iopub.status.idle": "2021-10-11T00:53:01.431566Z",
     "shell.execute_reply": "2021-10-11T00:53:01.430335Z",
     "shell.execute_reply.started": "2021-10-11T00:52:57.703342Z"
    }
   },
   "outputs": [],
   "source": [
    "!python3 -m pyserini.index -collection JsonCollection \\\n",
    "                         -generator DefaultLuceneDocumentGenerator \\\n",
    "                         -threads 1 \\\n",
    "                         -input trec_covid_json \\\n",
    "                         -index indexes/trec_covid \\\n",
    "                         -storeDocvectors"
   ]
  },
  {
   "cell_type": "code",
   "execution_count": null,
   "metadata": {},
   "outputs": [],
   "source": [
    "!python3 -m pyserini.index -collection JsonCollection \\\n",
    "                         -generator DefaultLuceneDocumentGenerator \\\n",
    "                         -threads 1 \\\n",
    "                         -input gaming_json \\\n",
    "                         -index indexes/gaming \\\n",
    "                         -storeDocvectors"
   ]
  },
  {
   "cell_type": "code",
   "execution_count": null,
   "metadata": {},
   "outputs": [],
   "source": [
    "!python3 -m pyserini.index -collection JsonCollection \\\n",
    "                         -generator DefaultLuceneDocumentGenerator \\\n",
    "                         -threads 1 \\\n",
    "                         -input android_json \\\n",
    "                         -index indexes/android \\\n",
    "                         -storeDocvectors"
   ]
  },
  {
   "cell_type": "markdown",
   "metadata": {},
   "source": [
    "## Testing Custom Ranker"
   ]
  },
  {
   "cell_type": "code",
   "execution_count": null,
   "metadata": {},
   "outputs": [],
   "source": [
    "from pyserini.index import IndexReader\n",
    "index_reader = IndexReader(\"indexes/android\")"
   ]
  },
  {
   "cell_type": "markdown",
   "metadata": {},
   "source": [
    "I wanted to put three aspects into consideration in the custom ranker:\n",
    "1. term frequency, query term frequency, inverse document frequency as defined in other rankers\n",
    "2. term importance in collection (collection frequency)\n",
    "3. term position in query and document\n",
    "\n",
    "I decided to split the weighting measures into two main components, let's call them individual importance and collection importance. Paired importance includes tf, qtf, term position in query, and term position in document. These metrics target an individual queries or documents. Collection importance, on the other hand, includes idf and cf. Then, these two components are interpolated into a new model based on a lambda parameter.\n",
    "\n",
    "Additionally, I added smoothing throughout the function, but it definitely still needs a lot of tuning. The term position metrics could also be experimented further. Currently, I gave more importance to the terms at the end of queries (queries usually start with interrogative words, which aren't that useful) and those at the beginning of documents (I concatted the titles in front of the descriptions in the indexing process, so I assumed that titles have more importance). That being said, by utilizing interpolation and adding more features into consideration, I believe that this ranker could be more balanced than the other two ranking functions."
   ]
  },
  {
   "cell_type": "code",
   "execution_count": null,
   "metadata": {},
   "outputs": [],
   "source": [
    "def score(index_reader, query, doc_id, lmd=0.6, sm=0.2):  # lmd: lambda, sm: smoothing\n",
    "    '''\n",
    "    Scores the relevance of the document for the provided query using a\n",
    "    custom ranking method. Query is a tokenized list of query terms and doc_id\n",
    "    is a numeric identifier of which document in the index should be scored\n",
    "    for this query.\n",
    "    '''\n",
    "    rank_score = 0\n",
    "    \n",
    "    n_terms = index_reader.stats()[\"total_terms\"]\n",
    "    n_docs = index_reader.stats()[\"documents\"]\n",
    "    doc_vector = index_reader.get_document_vector(doc_id)\n",
    "    doc_positions = index_reader.get_term_positions(doc_id)\n",
    "\n",
    "    doc_query_set = set(query).intersection(doc_vector.keys())\n",
    "    doc_length = sum(doc_vector.values())\n",
    "    query_length = len(query)\n",
    "    query_position = {k: v for v, k in enumerate(query)}\n",
    "\n",
    "    for term in doc_query_set:\n",
    "        df, cf = index_reader.get_term_counts(term)\n",
    "\n",
    "        qtf = query.count(term)\n",
    "        tf = doc_vector[term]\n",
    "        \n",
    "        # term relative position\n",
    "        trp_q = query_position[term] / query_length  # give importance to end of query\n",
    "        trp_d = np.log(np.log(doc_length + 1) / np.log(np.mean(doc_positions[term]) + 1))  # give importance to start of document\n",
    "        \n",
    "        # collection importance\n",
    "        ci = (cf / n_terms) * (n_docs / df)\n",
    "        idf = np.log(n_docs / df)\n",
    "\n",
    "        term_score = lmd * (np.log(tf) / (qtf * trp_q * trp_d + sm)) + (1 - lmd) * (ci * idf + sm)\n",
    "\n",
    "        rank_score += term_score\n",
    "\n",
    "    return rank_score"
   ]
  },
  {
   "cell_type": "markdown",
   "metadata": {},
   "source": [
    "## Ranking Documents"
   ]
  },
  {
   "cell_type": "code",
   "execution_count": null,
   "metadata": {
    "scrolled": true
   },
   "outputs": [],
   "source": [
    "!python main.py plnr indexes/trec_covid query.csv"
   ]
  },
  {
   "cell_type": "code",
   "execution_count": null,
   "metadata": {},
   "outputs": [],
   "source": [
    "!kaggle competitions submit -c si-650eecs-549-ranker -f ranking_plnr.txt -m \"\""
   ]
  },
  {
   "cell_type": "code",
   "execution_count": null,
   "metadata": {},
   "outputs": [],
   "source": [
    "!python main.py bm25 indexes/gaming query_gaming.csv"
   ]
  },
  {
   "cell_type": "code",
   "execution_count": null,
   "metadata": {},
   "outputs": [],
   "source": [
    "!kaggle competitions submit -c si-650eecs-549-rankergaming -f ranking_bm25.txt -m \"\""
   ]
  },
  {
   "cell_type": "code",
   "execution_count": null,
   "metadata": {},
   "outputs": [],
   "source": [
    "!python main.py custom indexes/android query_android.csv"
   ]
  },
  {
   "cell_type": "code",
   "execution_count": null,
   "metadata": {},
   "outputs": [],
   "source": [
    "!kaggle competitions submit -c si-650eecs-549-rankerandroid -f ranking_custom.txt -m \"\""
   ]
  }
 ],
 "metadata": {
  "kernelspec": {
   "display_name": "Python 3",
   "language": "python",
   "name": "python3"
  },
  "language_info": {
   "codemirror_mode": {
    "name": "ipython",
    "version": 3
   },
   "file_extension": ".py",
   "mimetype": "text/x-python",
   "name": "python",
   "nbconvert_exporter": "python",
   "pygments_lexer": "ipython3",
   "version": "3.8.5"
  }
 },
 "nbformat": 4,
 "nbformat_minor": 4
}
